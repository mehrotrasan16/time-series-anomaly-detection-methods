{
 "cells": [
  {
   "cell_type": "markdown",
   "metadata": {
    "toc": true
   },
   "source": [
    "<h1>Table of Contents<span class=\"tocSkip\"></span></h1>\n",
    "<div class=\"toc\"><ul class=\"toc-item\"><li><span><a href=\"#Autoregression-modelling-of-Time-series-for-Outlier-detection\" data-toc-modified-id=\"Autoregression-modelling-of-Time-series-for-Outlier-detection-1\"><span class=\"toc-item-num\">1&nbsp;&nbsp;</span>Autoregression modelling of Time series for Outlier detection</a></span></li><li><span><a href=\"#Implementing-a-persistence-model\" data-toc-modified-id=\"Implementing-a-persistence-model-2\"><span class=\"toc-item-num\">2&nbsp;&nbsp;</span>Implementing a persistence model</a></span></li><li><span><a href=\"#AutoRegression-Model\" data-toc-modified-id=\"AutoRegression-Model-3\"><span class=\"toc-item-num\">3&nbsp;&nbsp;</span>AutoRegression Model</a></span></li><li><span><a href=\"#Simple-7-Day-forecast\" data-toc-modified-id=\"Simple-7-Day-forecast-4\"><span class=\"toc-item-num\">4&nbsp;&nbsp;</span>Simple 7 Day forecast</a></span></li><li><span><a href=\"#Really-bad-7-day-forecast,-using-history-and-model-coefficients\" data-toc-modified-id=\"Really-bad-7-day-forecast,-using-history-and-model-coefficients-5\"><span class=\"toc-item-num\">5&nbsp;&nbsp;</span>Really bad 7 day forecast, using history and model coefficients</a></span></li><li><span><a href=\"#AutoRegression-Code-from-MLM-on-Friday-17thJul2020\" data-toc-modified-id=\"AutoRegression-Code-from-MLM-on-Friday-17thJul2020-6\"><span class=\"toc-item-num\">6&nbsp;&nbsp;</span>AutoRegression Code from MLM on Friday 17thJul2020</a></span></li></ul></div>"
   ]
  },
  {
   "cell_type": "markdown",
   "metadata": {},
   "source": [
    "# Autoregression modelling of Time series for Outlier detection \n",
    "By Sanket Mehrotra\n",
    "\n",
    "Source Ref: https://machinelearningmastery.com/autoregression-models-time-series-forecasting-python/"
   ]
  },
  {
   "cell_type": "markdown",
   "metadata": {},
   "source": [
    "A regression model provides an output based on a linear combination of input values\n",
    "$$\n",
    "\\hat{y} = b_0 + b_1*X_1\n",
    "$$"
   ]
  },
  {
   "cell_type": "markdown",
   "metadata": {},
   "source": [
    "an AR model assumes autocorrelation"
   ]
  },
  {
   "cell_type": "markdown",
   "metadata": {},
   "source": [
    "The stronger the correlation between the output variable and a specific lagged variable, the **more weight** that autoregression model can put on that variable when modeling."
   ]
  },
  {
   "cell_type": "code",
   "execution_count": 1,
   "metadata": {},
   "outputs": [
    {
     "data": {
      "text/plain": [
       "'D:\\\\Temp\\\\time-series'"
      ]
     },
     "execution_count": 1,
     "metadata": {},
     "output_type": "execute_result"
    }
   ],
   "source": [
    "import os\n",
    "os.getcwd()"
   ]
  },
  {
   "cell_type": "code",
   "execution_count": 2,
   "metadata": {},
   "outputs": [
    {
     "ename": "FileNotFoundError",
     "evalue": "[Errno 2] File ./data/yahoo/dataset/ydata-labeled-time-series-anomalies-v1_0/A2Benchmark/synthetic_1.csv does not exist: './data/yahoo/dataset/ydata-labeled-time-series-anomalies-v1_0/A2Benchmark/synthetic_1.csv'",
     "output_type": "error",
     "traceback": [
      "\u001b[1;31m---------------------------------------------------------------------------\u001b[0m",
      "\u001b[1;31mFileNotFoundError\u001b[0m                         Traceback (most recent call last)",
      "\u001b[1;32m<ipython-input-2-7ff656a7f16e>\u001b[0m in \u001b[0;36m<module>\u001b[1;34m\u001b[0m\n\u001b[0;32m      1\u001b[0m \u001b[1;32mimport\u001b[0m \u001b[0mpandas\u001b[0m \u001b[1;32mas\u001b[0m \u001b[0mpd\u001b[0m\u001b[1;33m\u001b[0m\u001b[1;33m\u001b[0m\u001b[0m\n\u001b[0;32m      2\u001b[0m \u001b[1;32mimport\u001b[0m \u001b[0mmatplotlib\u001b[0m\u001b[1;33m.\u001b[0m\u001b[0mpyplot\u001b[0m \u001b[1;32mas\u001b[0m \u001b[0mplt\u001b[0m\u001b[1;33m\u001b[0m\u001b[1;33m\u001b[0m\u001b[0m\n\u001b[1;32m----> 3\u001b[1;33m \u001b[0mseries\u001b[0m \u001b[1;33m=\u001b[0m \u001b[0mpd\u001b[0m\u001b[1;33m.\u001b[0m\u001b[0mread_csv\u001b[0m\u001b[1;33m(\u001b[0m\u001b[1;34m'./data/yahoo/dataset/ydata-labeled-time-series-anomalies-v1_0/A2Benchmark/synthetic_1.csv'\u001b[0m\u001b[1;33m)\u001b[0m\u001b[1;33m\u001b[0m\u001b[1;33m\u001b[0m\u001b[0m\n\u001b[0m",
      "\u001b[1;32m~\\anaconda3\\lib\\site-packages\\pandas\\io\\parsers.py\u001b[0m in \u001b[0;36mparser_f\u001b[1;34m(filepath_or_buffer, sep, delimiter, header, names, index_col, usecols, squeeze, prefix, mangle_dupe_cols, dtype, engine, converters, true_values, false_values, skipinitialspace, skiprows, skipfooter, nrows, na_values, keep_default_na, na_filter, verbose, skip_blank_lines, parse_dates, infer_datetime_format, keep_date_col, date_parser, dayfirst, cache_dates, iterator, chunksize, compression, thousands, decimal, lineterminator, quotechar, quoting, doublequote, escapechar, comment, encoding, dialect, error_bad_lines, warn_bad_lines, delim_whitespace, low_memory, memory_map, float_precision)\u001b[0m\n\u001b[0;32m    674\u001b[0m         )\n\u001b[0;32m    675\u001b[0m \u001b[1;33m\u001b[0m\u001b[0m\n\u001b[1;32m--> 676\u001b[1;33m         \u001b[1;32mreturn\u001b[0m \u001b[0m_read\u001b[0m\u001b[1;33m(\u001b[0m\u001b[0mfilepath_or_buffer\u001b[0m\u001b[1;33m,\u001b[0m \u001b[0mkwds\u001b[0m\u001b[1;33m)\u001b[0m\u001b[1;33m\u001b[0m\u001b[1;33m\u001b[0m\u001b[0m\n\u001b[0m\u001b[0;32m    677\u001b[0m \u001b[1;33m\u001b[0m\u001b[0m\n\u001b[0;32m    678\u001b[0m     \u001b[0mparser_f\u001b[0m\u001b[1;33m.\u001b[0m\u001b[0m__name__\u001b[0m \u001b[1;33m=\u001b[0m \u001b[0mname\u001b[0m\u001b[1;33m\u001b[0m\u001b[1;33m\u001b[0m\u001b[0m\n",
      "\u001b[1;32m~\\anaconda3\\lib\\site-packages\\pandas\\io\\parsers.py\u001b[0m in \u001b[0;36m_read\u001b[1;34m(filepath_or_buffer, kwds)\u001b[0m\n\u001b[0;32m    446\u001b[0m \u001b[1;33m\u001b[0m\u001b[0m\n\u001b[0;32m    447\u001b[0m     \u001b[1;31m# Create the parser.\u001b[0m\u001b[1;33m\u001b[0m\u001b[1;33m\u001b[0m\u001b[1;33m\u001b[0m\u001b[0m\n\u001b[1;32m--> 448\u001b[1;33m     \u001b[0mparser\u001b[0m \u001b[1;33m=\u001b[0m \u001b[0mTextFileReader\u001b[0m\u001b[1;33m(\u001b[0m\u001b[0mfp_or_buf\u001b[0m\u001b[1;33m,\u001b[0m \u001b[1;33m**\u001b[0m\u001b[0mkwds\u001b[0m\u001b[1;33m)\u001b[0m\u001b[1;33m\u001b[0m\u001b[1;33m\u001b[0m\u001b[0m\n\u001b[0m\u001b[0;32m    449\u001b[0m \u001b[1;33m\u001b[0m\u001b[0m\n\u001b[0;32m    450\u001b[0m     \u001b[1;32mif\u001b[0m \u001b[0mchunksize\u001b[0m \u001b[1;32mor\u001b[0m \u001b[0miterator\u001b[0m\u001b[1;33m:\u001b[0m\u001b[1;33m\u001b[0m\u001b[1;33m\u001b[0m\u001b[0m\n",
      "\u001b[1;32m~\\anaconda3\\lib\\site-packages\\pandas\\io\\parsers.py\u001b[0m in \u001b[0;36m__init__\u001b[1;34m(self, f, engine, **kwds)\u001b[0m\n\u001b[0;32m    878\u001b[0m             \u001b[0mself\u001b[0m\u001b[1;33m.\u001b[0m\u001b[0moptions\u001b[0m\u001b[1;33m[\u001b[0m\u001b[1;34m\"has_index_names\"\u001b[0m\u001b[1;33m]\u001b[0m \u001b[1;33m=\u001b[0m \u001b[0mkwds\u001b[0m\u001b[1;33m[\u001b[0m\u001b[1;34m\"has_index_names\"\u001b[0m\u001b[1;33m]\u001b[0m\u001b[1;33m\u001b[0m\u001b[1;33m\u001b[0m\u001b[0m\n\u001b[0;32m    879\u001b[0m \u001b[1;33m\u001b[0m\u001b[0m\n\u001b[1;32m--> 880\u001b[1;33m         \u001b[0mself\u001b[0m\u001b[1;33m.\u001b[0m\u001b[0m_make_engine\u001b[0m\u001b[1;33m(\u001b[0m\u001b[0mself\u001b[0m\u001b[1;33m.\u001b[0m\u001b[0mengine\u001b[0m\u001b[1;33m)\u001b[0m\u001b[1;33m\u001b[0m\u001b[1;33m\u001b[0m\u001b[0m\n\u001b[0m\u001b[0;32m    881\u001b[0m \u001b[1;33m\u001b[0m\u001b[0m\n\u001b[0;32m    882\u001b[0m     \u001b[1;32mdef\u001b[0m \u001b[0mclose\u001b[0m\u001b[1;33m(\u001b[0m\u001b[0mself\u001b[0m\u001b[1;33m)\u001b[0m\u001b[1;33m:\u001b[0m\u001b[1;33m\u001b[0m\u001b[1;33m\u001b[0m\u001b[0m\n",
      "\u001b[1;32m~\\anaconda3\\lib\\site-packages\\pandas\\io\\parsers.py\u001b[0m in \u001b[0;36m_make_engine\u001b[1;34m(self, engine)\u001b[0m\n\u001b[0;32m   1112\u001b[0m     \u001b[1;32mdef\u001b[0m \u001b[0m_make_engine\u001b[0m\u001b[1;33m(\u001b[0m\u001b[0mself\u001b[0m\u001b[1;33m,\u001b[0m \u001b[0mengine\u001b[0m\u001b[1;33m=\u001b[0m\u001b[1;34m\"c\"\u001b[0m\u001b[1;33m)\u001b[0m\u001b[1;33m:\u001b[0m\u001b[1;33m\u001b[0m\u001b[1;33m\u001b[0m\u001b[0m\n\u001b[0;32m   1113\u001b[0m         \u001b[1;32mif\u001b[0m \u001b[0mengine\u001b[0m \u001b[1;33m==\u001b[0m \u001b[1;34m\"c\"\u001b[0m\u001b[1;33m:\u001b[0m\u001b[1;33m\u001b[0m\u001b[1;33m\u001b[0m\u001b[0m\n\u001b[1;32m-> 1114\u001b[1;33m             \u001b[0mself\u001b[0m\u001b[1;33m.\u001b[0m\u001b[0m_engine\u001b[0m \u001b[1;33m=\u001b[0m \u001b[0mCParserWrapper\u001b[0m\u001b[1;33m(\u001b[0m\u001b[0mself\u001b[0m\u001b[1;33m.\u001b[0m\u001b[0mf\u001b[0m\u001b[1;33m,\u001b[0m \u001b[1;33m**\u001b[0m\u001b[0mself\u001b[0m\u001b[1;33m.\u001b[0m\u001b[0moptions\u001b[0m\u001b[1;33m)\u001b[0m\u001b[1;33m\u001b[0m\u001b[1;33m\u001b[0m\u001b[0m\n\u001b[0m\u001b[0;32m   1115\u001b[0m         \u001b[1;32melse\u001b[0m\u001b[1;33m:\u001b[0m\u001b[1;33m\u001b[0m\u001b[1;33m\u001b[0m\u001b[0m\n\u001b[0;32m   1116\u001b[0m             \u001b[1;32mif\u001b[0m \u001b[0mengine\u001b[0m \u001b[1;33m==\u001b[0m \u001b[1;34m\"python\"\u001b[0m\u001b[1;33m:\u001b[0m\u001b[1;33m\u001b[0m\u001b[1;33m\u001b[0m\u001b[0m\n",
      "\u001b[1;32m~\\anaconda3\\lib\\site-packages\\pandas\\io\\parsers.py\u001b[0m in \u001b[0;36m__init__\u001b[1;34m(self, src, **kwds)\u001b[0m\n\u001b[0;32m   1889\u001b[0m         \u001b[0mkwds\u001b[0m\u001b[1;33m[\u001b[0m\u001b[1;34m\"usecols\"\u001b[0m\u001b[1;33m]\u001b[0m \u001b[1;33m=\u001b[0m \u001b[0mself\u001b[0m\u001b[1;33m.\u001b[0m\u001b[0musecols\u001b[0m\u001b[1;33m\u001b[0m\u001b[1;33m\u001b[0m\u001b[0m\n\u001b[0;32m   1890\u001b[0m \u001b[1;33m\u001b[0m\u001b[0m\n\u001b[1;32m-> 1891\u001b[1;33m         \u001b[0mself\u001b[0m\u001b[1;33m.\u001b[0m\u001b[0m_reader\u001b[0m \u001b[1;33m=\u001b[0m \u001b[0mparsers\u001b[0m\u001b[1;33m.\u001b[0m\u001b[0mTextReader\u001b[0m\u001b[1;33m(\u001b[0m\u001b[0msrc\u001b[0m\u001b[1;33m,\u001b[0m \u001b[1;33m**\u001b[0m\u001b[0mkwds\u001b[0m\u001b[1;33m)\u001b[0m\u001b[1;33m\u001b[0m\u001b[1;33m\u001b[0m\u001b[0m\n\u001b[0m\u001b[0;32m   1892\u001b[0m         \u001b[0mself\u001b[0m\u001b[1;33m.\u001b[0m\u001b[0munnamed_cols\u001b[0m \u001b[1;33m=\u001b[0m \u001b[0mself\u001b[0m\u001b[1;33m.\u001b[0m\u001b[0m_reader\u001b[0m\u001b[1;33m.\u001b[0m\u001b[0munnamed_cols\u001b[0m\u001b[1;33m\u001b[0m\u001b[1;33m\u001b[0m\u001b[0m\n\u001b[0;32m   1893\u001b[0m \u001b[1;33m\u001b[0m\u001b[0m\n",
      "\u001b[1;32mpandas\\_libs\\parsers.pyx\u001b[0m in \u001b[0;36mpandas._libs.parsers.TextReader.__cinit__\u001b[1;34m()\u001b[0m\n",
      "\u001b[1;32mpandas\\_libs\\parsers.pyx\u001b[0m in \u001b[0;36mpandas._libs.parsers.TextReader._setup_parser_source\u001b[1;34m()\u001b[0m\n",
      "\u001b[1;31mFileNotFoundError\u001b[0m: [Errno 2] File ./data/yahoo/dataset/ydata-labeled-time-series-anomalies-v1_0/A2Benchmark/synthetic_1.csv does not exist: './data/yahoo/dataset/ydata-labeled-time-series-anomalies-v1_0/A2Benchmark/synthetic_1.csv'"
     ]
    }
   ],
   "source": [
    "import pandas as pd\n",
    "import matplotlib.pyplot as plt\n",
    "series = pd.read_csv('./data/yahoo/dataset/ydata-labeled-time-series-anomalies-v1_0/A2Benchmark/synthetic_1.csv')"
   ]
  },
  {
   "cell_type": "code",
   "execution_count": 3,
   "metadata": {},
   "outputs": [
    {
     "data": {
      "text/html": [
       "<div>\n",
       "<style scoped>\n",
       "    .dataframe tbody tr th:only-of-type {\n",
       "        vertical-align: middle;\n",
       "    }\n",
       "\n",
       "    .dataframe tbody tr th {\n",
       "        vertical-align: top;\n",
       "    }\n",
       "\n",
       "    .dataframe thead th {\n",
       "        text-align: right;\n",
       "    }\n",
       "</style>\n",
       "<table border=\"1\" class=\"dataframe\">\n",
       "  <thead>\n",
       "    <tr style=\"text-align: right;\">\n",
       "      <th></th>\n",
       "      <th>timestamp</th>\n",
       "      <th>value</th>\n",
       "      <th>is_anomaly</th>\n",
       "    </tr>\n",
       "  </thead>\n",
       "  <tbody>\n",
       "    <tr>\n",
       "      <th>0</th>\n",
       "      <td>1416726000</td>\n",
       "      <td>13.894031</td>\n",
       "      <td>0</td>\n",
       "    </tr>\n",
       "    <tr>\n",
       "      <th>1</th>\n",
       "      <td>1416729600</td>\n",
       "      <td>33.578274</td>\n",
       "      <td>0</td>\n",
       "    </tr>\n",
       "    <tr>\n",
       "      <th>2</th>\n",
       "      <td>1416733200</td>\n",
       "      <td>88.933746</td>\n",
       "      <td>0</td>\n",
       "    </tr>\n",
       "    <tr>\n",
       "      <th>3</th>\n",
       "      <td>1416736800</td>\n",
       "      <td>125.389424</td>\n",
       "      <td>0</td>\n",
       "    </tr>\n",
       "    <tr>\n",
       "      <th>4</th>\n",
       "      <td>1416740400</td>\n",
       "      <td>152.962000</td>\n",
       "      <td>0</td>\n",
       "    </tr>\n",
       "  </tbody>\n",
       "</table>\n",
       "</div>"
      ],
      "text/plain": [
       "    timestamp       value  is_anomaly\n",
       "0  1416726000   13.894031           0\n",
       "1  1416729600   33.578274           0\n",
       "2  1416733200   88.933746           0\n",
       "3  1416736800  125.389424           0\n",
       "4  1416740400  152.962000           0"
      ]
     },
     "execution_count": 3,
     "metadata": {},
     "output_type": "execute_result"
    }
   ],
   "source": [
    "series.head()"
   ]
  },
  {
   "cell_type": "code",
   "execution_count": 4,
   "metadata": {},
   "outputs": [
    {
     "data": {
      "image/png": "[encoded data removed]",
      "text/plain": [
       "<Figure size 432x288 with 1 Axes>"
      ]
     },
     "metadata": {
      "needs_background": "light"
     },
     "output_type": "display_data"
    }
   ],
   "source": [
    "series['timestamp'] = pd.to_datetime(series['timestamp'],unit='s')#format='%f' if formatting required upto nanoseconds\n",
    "plt.plot_date(series['timestamp'],series['value'])\n",
    "plt.gcf().autofmt_xdate()"
   ]
  },
  {
   "cell_type": "code",
   "execution_count": 5,
   "metadata": {},
   "outputs": [
    {
     "data": {
      "text/html": [
       "<div>\n",
       "<style scoped>\n",
       "    .dataframe tbody tr th:only-of-type {\n",
       "        vertical-align: middle;\n",
       "    }\n",
       "\n",
       "    .dataframe tbody tr th {\n",
       "        vertical-align: top;\n",
       "    }\n",
       "\n",
       "    .dataframe thead th {\n",
       "        text-align: right;\n",
       "    }\n",
       "</style>\n",
       "<table border=\"1\" class=\"dataframe\">\n",
       "  <thead>\n",
       "    <tr style=\"text-align: right;\">\n",
       "      <th></th>\n",
       "      <th>value</th>\n",
       "      <th>is_anomaly</th>\n",
       "    </tr>\n",
       "    <tr>\n",
       "      <th>timestamp</th>\n",
       "      <th></th>\n",
       "      <th></th>\n",
       "    </tr>\n",
       "  </thead>\n",
       "  <tbody>\n",
       "    <tr>\n",
       "      <th>2014-11-23 07:00:00</th>\n",
       "      <td>13.894031</td>\n",
       "      <td>0</td>\n",
       "    </tr>\n",
       "    <tr>\n",
       "      <th>2014-11-23 08:00:00</th>\n",
       "      <td>33.578274</td>\n",
       "      <td>0</td>\n",
       "    </tr>\n",
       "    <tr>\n",
       "      <th>2014-11-23 09:00:00</th>\n",
       "      <td>88.933746</td>\n",
       "      <td>0</td>\n",
       "    </tr>\n",
       "    <tr>\n",
       "      <th>2014-11-23 10:00:00</th>\n",
       "      <td>125.389424</td>\n",
       "      <td>0</td>\n",
       "    </tr>\n",
       "    <tr>\n",
       "      <th>2014-11-23 11:00:00</th>\n",
       "      <td>152.962000</td>\n",
       "      <td>0</td>\n",
       "    </tr>\n",
       "    <tr>\n",
       "      <th>...</th>\n",
       "      <td>...</td>\n",
       "      <td>...</td>\n",
       "    </tr>\n",
       "    <tr>\n",
       "      <th>2015-01-21 07:00:00</th>\n",
       "      <td>-141.419766</td>\n",
       "      <td>0</td>\n",
       "    </tr>\n",
       "    <tr>\n",
       "      <th>2015-01-21 08:00:00</th>\n",
       "      <td>-139.657834</td>\n",
       "      <td>0</td>\n",
       "    </tr>\n",
       "    <tr>\n",
       "      <th>2015-01-21 09:00:00</th>\n",
       "      <td>-70.550652</td>\n",
       "      <td>0</td>\n",
       "    </tr>\n",
       "    <tr>\n",
       "      <th>2015-01-21 10:00:00</th>\n",
       "      <td>-16.857148</td>\n",
       "      <td>0</td>\n",
       "    </tr>\n",
       "    <tr>\n",
       "      <th>2015-01-21 11:00:00</th>\n",
       "      <td>7.757660</td>\n",
       "      <td>0</td>\n",
       "    </tr>\n",
       "  </tbody>\n",
       "</table>\n",
       "<p>1421 rows × 2 columns</p>\n",
       "</div>"
      ],
      "text/plain": [
       "                          value  is_anomaly\n",
       "timestamp                                  \n",
       "2014-11-23 07:00:00   13.894031           0\n",
       "2014-11-23 08:00:00   33.578274           0\n",
       "2014-11-23 09:00:00   88.933746           0\n",
       "2014-11-23 10:00:00  125.389424           0\n",
       "2014-11-23 11:00:00  152.962000           0\n",
       "...                         ...         ...\n",
       "2015-01-21 07:00:00 -141.419766           0\n",
       "2015-01-21 08:00:00 -139.657834           0\n",
       "2015-01-21 09:00:00  -70.550652           0\n",
       "2015-01-21 10:00:00  -16.857148           0\n",
       "2015-01-21 11:00:00    7.757660           0\n",
       "\n",
       "[1421 rows x 2 columns]"
      ]
     },
     "execution_count": 5,
     "metadata": {},
     "output_type": "execute_result"
    }
   ],
   "source": [
    "series.set_index('timestamp')"
   ]
  },
  {
   "cell_type": "code",
   "execution_count": 6,
   "metadata": {},
   "outputs": [
    {
     "name": "stdout",
     "output_type": "stream",
     "text": [
      "          t-1         t\n",
      "t-1  1.000000  0.993903\n",
      "t    0.993903  1.000000\n"
     ]
    }
   ],
   "source": [
    "values = pd.DataFrame(series.value)\n",
    "df = pd.concat([values.shift(1),values],axis =1)\n",
    "df.columns = ['t-1','t']\n",
    "result = df.corr()\n",
    "print(result)"
   ]
  },
  {
   "cell_type": "markdown",
   "metadata": {},
   "source": [
    "0.0993 shows a very high correlation"
   ]
  },
  {
   "cell_type": "markdown",
   "metadata": {},
   "source": [
    "Can write a for loop for varying lag variables"
   ]
  },
  {
   "cell_type": "code",
   "execution_count": 7,
   "metadata": {},
   "outputs": [
    {
     "name": "stdout",
     "output_type": "stream",
     "text": [
      "Lag : 0\n",
      "\n",
      "     t-0    t\n",
      "t-0  1.0  1.0\n",
      "t    1.0  1.0\n",
      "\n",
      "\n",
      "\n",
      "Lag : 1\n",
      "\n",
      "          t-1         t\n",
      "t-1  1.000000  0.993903\n",
      "t    0.993903  1.000000\n",
      "\n",
      "\n",
      "\n",
      "Lag : 2\n",
      "\n",
      "          t-2         t\n",
      "t-2  1.000000  0.987187\n",
      "t    0.987187  1.000000\n",
      "\n",
      "\n",
      "\n",
      "Lag : 3\n",
      "\n",
      "          t-3         t\n",
      "t-3  1.000000  0.985416\n",
      "t    0.985416  1.000000\n",
      "\n",
      "\n",
      "\n",
      "Lag : 4\n",
      "\n",
      "          t-4         t\n",
      "t-4  1.000000  0.983011\n",
      "t    0.983011  1.000000\n",
      "\n",
      "\n",
      "\n",
      "Lag : 5\n",
      "\n",
      "          t-5         t\n",
      "t-5  1.000000  0.979881\n",
      "t    0.979881  1.000000\n",
      "\n",
      "\n",
      "\n",
      "Lag : 6\n",
      "\n",
      "         t-6        t\n",
      "t-6  1.00000  0.97614\n",
      "t    0.97614  1.00000\n",
      "\n",
      "\n",
      "\n",
      "Lag : 7\n",
      "\n",
      "          t-7         t\n",
      "t-7  1.000000  0.971723\n",
      "t    0.971723  1.000000\n",
      "\n",
      "\n",
      "\n",
      "Lag : 8\n",
      "\n",
      "          t-8         t\n",
      "t-8  1.000000  0.966539\n",
      "t    0.966539  1.000000\n",
      "\n",
      "\n",
      "\n",
      "Lag : 9\n",
      "\n",
      "          t-9         t\n",
      "t-9  1.000000  0.960779\n",
      "t    0.960779  1.000000\n",
      "\n",
      "\n",
      "\n",
      "Lag : 10\n",
      "\n",
      "          t-10         t\n",
      "t-10  1.000000  0.954448\n",
      "t     0.954448  1.000000\n",
      "\n",
      "\n",
      "\n",
      "Lag : 11\n",
      "\n",
      "          t-11         t\n",
      "t-11  1.000000  0.947352\n",
      "t     0.947352  1.000000\n",
      "\n",
      "\n",
      "\n",
      "Lag : 12\n",
      "\n",
      "         t-12        t\n",
      "t-12  1.00000  0.93958\n",
      "t     0.93958  1.00000\n",
      "\n",
      "\n",
      "\n",
      "Lag : 13\n",
      "\n",
      "          t-13         t\n",
      "t-13  1.000000  0.931211\n",
      "t     0.931211  1.000000\n",
      "\n",
      "\n",
      "\n",
      "Lag : 14\n",
      "\n",
      "          t-14         t\n",
      "t-14  1.000000  0.922211\n",
      "t     0.922211  1.000000\n",
      "\n",
      "\n",
      "\n",
      "Lag : 15\n",
      "\n",
      "          t-15         t\n",
      "t-15  1.000000  0.912654\n",
      "t     0.912654  1.000000\n",
      "\n",
      "\n",
      "\n",
      "Lag : 16\n",
      "\n",
      "          t-16         t\n",
      "t-16  1.000000  0.902494\n",
      "t     0.902494  1.000000\n",
      "\n",
      "\n",
      "\n",
      "Lag : 17\n",
      "\n",
      "          t-17         t\n",
      "t-17  1.000000  0.891719\n",
      "t     0.891719  1.000000\n",
      "\n",
      "\n",
      "\n",
      "Lag : 18\n",
      "\n",
      "          t-18         t\n",
      "t-18  1.000000  0.880334\n",
      "t     0.880334  1.000000\n",
      "\n",
      "\n",
      "\n",
      "Lag : 19\n",
      "\n",
      "          t-19         t\n",
      "t-19  1.000000  0.868396\n",
      "t     0.868396  1.000000\n",
      "\n",
      "\n",
      "\n"
     ]
    }
   ],
   "source": [
    "    autocorr = []\n",
    "    for lag in range(0,20):\n",
    "        print(\"Lag : \" + str(lag) + \"\\n\")\n",
    "        df = pd.concat([values.shift(lag),values],axis =1)\n",
    "        df.columns = ['t-'+str(lag),'t']\n",
    "        result = df.corr()\n",
    "        autocorr.append(result.t[0])\n",
    "        print(result)\n",
    "        print(\"\\n\\n\")"
   ]
  },
  {
   "cell_type": "code",
   "execution_count": 8,
   "metadata": {},
   "outputs": [
    {
     "data": {
      "text/plain": [
       "0.8683959176251286"
      ]
     },
     "execution_count": 8,
     "metadata": {},
     "output_type": "execute_result"
    }
   ],
   "source": [
    "result.t[0]"
   ]
  },
  {
   "cell_type": "code",
   "execution_count": 9,
   "metadata": {},
   "outputs": [
    {
     "data": {
      "text/plain": [
       "[<matplotlib.lines.Line2D at 0x270bb5416c8>]"
      ]
     },
     "execution_count": 9,
     "metadata": {},
     "output_type": "execute_result"
    },
    {
     "data": {
      "image/png": "[encoded data removed]",
      "text/plain": [
       "<Figure size 432x288 with 1 Axes>"
      ]
     },
     "metadata": {
      "needs_background": "light"
     },
     "output_type": "display_data"
    }
   ],
   "source": [
    "plt.plot([i for i in (autocorr)])"
   ]
  },
  {
   "cell_type": "code",
   "execution_count": 10,
   "metadata": {},
   "outputs": [
    {
     "data": {
      "text/plain": [
       "<matplotlib.axes._subplots.AxesSubplot at 0x270b7ed9b88>"
      ]
     },
     "execution_count": 10,
     "metadata": {},
     "output_type": "execute_result"
    },
    {
     "data": {
      "image/png": "[encoded data removed]",
      "text/plain": [
       "<Figure size 432x288 with 1 Axes>"
      ]
     },
     "metadata": {
      "needs_background": "light"
     },
     "output_type": "display_data"
    }
   ],
   "source": [
    "from pandas.plotting import lag_plot\n",
    "series = pd.read_csv('./data/yahoo/dataset/ydata-labeled-time-series-anomalies-v1_0/A2Benchmark/synthetic_1.csv')\n",
    "lag_plot(series)"
   ]
  },
  {
   "cell_type": "code",
   "execution_count": 11,
   "metadata": {},
   "outputs": [
    {
     "data": {
      "text/plain": [
       "<matplotlib.axes._subplots.AxesSubplot at 0x270bb634648>"
      ]
     },
     "execution_count": 11,
     "metadata": {},
     "output_type": "execute_result"
    },
    {
     "data": {
      "image/png": "[encoded data removed]",
      "text/plain": [
       "<Figure size 432x288 with 1 Axes>"
      ]
     },
     "metadata": {
      "needs_background": "light"
     },
     "output_type": "display_data"
    }
   ],
   "source": [
    "from pandas.plotting import autocorrelation_plot\n",
    "series = pd.read_csv('./data/yahoo/dataset/ydata-labeled-time-series-anomalies-v1_0/A2Benchmark/synthetic_1.csv')\n",
    "autocorrelation_plot(series)"
   ]
  },
  {
   "cell_type": "code",
   "execution_count": 4,
   "metadata": {
    "scrolled": true
   },
   "outputs": [
    {
     "data": {
      "image/png": "[encoded data removed]",
      "text/plain": [
       "<Figure size 432x288 with 1 Axes>"
      ]
     },
     "execution_count": 4,
     "metadata": {},
     "output_type": "execute_result"
    },
    {
     "data": {
      "image/png": "[encoded data removed]",
      "text/plain": [
       "<Figure size 432x288 with 1 Axes>"
      ]
     },
     "metadata": {
      "needs_background": "light"
     },
     "output_type": "display_data"
    }
   ],
   "source": [
    "from statsmodels.graphics.tsaplots import plot_acf\n",
    "series = pd.read_csv('../data/yahoo/dataset/ydata-labeled-time-series-anomalies-v1_0/A2Benchmark/synthetic_1.csv')\n",
    "plot_acf(series['value'], lags=31)"
   ]
  },
  {
   "cell_type": "markdown",
   "metadata": {},
   "source": [
    "# Implementing a persistence model"
   ]
  },
  {
   "cell_type": "code",
   "execution_count": 13,
   "metadata": {},
   "outputs": [],
   "source": [
    "from sklearn.metrics import mean_squared_error"
   ]
  },
  {
   "cell_type": "code",
   "execution_count": 14,
   "metadata": {},
   "outputs": [
    {
     "data": {
      "text/html": [
       "<div>\n",
       "<style scoped>\n",
       "    .dataframe tbody tr th:only-of-type {\n",
       "        vertical-align: middle;\n",
       "    }\n",
       "\n",
       "    .dataframe tbody tr th {\n",
       "        vertical-align: top;\n",
       "    }\n",
       "\n",
       "    .dataframe thead th {\n",
       "        text-align: right;\n",
       "    }\n",
       "</style>\n",
       "<table border=\"1\" class=\"dataframe\">\n",
       "  <thead>\n",
       "    <tr style=\"text-align: right;\">\n",
       "      <th></th>\n",
       "      <th>t-1</th>\n",
       "      <th>t+1</th>\n",
       "    </tr>\n",
       "  </thead>\n",
       "  <tbody>\n",
       "    <tr>\n",
       "      <th>0</th>\n",
       "      <td>NaN</td>\n",
       "      <td>13.894031</td>\n",
       "    </tr>\n",
       "    <tr>\n",
       "      <th>1</th>\n",
       "      <td>13.894031</td>\n",
       "      <td>33.578274</td>\n",
       "    </tr>\n",
       "    <tr>\n",
       "      <th>2</th>\n",
       "      <td>33.578274</td>\n",
       "      <td>88.933746</td>\n",
       "    </tr>\n",
       "    <tr>\n",
       "      <th>3</th>\n",
       "      <td>88.933746</td>\n",
       "      <td>125.389424</td>\n",
       "    </tr>\n",
       "    <tr>\n",
       "      <th>4</th>\n",
       "      <td>125.389424</td>\n",
       "      <td>152.962000</td>\n",
       "    </tr>\n",
       "    <tr>\n",
       "      <th>...</th>\n",
       "      <td>...</td>\n",
       "      <td>...</td>\n",
       "    </tr>\n",
       "    <tr>\n",
       "      <th>1416</th>\n",
       "      <td>-187.471968</td>\n",
       "      <td>-141.419766</td>\n",
       "    </tr>\n",
       "    <tr>\n",
       "      <th>1417</th>\n",
       "      <td>-141.419766</td>\n",
       "      <td>-139.657834</td>\n",
       "    </tr>\n",
       "    <tr>\n",
       "      <th>1418</th>\n",
       "      <td>-139.657834</td>\n",
       "      <td>-70.550652</td>\n",
       "    </tr>\n",
       "    <tr>\n",
       "      <th>1419</th>\n",
       "      <td>-70.550652</td>\n",
       "      <td>-16.857148</td>\n",
       "    </tr>\n",
       "    <tr>\n",
       "      <th>1420</th>\n",
       "      <td>-16.857148</td>\n",
       "      <td>7.757660</td>\n",
       "    </tr>\n",
       "  </tbody>\n",
       "</table>\n",
       "<p>1421 rows × 2 columns</p>\n",
       "</div>"
      ],
      "text/plain": [
       "             t-1         t+1\n",
       "0            NaN   13.894031\n",
       "1      13.894031   33.578274\n",
       "2      33.578274   88.933746\n",
       "3      88.933746  125.389424\n",
       "4     125.389424  152.962000\n",
       "...          ...         ...\n",
       "1416 -187.471968 -141.419766\n",
       "1417 -141.419766 -139.657834\n",
       "1418 -139.657834  -70.550652\n",
       "1419  -70.550652  -16.857148\n",
       "1420  -16.857148    7.757660\n",
       "\n",
       "[1421 rows x 2 columns]"
      ]
     },
     "execution_count": 14,
     "metadata": {},
     "output_type": "execute_result"
    }
   ],
   "source": [
    "# create lagged dataset\n",
    "values = pd.DataFrame(series.value)\n",
    "dataframe = pd.concat([values.shift(1), values], axis=1)\n",
    "dataframe.columns = ['t-1', 't+1']\n",
    "dataframe"
   ]
  },
  {
   "cell_type": "code",
   "execution_count": 15,
   "metadata": {},
   "outputs": [],
   "source": [
    "# split into train and test sets\n",
    "X = dataframe.values\n",
    "train, test = X[1:len(X)-7], X[len(X)-7:]\n",
    "train_X, train_y = train[:,0], train[:,1]\n",
    "test_X, test_y = test[:,0], test[:,1]"
   ]
  },
  {
   "cell_type": "code",
   "execution_count": 16,
   "metadata": {},
   "outputs": [],
   "source": [
    "# persistence model\n",
    "def model_persistence(x):\n",
    "\treturn x"
   ]
  },
  {
   "cell_type": "code",
   "execution_count": 17,
   "metadata": {},
   "outputs": [
    {
     "name": "stdout",
     "output_type": "stream",
     "text": [
      "Test MSE: 1865.859\n"
     ]
    }
   ],
   "source": [
    "# walk-forward validation\n",
    "predictions = list()\n",
    "for x in test_X:\n",
    "\tyhat = model_persistence(x)\n",
    "\tpredictions.append(yhat)\n",
    "test_score = mean_squared_error(test_y, predictions)\n",
    "print('Test MSE: %.3f' % test_score)"
   ]
  },
  {
   "cell_type": "code",
   "execution_count": 18,
   "metadata": {},
   "outputs": [
    {
     "data": {
      "image/png": "[encoded data removed]",
      "text/plain": [
       "<Figure size 432x288 with 1 Axes>"
      ]
     },
     "metadata": {
      "needs_background": "light"
     },
     "output_type": "display_data"
    }
   ],
   "source": [
    "# plot predictions vs expected\n",
    "plt.plot(test_y)\n",
    "plt.plot(predictions, color='red')\n",
    "plt.show()"
   ]
  },
  {
   "cell_type": "markdown",
   "metadata": {},
   "source": [
    "# AutoRegression Model"
   ]
  },
  {
   "cell_type": "code",
   "execution_count": 15,
   "metadata": {},
   "outputs": [],
   "source": [
    "from statsmodels.tsa.ar_model import AutoReg\n",
    "from math import sqrt\n",
    "\n",
    "from sklearn.metrics import mean_squared_error"
   ]
  },
  {
   "cell_type": "markdown",
   "metadata": {},
   "source": [
    "# Simple 7 Day forecast"
   ]
  },
  {
   "cell_type": "code",
   "execution_count": 40,
   "metadata": {},
   "outputs": [],
   "source": [
    "series = pd.read_csv('../data/yahoo/dataset/ydata-labeled-time-series-anomalies-v1_0/A2Benchmark/synthetic_1.csv')"
   ]
  },
  {
   "cell_type": "code",
   "execution_count": 41,
   "metadata": {},
   "outputs": [],
   "source": [
    "X = series.value\n",
    "train, test = X[1: len(X) - 7], X[len(X) - 8: ]\n"
   ]
  },
  {
   "cell_type": "code",
   "execution_count": 42,
   "metadata": {
    "scrolled": true
   },
   "outputs": [
    {
     "name": "stdout",
     "output_type": "stream",
     "text": [
      "Coefficients: intercept    0.098638\n",
      "value.L1     0.990341\n",
      "value.L2    -0.729979\n",
      "value.L3     0.735307\n",
      "value.L4    -0.519196\n",
      "value.L5     0.540816\n",
      "value.L6    -0.368305\n",
      "value.L7     0.409703\n",
      "value.L8    -0.272088\n",
      "value.L9     0.304937\n",
      "value.L10   -0.183474\n",
      "value.L11    0.219932\n",
      "value.L12   -0.134797\n",
      "value.L13    0.163939\n",
      "value.L14   -0.103600\n",
      "value.L15    0.123792\n",
      "value.L16   -0.077041\n",
      "value.L17    0.088048\n",
      "value.L18   -0.057724\n",
      "value.L19    0.057466\n",
      "value.L20   -0.041504\n",
      "value.L21    0.014623\n",
      "value.L22   -0.003363\n",
      "value.L23   -0.028607\n",
      "value.L24   -0.001675\n",
      "value.L25   -0.033461\n",
      "value.L26   -0.009503\n",
      "value.L27   -0.046481\n",
      "value.L28   -0.007926\n",
      "value.L29   -0.062291\n",
      "dtype: float64\n"
     ]
    }
   ],
   "source": [
    "model = AutoReg(train, lags=29)\n",
    "model_fit = model.fit()\n",
    "print(f'Coefficients: {model_fit.params}')"
   ]
  },
  {
   "cell_type": "code",
   "execution_count": 43,
   "metadata": {},
   "outputs": [
    {
     "data": {
      "text/plain": [
       "1414   -186.777820\n",
       "1415   -151.470795\n",
       "1416   -116.136920\n",
       "1417    -79.685696\n",
       "1418    -46.152405\n",
       "1419    -10.744711\n",
       "1420     25.563468\n",
       "1421           NaN\n",
       "dtype: float64"
      ]
     },
     "execution_count": 43,
     "metadata": {},
     "output_type": "execute_result"
    }
   ],
   "source": [
    "predictions = model_fit.predict(start = len(train),end = len(train) + len(test) - 1, dynamic = False)\n",
    "predictions"
   ]
  },
  {
   "cell_type": "code",
   "execution_count": 44,
   "metadata": {},
   "outputs": [
    {
     "data": {
      "text/plain": [
       "[-186.77781954881482,\n",
       " -151.47079462939763,\n",
       " -116.13692022474333,\n",
       " -79.6856962848816,\n",
       " -46.15240464927081,\n",
       " -10.744711418522797,\n",
       " 25.56346769964148,\n",
       " nan]"
      ]
     },
     "execution_count": 44,
     "metadata": {},
     "output_type": "execute_result"
    }
   ],
   "source": [
    "type(predictions)\n",
    "len(predictions)\n",
    "predictions.tolist()"
   ]
  },
  {
   "cell_type": "code",
   "execution_count": 45,
   "metadata": {},
   "outputs": [
    {
     "data": {
      "text/plain": [
       "1414   -186.777820\n",
       "1415   -151.470795\n",
       "1416   -116.136920\n",
       "1417    -79.685696\n",
       "1418    -46.152405\n",
       "1419    -10.744711\n",
       "1420     25.563468\n",
       "dtype: float64"
      ]
     },
     "execution_count": 45,
     "metadata": {},
     "output_type": "execute_result"
    }
   ],
   "source": [
    "#clean the predictions\n",
    "predictions = predictions.dropna()\n",
    "predictions"
   ]
  },
  {
   "cell_type": "code",
   "execution_count": 46,
   "metadata": {},
   "outputs": [
    {
     "name": "stdout",
     "output_type": "stream",
     "text": [
      "predictions: -186.77781954881482, Expected: -251.276306659805\n",
      "predictions: -151.47079462939763, Expected: -201.528647234411\n",
      "predictions: -116.13692022474333, Expected: -187.47196836387403\n",
      "predictions: -79.6856962848816, Expected: -141.419766498923\n",
      "predictions: -46.15240464927081, Expected: -139.657834271323\n",
      "predictions: -10.744711418522797, Expected: -70.55065181119271\n",
      "predictions: 25.56346769964148, Expected: -16.8571475649267\n"
     ]
    }
   ],
   "source": [
    "for i in range(len(predictions)):\n",
    "    print(f'predictions: {predictions.tolist()[i]}, Expected: {test.tolist()[i]}')\n"
   ]
  },
  {
   "cell_type": "code",
   "execution_count": 47,
   "metadata": {},
   "outputs": [
    {
     "name": "stdout",
     "output_type": "stream",
     "text": [
      "Test RMSE: 65.12093413654843\n"
     ]
    }
   ],
   "source": [
    "rmse = sqrt(mean_squared_error(test[:len(predictions)],predictions))\n",
    "print(f\"Test RMSE: {rmse}\")"
   ]
  },
  {
   "cell_type": "code",
   "execution_count": 48,
   "metadata": {},
   "outputs": [
    {
     "data": {
      "image/png": "[encoded data removed]",
      "text/plain": [
       "<Figure size 432x288 with 1 Axes>"
      ]
     },
     "metadata": {
      "needs_background": "light"
     },
     "output_type": "display_data"
    }
   ],
   "source": [
    "plt.plot(test)\n",
    "plt.plot(predictions, color='red')\n",
    "plt.show()"
   ]
  },
  {
   "cell_type": "markdown",
   "metadata": {},
   "source": [
    "# Really bad 7 day forecast, using history and model coefficients"
   ]
  },
  {
   "cell_type": "code",
   "execution_count": 49,
   "metadata": {},
   "outputs": [],
   "source": [
    "series = pd.read_csv('../data/yahoo/dataset/ydata-labeled-time-series-anomalies-v1_0/A2Benchmark/synthetic_1.csv')"
   ]
  },
  {
   "cell_type": "code",
   "execution_count": 50,
   "metadata": {},
   "outputs": [
    {
     "data": {
      "text/plain": [
       "(1        33.578274\n",
       " 2        88.933746\n",
       " 3       125.389424\n",
       " 4       152.962000\n",
       " 5       168.365150\n",
       "            ...    \n",
       " 1409   -403.207221\n",
       " 1410   -378.740445\n",
       " 1411   -340.508522\n",
       " 1412   -292.651261\n",
       " 1413   -251.276307\n",
       " Name: value, Length: 1413, dtype: float64,\n",
       " 1414   -201.528647\n",
       " 1415   -187.471968\n",
       " 1416   -141.419766\n",
       " 1417   -139.657834\n",
       " 1418    -70.550652\n",
       " 1419    -16.857148\n",
       " 1420      7.757660\n",
       " Name: value, dtype: float64)"
      ]
     },
     "execution_count": 50,
     "metadata": {},
     "output_type": "execute_result"
    }
   ],
   "source": [
    "X = series.value\n",
    "train, test = X[1: len(X) - 7], X[len(X) - 7: ]\n",
    "train, test"
   ]
  },
  {
   "cell_type": "code",
   "execution_count": 51,
   "metadata": {},
   "outputs": [
    {
     "data": {
      "text/plain": [
       "(1413, 7)"
      ]
     },
     "execution_count": 51,
     "metadata": {},
     "output_type": "execute_result"
    }
   ],
   "source": [
    "train = train.tolist()\n",
    "test = test.tolist()\n",
    "len(train),len(test)"
   ]
  },
  {
   "cell_type": "code",
   "execution_count": 52,
   "metadata": {},
   "outputs": [],
   "source": [
    "window = 29\n",
    "model = AutoReg(train, lags=29)\n",
    "model_fit = model.fit()\n",
    "coef = model_fit.params"
   ]
  },
  {
   "cell_type": "code",
   "execution_count": 53,
   "metadata": {},
   "outputs": [
    {
     "data": {
      "text/plain": [
       "array([-197.46368562, -186.77781955, -151.47079463, -116.13692022,\n",
       "        -79.68569628,  -46.15240465,  -10.74471142])"
      ]
     },
     "execution_count": 53,
     "metadata": {},
     "output_type": "execute_result"
    }
   ],
   "source": [
    "predictions = model_fit.predict(start = len(train),end = len(train) + len(test) - 1, dynamic = False)\n",
    "predictions"
   ]
  },
  {
   "cell_type": "code",
   "execution_count": 54,
   "metadata": {},
   "outputs": [
    {
     "name": "stdout",
     "output_type": "stream",
     "text": [
      "predictions: -197.46368561516988, Expected: -201.528647234411\n",
      "predictions: -186.77781954881482, Expected: -187.47196836387403\n",
      "predictions: -151.47079462939763, Expected: -141.419766498923\n",
      "predictions: -116.13692022474333, Expected: -139.657834271323\n",
      "predictions: -79.6856962848816, Expected: -70.55065181119271\n",
      "predictions: -46.15240464927081, Expected: -16.8571475649267\n",
      "predictions: -10.744711418522797, Expected: 7.757659516501549\n"
     ]
    }
   ],
   "source": [
    "for i in range(len(predictions)):\n",
    "    print(f'predictions: {predictions[i]}, Expected: {test[i]}')\n"
   ]
  },
  {
   "cell_type": "code",
   "execution_count": 55,
   "metadata": {},
   "outputs": [
    {
     "name": "stdout",
     "output_type": "stream",
     "text": [
      "Test RMSE: 16.712959791734136\n"
     ]
    }
   ],
   "source": [
    "rmse = sqrt(mean_squared_error(test[:len(predictions)],predictions))\n",
    "print(f\"Test RMSE: {rmse}\")"
   ]
  },
  {
   "cell_type": "code",
   "execution_count": 56,
   "metadata": {},
   "outputs": [],
   "source": [
    "#isolate the last 29 values of the time series\n",
    "history = train[len(train) - window:]"
   ]
  },
  {
   "cell_type": "code",
   "execution_count": 57,
   "metadata": {},
   "outputs": [
    {
     "data": {
      "text/plain": [
       "(29,\n",
       " [-1133.88031203462,\n",
       "  -1109.3764531827699,\n",
       "  -1081.65845506202,\n",
       "  -1072.50716731002,\n",
       "  -1037.2087292562,\n",
       "  -989.8666716303551,\n",
       "  -976.854161659842,\n",
       "  -937.049746911342,\n",
       "  -908.8790202501199,\n",
       "  -897.648342279577,\n",
       "  -865.399485422565,\n",
       "  -809.798982692005,\n",
       "  -804.415399732907,\n",
       "  -767.440877954693,\n",
       "  -725.9769942388831,\n",
       "  -708.131921192177,\n",
       "  -672.853379189642,\n",
       "  -655.350232762771,\n",
       "  -586.424049383701,\n",
       "  -583.303263122578,\n",
       "  -553.7133872589869,\n",
       "  -512.563573135776,\n",
       "  -452.18719766892303,\n",
       "  -455.87859771513297,\n",
       "  -403.20722118516096,\n",
       "  -378.740445062491,\n",
       "  -340.508521730428,\n",
       "  -292.65126128699404,\n",
       "  -251.276306659805])"
      ]
     },
     "execution_count": 57,
     "metadata": {},
     "output_type": "execute_result"
    }
   ],
   "source": [
    "history = [history[i] for i in range(len(history))]\n",
    "predictions = list()\n",
    "len(history),history"
   ]
  },
  {
   "cell_type": "code",
   "execution_count": 58,
   "metadata": {},
   "outputs": [
    {
     "name": "stdout",
     "output_type": "stream",
     "text": [
      "Expected: -201.528647234411, Predicted: 70.630925921015\n",
      "Expected: -187.47196836387403, Predicted: 69.10454767723155\n",
      "Expected: -141.419766498923, Predicted: 67.37795638609911\n",
      "Expected: -139.657834271323, Predicted: 66.80791039408996\n",
      "Expected: -70.55065181119271, Predicted: 64.60912332913671\n",
      "Expected: -16.8571475649267, Predicted: 61.660123042572614\n",
      "Expected: 7.757659516501549, Predicted: 60.849556338116315\n",
      "MSE = 190.25502086631812\n"
     ]
    }
   ],
   "source": [
    "for t in range(len(test)):\n",
    "    length = len(history)\n",
    "    lag = [history[i] for i in range(length-window,length)]\n",
    "    yhat = coef[0]\n",
    "    for d in range(window):\n",
    "        yhat = coef[d+1] * lag[window-d-1]\n",
    "    obs = test[t]\n",
    "    predictions.append(yhat)\n",
    "    history.append(obs)\n",
    "    print(f'Expected: {obs}, Predicted: {yhat}')\n",
    "\n",
    "rmse = sqrt(mean_squared_error(test,predictions))\n",
    "print(f'MSE = {rmse}')"
   ]
  },
  {
   "cell_type": "code",
   "execution_count": 59,
   "metadata": {},
   "outputs": [
    {
     "name": "stdout",
     "output_type": "stream",
     "text": [
      "predicted=45.457211, expected=-201.528647\n",
      "predicted=-176.875987, expected=-187.471968\n",
      "predicted=32.169342, expected=-141.419766\n",
      "predicted=-99.048114, expected=-139.657834\n",
      "predicted=19.494954, expected=-70.550652\n",
      "predicted=-11.568942, expected=-16.857148\n",
      "predicted=76.846020, expected=7.757660\n"
     ]
    }
   ],
   "source": [
    "for t in range(len(test)):\n",
    "\tlength = len(history)\n",
    "\tlag = [history[i] for i in range(length-window,length)]\n",
    "\tyhat = coef[0]\n",
    "\tfor d in range(window):\n",
    "\t\tyhat += coef[d+1] * lag[window-d-1]\n",
    "\tobs = test[t]\n",
    "\tpredictions.append(yhat)\n",
    "\thistory.append(obs)\n",
    "\tprint('predicted=%f, expected=%f' % (yhat, obs))"
   ]
  },
  {
   "cell_type": "code",
   "execution_count": 60,
   "metadata": {},
   "outputs": [
    {
     "name": "stdout",
     "output_type": "stream",
     "text": [
      "Test RMSE: 122.944\n"
     ]
    }
   ],
   "source": [
    "rmse = sqrt(mean_squared_error(test, predictions[len(predictions)//2:]))\n",
    "print('Test RMSE: %.3f' % rmse)"
   ]
  },
  {
   "cell_type": "code",
   "execution_count": 61,
   "metadata": {},
   "outputs": [
    {
     "data": {
      "image/png": "[encoded data removed]",
      "text/plain": [
       "<Figure size 432x288 with 1 Axes>"
      ]
     },
     "metadata": {
      "needs_background": "light"
     },
     "output_type": "display_data"
    }
   ],
   "source": [
    "# plot\n",
    "plt.plot(test)\n",
    "plt.plot(predictions[len(predictions)//2:], color='red')\n",
    "plt.show()"
   ]
  },
  {
   "cell_type": "code",
   "execution_count": null,
   "metadata": {},
   "outputs": [],
   "source": []
  }
 ],
 "metadata": {
  "kernelspec": {
   "display_name": "Python 3",
   "language": "python",
   "name": "python3"
  },
  "language_info": {
   "codemirror_mode": {
    "name": "ipython",
    "version": 3
   },
   "file_extension": ".py",
   "mimetype": "text/x-python",
   "name": "python",
   "nbconvert_exporter": "python",
   "pygments_lexer": "ipython3",
   "version": "3.7.6"
  },
  "toc": {
   "base_numbering": 1,
   "nav_menu": {},
   "number_sections": true,
   "sideBar": true,
   "skip_h1_title": false,
   "title_cell": "Table of Contents",
   "title_sidebar": "Contents",
   "toc_cell": true,
   "toc_position": {},
   "toc_section_display": true,
   "toc_window_display": true
  }
 },
 "nbformat": 4,
 "nbformat_minor": 4
}
