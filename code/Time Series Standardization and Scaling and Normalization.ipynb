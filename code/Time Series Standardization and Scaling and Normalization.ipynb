{
 "cells": [
  {
   "cell_type": "markdown",
   "metadata": {
    "toc": true
   },
   "source": [
    "<h1>Table of Contents<span class=\"tocSkip\"></span></h1>\n",
    "<div class=\"toc\"><ul class=\"toc-item\"><li><span><a href=\"#Time-Series-Standardization-and-Normalization\" data-toc-modified-id=\"Time-Series-Standardization-and-Normalization-1\"><span class=\"toc-item-num\">1&nbsp;&nbsp;</span>Time Series Standardization and Normalization</a></span><ul class=\"toc-item\"><li><span><a href=\"#Normalization\" data-toc-modified-id=\"Normalization-1.1\"><span class=\"toc-item-num\">1.1&nbsp;&nbsp;</span>Normalization</a></span></li><li><span><a href=\"#Standardization\" data-toc-modified-id=\"Standardization-1.2\"><span class=\"toc-item-num\">1.2&nbsp;&nbsp;</span>Standardization</a></span></li></ul></li><li><span><a href=\"#Now-do-it-in-a-for-loop\" data-toc-modified-id=\"Now-do-it-in-a-for-loop-2\"><span class=\"toc-item-num\">2&nbsp;&nbsp;</span>Now do it in a for loop</a></span></li></ul></div>"
   ]
  },
  {
   "cell_type": "markdown",
   "metadata": {},
   "source": [
    "# Time Series Standardization and Normalization\n",
    "    by Sanket Mehrotra\n",
    "    Ref: https://machinelearningmastery.com/normalize-standardize-time-series-data-python/"
   ]
  },
  {
   "cell_type": "markdown",
   "metadata": {},
   "source": [
    "## Normalization\n",
    "Some TS forecasting and outlier detection methods have better performance when your data has a consistent scale or distribution, e.g. Comparison is easier if all the values of the data are in the range 0,1."
   ]
  },
  {
   "cell_type": "markdown",
   "metadata": {},
   "source": [
    "Normalization is a rescaling of the data from the original range so that all values are within the range of 0 and 1.\n",
    "\n",
    "Normalization can be useful, and even required in some machine learning algorithms when your time series data has input values with differing scales. It may be required for algorithms, like k-Nearest neighbors, which uses distance calculations and Linear Regression and Artificial Neural Networks that weight input values."
   ]
  },
  {
   "cell_type": "markdown",
   "metadata": {},
   "source": [
    "Normalization requires that you know or are able to accurately estimate the minimum and maximum observable values. You may be able to estimate these values from your available data. **If your time series is trending up or down, estimating these expected values may be difficult and normalization may not be the best method to use on your problem.**"
   ]
  },
  {
   "cell_type": "code",
   "execution_count": 1,
   "metadata": {},
   "outputs": [],
   "source": [
    "import pandas as pd\n",
    "import numpy as np\n",
    "import matplotlib.pyplot as plt"
   ]
  },
  {
   "cell_type": "code",
   "execution_count": 22,
   "metadata": {},
   "outputs": [],
   "source": [
    "df = pd.read_csv(\"D:/Temp/time-series/data/daily-min-temperatures.csv\",index_col=0)"
   ]
  },
  {
   "cell_type": "code",
   "execution_count": 23,
   "metadata": {},
   "outputs": [
    {
     "data": {
      "text/html": [
       "<div>\n",
       "<style scoped>\n",
       "    .dataframe tbody tr th:only-of-type {\n",
       "        vertical-align: middle;\n",
       "    }\n",
       "\n",
       "    .dataframe tbody tr th {\n",
       "        vertical-align: top;\n",
       "    }\n",
       "\n",
       "    .dataframe thead th {\n",
       "        text-align: right;\n",
       "    }\n",
       "</style>\n",
       "<table border=\"1\" class=\"dataframe\">\n",
       "  <thead>\n",
       "    <tr style=\"text-align: right;\">\n",
       "      <th></th>\n",
       "      <th>Temp</th>\n",
       "    </tr>\n",
       "    <tr>\n",
       "      <th>Date</th>\n",
       "      <th></th>\n",
       "    </tr>\n",
       "  </thead>\n",
       "  <tbody>\n",
       "    <tr>\n",
       "      <th>1981-01-01</th>\n",
       "      <td>20.7</td>\n",
       "    </tr>\n",
       "    <tr>\n",
       "      <th>1981-01-02</th>\n",
       "      <td>17.9</td>\n",
       "    </tr>\n",
       "    <tr>\n",
       "      <th>1981-01-03</th>\n",
       "      <td>18.8</td>\n",
       "    </tr>\n",
       "    <tr>\n",
       "      <th>1981-01-04</th>\n",
       "      <td>14.6</td>\n",
       "    </tr>\n",
       "    <tr>\n",
       "      <th>1981-01-05</th>\n",
       "      <td>15.8</td>\n",
       "    </tr>\n",
       "  </tbody>\n",
       "</table>\n",
       "</div>"
      ],
      "text/plain": [
       "            Temp\n",
       "Date            \n",
       "1981-01-01  20.7\n",
       "1981-01-02  17.9\n",
       "1981-01-03  18.8\n",
       "1981-01-04  14.6\n",
       "1981-01-05  15.8"
      ]
     },
     "execution_count": 23,
     "metadata": {},
     "output_type": "execute_result"
    }
   ],
   "source": [
    "df.head()"
   ]
  },
  {
   "cell_type": "code",
   "execution_count": 24,
   "metadata": {},
   "outputs": [
    {
     "name": "stdout",
     "output_type": "stream",
     "text": [
      "<class 'pandas.core.frame.DataFrame'>\n",
      "Index: 3650 entries, 1981-01-01 to 1990-12-31\n",
      "Data columns (total 1 columns):\n",
      " #   Column  Non-Null Count  Dtype  \n",
      "---  ------  --------------  -----  \n",
      " 0   Temp    3650 non-null   float64\n",
      "dtypes: float64(1)\n",
      "memory usage: 57.0+ KB\n"
     ]
    }
   ],
   "source": [
    "df.info()"
   ]
  },
  {
   "cell_type": "code",
   "execution_count": 26,
   "metadata": {},
   "outputs": [],
   "source": [
    "#df['Date']= pd.to_datetime(df['Date']) "
   ]
  },
  {
   "cell_type": "code",
   "execution_count": 27,
   "metadata": {},
   "outputs": [
    {
     "data": {
      "text/html": [
       "<div>\n",
       "<style scoped>\n",
       "    .dataframe tbody tr th:only-of-type {\n",
       "        vertical-align: middle;\n",
       "    }\n",
       "\n",
       "    .dataframe tbody tr th {\n",
       "        vertical-align: top;\n",
       "    }\n",
       "\n",
       "    .dataframe thead th {\n",
       "        text-align: right;\n",
       "    }\n",
       "</style>\n",
       "<table border=\"1\" class=\"dataframe\">\n",
       "  <thead>\n",
       "    <tr style=\"text-align: right;\">\n",
       "      <th></th>\n",
       "      <th>Temp</th>\n",
       "    </tr>\n",
       "    <tr>\n",
       "      <th>Date</th>\n",
       "      <th></th>\n",
       "    </tr>\n",
       "  </thead>\n",
       "  <tbody>\n",
       "    <tr>\n",
       "      <th>1981-01-01</th>\n",
       "      <td>20.7</td>\n",
       "    </tr>\n",
       "    <tr>\n",
       "      <th>1981-01-02</th>\n",
       "      <td>17.9</td>\n",
       "    </tr>\n",
       "    <tr>\n",
       "      <th>1981-01-03</th>\n",
       "      <td>18.8</td>\n",
       "    </tr>\n",
       "    <tr>\n",
       "      <th>1981-01-04</th>\n",
       "      <td>14.6</td>\n",
       "    </tr>\n",
       "    <tr>\n",
       "      <th>1981-01-05</th>\n",
       "      <td>15.8</td>\n",
       "    </tr>\n",
       "  </tbody>\n",
       "</table>\n",
       "</div>"
      ],
      "text/plain": [
       "            Temp\n",
       "Date            \n",
       "1981-01-01  20.7\n",
       "1981-01-02  17.9\n",
       "1981-01-03  18.8\n",
       "1981-01-04  14.6\n",
       "1981-01-05  15.8"
      ]
     },
     "execution_count": 27,
     "metadata": {},
     "output_type": "execute_result"
    }
   ],
   "source": [
    "df.head()"
   ]
  },
  {
   "cell_type": "code",
   "execution_count": 28,
   "metadata": {},
   "outputs": [
    {
     "data": {
      "text/plain": [
       "3650"
      ]
     },
     "execution_count": 28,
     "metadata": {},
     "output_type": "execute_result"
    }
   ],
   "source": [
    "len(df)"
   ]
  },
  {
   "cell_type": "code",
   "execution_count": 30,
   "metadata": {},
   "outputs": [],
   "source": [
    "values = df.values\n",
    "values = values.reshape(-1,1)"
   ]
  },
  {
   "cell_type": "markdown",
   "metadata": {},
   "source": [
    "Good practice usage with the MinMaxScaler and other rescaling techniques is as follows:\n",
    "\n",
    "Fit the scaler using available training data. For normalization, this means the training data will be used to estimate the minimum and maximum observable values. This is done by calling the fit() function,\n",
    "\n",
    "\n",
    "Apply the scale to training data. This means you can use the normalized data to train your model. This is done by calling the transform() function\n",
    "\n",
    "\n",
    "Apply the scale to data going forward. This means you can prepare new data in the future on which you want to make predictions.\n",
    "\n",
    "If needed, the transform can be inverted. This is useful for converting predictions back into their original scale for reporting or plotting. This can be done by calling the inverse_transform() function."
   ]
  },
  {
   "cell_type": "code",
   "execution_count": 31,
   "metadata": {},
   "outputs": [],
   "source": [
    "from sklearn.preprocessing import MinMaxScaler"
   ]
  },
  {
   "cell_type": "code",
   "execution_count": 32,
   "metadata": {},
   "outputs": [],
   "source": [
    "# train the normalization\n",
    "scaler = MinMaxScaler(feature_range=(0, 1))\n",
    "scaler = scaler.fit(values)"
   ]
  },
  {
   "cell_type": "code",
   "execution_count": 42,
   "metadata": {},
   "outputs": [
    {
     "data": {
      "text/html": [
       "<div>\n",
       "<style scoped>\n",
       "    .dataframe tbody tr th:only-of-type {\n",
       "        vertical-align: middle;\n",
       "    }\n",
       "\n",
       "    .dataframe tbody tr th {\n",
       "        vertical-align: top;\n",
       "    }\n",
       "\n",
       "    .dataframe thead th {\n",
       "        text-align: right;\n",
       "    }\n",
       "</style>\n",
       "<table border=\"1\" class=\"dataframe\">\n",
       "  <thead>\n",
       "    <tr style=\"text-align: right;\">\n",
       "      <th></th>\n",
       "      <th>timestamp</th>\n",
       "      <th>value</th>\n",
       "      <th>is_anomaly</th>\n",
       "    </tr>\n",
       "  </thead>\n",
       "  <tbody>\n",
       "    <tr>\n",
       "      <th>0</th>\n",
       "      <td>1416726000</td>\n",
       "      <td>13.894031</td>\n",
       "      <td>0</td>\n",
       "    </tr>\n",
       "    <tr>\n",
       "      <th>1</th>\n",
       "      <td>1416729600</td>\n",
       "      <td>33.578274</td>\n",
       "      <td>0</td>\n",
       "    </tr>\n",
       "    <tr>\n",
       "      <th>2</th>\n",
       "      <td>1416733200</td>\n",
       "      <td>88.933746</td>\n",
       "      <td>0</td>\n",
       "    </tr>\n",
       "    <tr>\n",
       "      <th>3</th>\n",
       "      <td>1416736800</td>\n",
       "      <td>125.389424</td>\n",
       "      <td>0</td>\n",
       "    </tr>\n",
       "    <tr>\n",
       "      <th>4</th>\n",
       "      <td>1416740400</td>\n",
       "      <td>152.962000</td>\n",
       "      <td>0</td>\n",
       "    </tr>\n",
       "  </tbody>\n",
       "</table>\n",
       "</div>"
      ],
      "text/plain": [
       "    timestamp       value  is_anomaly\n",
       "0  1416726000   13.894031           0\n",
       "1  1416729600   33.578274           0\n",
       "2  1416733200   88.933746           0\n",
       "3  1416736800  125.389424           0\n",
       "4  1416740400  152.962000           0"
      ]
     },
     "execution_count": 42,
     "metadata": {},
     "output_type": "execute_result"
    }
   ],
   "source": [
    "series = pd.read_csv(\"D:/Temp/time-series/data/yahoo/dataset/ydata-labeled-time-series-anomalies-v1_0/A2Benchmark/synthetic_1.csv\")\n",
    "series.head()"
   ]
  },
  {
   "cell_type": "code",
   "execution_count": 43,
   "metadata": {},
   "outputs": [],
   "source": [
    "series['timestamp'] = pd.to_datetime(series['timestamp'],unit='s')\n",
    "series = series.set_index('timestamp')"
   ]
  },
  {
   "cell_type": "code",
   "execution_count": 47,
   "metadata": {},
   "outputs": [
    {
     "data": {
      "text/html": [
       "<div>\n",
       "<style scoped>\n",
       "    .dataframe tbody tr th:only-of-type {\n",
       "        vertical-align: middle;\n",
       "    }\n",
       "\n",
       "    .dataframe tbody tr th {\n",
       "        vertical-align: top;\n",
       "    }\n",
       "\n",
       "    .dataframe thead th {\n",
       "        text-align: right;\n",
       "    }\n",
       "</style>\n",
       "<table border=\"1\" class=\"dataframe\">\n",
       "  <thead>\n",
       "    <tr style=\"text-align: right;\">\n",
       "      <th></th>\n",
       "      <th>value</th>\n",
       "      <th>is_anomaly</th>\n",
       "    </tr>\n",
       "    <tr>\n",
       "      <th>timestamp</th>\n",
       "      <th></th>\n",
       "      <th></th>\n",
       "    </tr>\n",
       "  </thead>\n",
       "  <tbody>\n",
       "    <tr>\n",
       "      <th>2014-11-23 07:00:00</th>\n",
       "      <td>13.894031</td>\n",
       "      <td>0</td>\n",
       "    </tr>\n",
       "    <tr>\n",
       "      <th>2014-11-23 08:00:00</th>\n",
       "      <td>33.578274</td>\n",
       "      <td>0</td>\n",
       "    </tr>\n",
       "    <tr>\n",
       "      <th>2014-11-23 09:00:00</th>\n",
       "      <td>88.933746</td>\n",
       "      <td>0</td>\n",
       "    </tr>\n",
       "    <tr>\n",
       "      <th>2014-11-23 10:00:00</th>\n",
       "      <td>125.389424</td>\n",
       "      <td>0</td>\n",
       "    </tr>\n",
       "    <tr>\n",
       "      <th>2014-11-23 11:00:00</th>\n",
       "      <td>152.962000</td>\n",
       "      <td>0</td>\n",
       "    </tr>\n",
       "    <tr>\n",
       "      <th>...</th>\n",
       "      <td>...</td>\n",
       "      <td>...</td>\n",
       "    </tr>\n",
       "    <tr>\n",
       "      <th>2015-01-21 07:00:00</th>\n",
       "      <td>-141.419766</td>\n",
       "      <td>0</td>\n",
       "    </tr>\n",
       "    <tr>\n",
       "      <th>2015-01-21 08:00:00</th>\n",
       "      <td>-139.657834</td>\n",
       "      <td>0</td>\n",
       "    </tr>\n",
       "    <tr>\n",
       "      <th>2015-01-21 09:00:00</th>\n",
       "      <td>-70.550652</td>\n",
       "      <td>0</td>\n",
       "    </tr>\n",
       "    <tr>\n",
       "      <th>2015-01-21 10:00:00</th>\n",
       "      <td>-16.857148</td>\n",
       "      <td>0</td>\n",
       "    </tr>\n",
       "    <tr>\n",
       "      <th>2015-01-21 11:00:00</th>\n",
       "      <td>7.757660</td>\n",
       "      <td>0</td>\n",
       "    </tr>\n",
       "  </tbody>\n",
       "</table>\n",
       "<p>1421 rows × 2 columns</p>\n",
       "</div>"
      ],
      "text/plain": [
       "                          value  is_anomaly\n",
       "timestamp                                  \n",
       "2014-11-23 07:00:00   13.894031           0\n",
       "2014-11-23 08:00:00   33.578274           0\n",
       "2014-11-23 09:00:00   88.933746           0\n",
       "2014-11-23 10:00:00  125.389424           0\n",
       "2014-11-23 11:00:00  152.962000           0\n",
       "...                         ...         ...\n",
       "2015-01-21 07:00:00 -141.419766           0\n",
       "2015-01-21 08:00:00 -139.657834           0\n",
       "2015-01-21 09:00:00  -70.550652           0\n",
       "2015-01-21 10:00:00  -16.857148           0\n",
       "2015-01-21 11:00:00    7.757660           0\n",
       "\n",
       "[1421 rows x 2 columns]"
      ]
     },
     "execution_count": 47,
     "metadata": {},
     "output_type": "execute_result"
    }
   ],
   "source": [
    "vals = series.copy()#pd.DataFrame(series['value'])\n",
    "vals"
   ]
  },
  {
   "cell_type": "code",
   "execution_count": 48,
   "metadata": {},
   "outputs": [
    {
     "data": {
      "text/html": [
       "<div>\n",
       "<style scoped>\n",
       "    .dataframe tbody tr th:only-of-type {\n",
       "        vertical-align: middle;\n",
       "    }\n",
       "\n",
       "    .dataframe tbody tr th {\n",
       "        vertical-align: top;\n",
       "    }\n",
       "\n",
       "    .dataframe thead th {\n",
       "        text-align: right;\n",
       "    }\n",
       "</style>\n",
       "<table border=\"1\" class=\"dataframe\">\n",
       "  <thead>\n",
       "    <tr style=\"text-align: right;\">\n",
       "      <th></th>\n",
       "      <th>value</th>\n",
       "    </tr>\n",
       "    <tr>\n",
       "      <th>timestamp</th>\n",
       "      <th></th>\n",
       "    </tr>\n",
       "  </thead>\n",
       "  <tbody>\n",
       "    <tr>\n",
       "      <th>2014-11-23 07:00:00</th>\n",
       "      <td>13.894031</td>\n",
       "    </tr>\n",
       "    <tr>\n",
       "      <th>2014-11-23 08:00:00</th>\n",
       "      <td>33.578274</td>\n",
       "    </tr>\n",
       "    <tr>\n",
       "      <th>2014-11-23 09:00:00</th>\n",
       "      <td>88.933746</td>\n",
       "    </tr>\n",
       "    <tr>\n",
       "      <th>2014-11-23 10:00:00</th>\n",
       "      <td>125.389424</td>\n",
       "    </tr>\n",
       "    <tr>\n",
       "      <th>2014-11-23 11:00:00</th>\n",
       "      <td>152.962000</td>\n",
       "    </tr>\n",
       "    <tr>\n",
       "      <th>...</th>\n",
       "      <td>...</td>\n",
       "    </tr>\n",
       "    <tr>\n",
       "      <th>2015-01-21 07:00:00</th>\n",
       "      <td>-141.419766</td>\n",
       "    </tr>\n",
       "    <tr>\n",
       "      <th>2015-01-21 08:00:00</th>\n",
       "      <td>-139.657834</td>\n",
       "    </tr>\n",
       "    <tr>\n",
       "      <th>2015-01-21 09:00:00</th>\n",
       "      <td>-70.550652</td>\n",
       "    </tr>\n",
       "    <tr>\n",
       "      <th>2015-01-21 10:00:00</th>\n",
       "      <td>-16.857148</td>\n",
       "    </tr>\n",
       "    <tr>\n",
       "      <th>2015-01-21 11:00:00</th>\n",
       "      <td>7.757660</td>\n",
       "    </tr>\n",
       "  </tbody>\n",
       "</table>\n",
       "<p>1421 rows × 1 columns</p>\n",
       "</div>"
      ],
      "text/plain": [
       "                          value\n",
       "timestamp                      \n",
       "2014-11-23 07:00:00   13.894031\n",
       "2014-11-23 08:00:00   33.578274\n",
       "2014-11-23 09:00:00   88.933746\n",
       "2014-11-23 10:00:00  125.389424\n",
       "2014-11-23 11:00:00  152.962000\n",
       "...                         ...\n",
       "2015-01-21 07:00:00 -141.419766\n",
       "2015-01-21 08:00:00 -139.657834\n",
       "2015-01-21 09:00:00  -70.550652\n",
       "2015-01-21 10:00:00  -16.857148\n",
       "2015-01-21 11:00:00    7.757660\n",
       "\n",
       "[1421 rows x 1 columns]"
      ]
     },
     "execution_count": 48,
     "metadata": {},
     "output_type": "execute_result"
    }
   ],
   "source": [
    "vals = vals.drop(columns=['is_anomaly'],axis=1)\n",
    "\n",
    "vals"
   ]
  },
  {
   "cell_type": "code",
   "execution_count": 65,
   "metadata": {},
   "outputs": [
    {
     "data": {
      "image/png": "[encoded data removed]",
      "text/plain": [
       "<Figure size 432x288 with 1 Axes>"
      ]
     },
     "metadata": {
      "needs_background": "light"
     },
     "output_type": "display_data"
    }
   ],
   "source": [
    "plt.plot_date(vals.index,vals.value)\n",
    "plt.gcf().autofmt_xdate()"
   ]
  },
  {
   "cell_type": "code",
   "execution_count": 66,
   "metadata": {},
   "outputs": [],
   "source": [
    "scaler = MinMaxScaler(feature_range=(0, 1))\n",
    "scaler = scaler.fit(vals)"
   ]
  },
  {
   "cell_type": "code",
   "execution_count": 62,
   "metadata": {},
   "outputs": [
    {
     "name": "stdout",
     "output_type": "stream",
     "text": [
      "Min: -1421.039008, Max: 1416.912543\n"
     ]
    }
   ],
   "source": [
    "print('Min: %f, Max: %f' % (scaler.data_min_, scaler.data_max_))"
   ]
  },
  {
   "cell_type": "code",
   "execution_count": 63,
   "metadata": {},
   "outputs": [
    {
     "name": "stdout",
     "output_type": "stream",
     "text": [
      "[0.50562281]\n",
      "[0.51255888]\n",
      "[0.53206432]\n",
      "[0.54491009]\n",
      "[0.55462575]\n"
     ]
    }
   ],
   "source": [
    "normalized = scaler.transform(vals)\n",
    "for i in range(5):\n",
    "\tprint(normalized[i])"
   ]
  },
  {
   "cell_type": "code",
   "execution_count": 64,
   "metadata": {},
   "outputs": [
    {
     "name": "stdout",
     "output_type": "stream",
     "text": [
      "[13.8940312]\n",
      "[33.57827355]\n",
      "[88.93374618]\n",
      "[125.3894237]\n",
      "[152.96199964]\n"
     ]
    }
   ],
   "source": [
    "inversed = scaler.inverse_transform(normalized)\n",
    "for i in range(5):\n",
    "\tprint(inversed[i])"
   ]
  },
  {
   "cell_type": "code",
   "execution_count": null,
   "metadata": {},
   "outputs": [],
   "source": []
  },
  {
   "cell_type": "markdown",
   "metadata": {},
   "source": [
    "## Standardization"
   ]
  },
  {
   "cell_type": "markdown",
   "metadata": {},
   "source": [
    "Standardizing a dataset involves rescaling the distribution of values so that the mean of observed values is 0 and the standard deviation is 1.\n",
    "\n",
    "This can be thought of as subtracting the mean value or centering the data."
   ]
  },
  {
   "cell_type": "markdown",
   "metadata": {},
   "source": [
    "Standardization assumes that your observations fit a Gaussian distribution (bell curve) with a well behaved mean and standard deviation. You can still standardize your time series data if this expectation is not met, but you may not get reliable results."
   ]
  },
  {
   "cell_type": "markdown",
   "metadata": {},
   "source": [
    "Standardization requires that you know or are able to accurately estimate the mean and standard deviation of observable values. You may be able to estimate these values from your training data."
   ]
  },
  {
   "cell_type": "code",
   "execution_count": 71,
   "metadata": {},
   "outputs": [],
   "source": [
    "from sklearn.preprocessing import StandardScaler\n",
    "from math import sqrt"
   ]
  },
  {
   "cell_type": "code",
   "execution_count": 72,
   "metadata": {},
   "outputs": [
    {
     "data": {
      "text/html": [
       "<div>\n",
       "<style scoped>\n",
       "    .dataframe tbody tr th:only-of-type {\n",
       "        vertical-align: middle;\n",
       "    }\n",
       "\n",
       "    .dataframe tbody tr th {\n",
       "        vertical-align: top;\n",
       "    }\n",
       "\n",
       "    .dataframe thead th {\n",
       "        text-align: right;\n",
       "    }\n",
       "</style>\n",
       "<table border=\"1\" class=\"dataframe\">\n",
       "  <thead>\n",
       "    <tr style=\"text-align: right;\">\n",
       "      <th></th>\n",
       "      <th>value</th>\n",
       "      <th>is_anomaly</th>\n",
       "    </tr>\n",
       "    <tr>\n",
       "      <th>timestamp</th>\n",
       "      <th></th>\n",
       "      <th></th>\n",
       "    </tr>\n",
       "  </thead>\n",
       "  <tbody>\n",
       "    <tr>\n",
       "      <th>2014-11-23 07:00:00</th>\n",
       "      <td>13.894031</td>\n",
       "      <td>0</td>\n",
       "    </tr>\n",
       "    <tr>\n",
       "      <th>2014-11-23 08:00:00</th>\n",
       "      <td>33.578274</td>\n",
       "      <td>0</td>\n",
       "    </tr>\n",
       "    <tr>\n",
       "      <th>2014-11-23 09:00:00</th>\n",
       "      <td>88.933746</td>\n",
       "      <td>0</td>\n",
       "    </tr>\n",
       "    <tr>\n",
       "      <th>2014-11-23 10:00:00</th>\n",
       "      <td>125.389424</td>\n",
       "      <td>0</td>\n",
       "    </tr>\n",
       "    <tr>\n",
       "      <th>2014-11-23 11:00:00</th>\n",
       "      <td>152.962000</td>\n",
       "      <td>0</td>\n",
       "    </tr>\n",
       "    <tr>\n",
       "      <th>...</th>\n",
       "      <td>...</td>\n",
       "      <td>...</td>\n",
       "    </tr>\n",
       "    <tr>\n",
       "      <th>2015-01-21 07:00:00</th>\n",
       "      <td>-141.419766</td>\n",
       "      <td>0</td>\n",
       "    </tr>\n",
       "    <tr>\n",
       "      <th>2015-01-21 08:00:00</th>\n",
       "      <td>-139.657834</td>\n",
       "      <td>0</td>\n",
       "    </tr>\n",
       "    <tr>\n",
       "      <th>2015-01-21 09:00:00</th>\n",
       "      <td>-70.550652</td>\n",
       "      <td>0</td>\n",
       "    </tr>\n",
       "    <tr>\n",
       "      <th>2015-01-21 10:00:00</th>\n",
       "      <td>-16.857148</td>\n",
       "      <td>0</td>\n",
       "    </tr>\n",
       "    <tr>\n",
       "      <th>2015-01-21 11:00:00</th>\n",
       "      <td>7.757660</td>\n",
       "      <td>0</td>\n",
       "    </tr>\n",
       "  </tbody>\n",
       "</table>\n",
       "<p>1421 rows × 2 columns</p>\n",
       "</div>"
      ],
      "text/plain": [
       "                          value  is_anomaly\n",
       "timestamp                                  \n",
       "2014-11-23 07:00:00   13.894031           0\n",
       "2014-11-23 08:00:00   33.578274           0\n",
       "2014-11-23 09:00:00   88.933746           0\n",
       "2014-11-23 10:00:00  125.389424           0\n",
       "2014-11-23 11:00:00  152.962000           0\n",
       "...                         ...         ...\n",
       "2015-01-21 07:00:00 -141.419766           0\n",
       "2015-01-21 08:00:00 -139.657834           0\n",
       "2015-01-21 09:00:00  -70.550652           0\n",
       "2015-01-21 10:00:00  -16.857148           0\n",
       "2015-01-21 11:00:00    7.757660           0\n",
       "\n",
       "[1421 rows x 2 columns]"
      ]
     },
     "execution_count": 72,
     "metadata": {},
     "output_type": "execute_result"
    }
   ],
   "source": [
    "series"
   ]
  },
  {
   "cell_type": "code",
   "execution_count": 73,
   "metadata": {},
   "outputs": [
    {
     "data": {
      "image/png": "[encoded data removed]",
      "text/plain": [
       "<Figure size 432x288 with 1 Axes>"
      ]
     },
     "metadata": {
      "needs_background": "light"
     },
     "output_type": "display_data"
    }
   ],
   "source": [
    "series.value.hist()\n",
    "plt.show()"
   ]
  },
  {
   "cell_type": "code",
   "execution_count": 74,
   "metadata": {},
   "outputs": [
    {
     "name": "stdout",
     "output_type": "stream",
     "text": [
      "Mean: 6.368346, StandardDeviation: 987.420584\n",
      "[0.00762156]\n",
      "[0.02755657]\n",
      "[0.08361726]\n",
      "[0.12053737]\n",
      "[0.14846121]\n",
      "[-1399.40939004]\n",
      "[-1342.83478851]\n",
      "[-1183.73728543]\n",
      "[-1078.95979926]\n",
      "[-999.71328981]\n"
     ]
    }
   ],
   "source": [
    "# prepare data for standardization\n",
    "values = series.copy()\n",
    "values = values.drop(columns=['is_anomaly'],axis=1)\n",
    "#values = values.reshape((len(values), 1))\n",
    "\n",
    "# train the standardization\n",
    "scaler2 = StandardScaler()\n",
    "scaler2 = scaler2.fit(values)\n",
    "print('Mean: %f, StandardDeviation: %f' % (scaler2.mean_, sqrt(scaler2.var_)))\n",
    "# standardization the dataset and print the first 5 rows\n",
    "standardaized = scaler2.transform(values)\n",
    "for i in range(5):\n",
    "    print(standardaized[i])\n",
    "\n",
    "# inverse transform and print the first 5 rows\n",
    "inversed = scaler.inverse_transform(standardaized)\n",
    "for i in range(5):\n",
    "    print(inversed[i])"
   ]
  },
  {
   "cell_type": "markdown",
   "metadata": {},
   "source": [
    "# Now do it in a for loop"
   ]
  },
  {
   "cell_type": "code",
   "execution_count": null,
   "metadata": {},
   "outputs": [],
   "source": [
    "for index,file in enumerate(all_csv):\n",
    "    \n",
    "    if index%10 == 0:\n",
    "        print(f'Processing index: {index} of {len(all_csv)}')"
   ]
  },
  {
   "cell_type": "code",
   "execution_count": null,
   "metadata": {},
   "outputs": [],
   "source": [
    "series = pd.read_csv(\"D:/Temp/time-series/data/yahoo/dataset/ydata-labeled-time-series-anomalies-v1_0/A2Benchmark/synthetic_1.csv\")\n",
    "series.head()\n",
    "\n",
    "# Set the datetime as index and convert from unix time to human readable datetime\n",
    "series['timestamp'] = pd.to_datetime(series['timestamp'],unit='s')\n",
    "series = series.set_index('timestamp')\n",
    "\n",
    "# pick out values for normalization\n",
    "vals = series.copy()#pd.DataFrame(series['value'])\n",
    "vals = vals.drop(columns=['is_anomaly'],axis=1)\n",
    "\n",
    "print(vals)\n",
    "\n",
    "#Normalize - train\n",
    "scaler = MinMaxScaler(feature_range=(0, 1))\n",
    "scaler = scaler.fit(vals)\n",
    "print('Min: %f, Max: %f' % (scaler.data_min_, scaler.data_max_))\n",
    "\n",
    "#Test transform and inverse transform.\n",
    "print(vals.value.head())\n",
    "\n",
    "normalized = scaler.transform(vals)\n",
    "for i in range(5):\n",
    "\tprint(normalized[i])\n",
    "\n",
    "inversed = scaler.inverse_transform(normalized)\n",
    "for i in range(5):\n",
    "\tprint(inversed[i])\n",
    "\n",
    "##STANDASRDIZATION\n",
    "\n",
    "# prepare data for standardization\n",
    "values = series.copy()\n",
    "values = values.drop(columns=['is_anomaly'],axis=1)\n",
    "#values = values.reshape((len(values), 1))\n",
    "\n",
    "# train the standardization\n",
    "scaler2 = StandardScaler()\n",
    "scaler2 = scaler2.fit(values)\n",
    "print('Mean: %f, StandardDeviation: %f' % (scaler2.mean_, sqrt(scaler2.var_)))\n",
    "# standardization the dataset and print the first 5 rows\n",
    "standardaized = scaler2.transform(values)\n",
    "for i in range(5):\n",
    "\tprint(standardaized[i])\n",
    "\n",
    "# inverse transform and print the first 5 rows\n",
    "inversed = scaler.inverse_transform(standardaized)\n",
    "for i in range(5):\n",
    "\tprint(inversed[i])\n",
    "\n",
    "plt.gcf().set_size_inches(10,10)\n",
    "plt.subplot(4,1,1)\n",
    "series.value.hist()\n",
    "plt.subplot(4,1,2)\n",
    "plt.plot_date(vals.index,vals.value)\n",
    "plt.gcf().autofmt_xdate()\n",
    "plt.subplot(4,1,3)\n",
    "plt.plot_date(vals.index,normalized)\n",
    "plt.gcf().autofmt_xdate()\n",
    "plt.subplot(4,1,4)\n",
    "plt.plot_date(vals.index,standardaized)\n",
    "plt.gcf().autofmt_xdate()"
   ]
  }
 ],
 "metadata": {
  "kernelspec": {
   "display_name": "Python 3",
   "language": "python",
   "name": "python3"
  },
  "language_info": {
   "codemirror_mode": {
    "name": "ipython",
    "version": 3
   },
   "file_extension": ".py",
   "mimetype": "text/x-python",
   "name": "python",
   "nbconvert_exporter": "python",
   "pygments_lexer": "ipython3",
   "version": "3.8.3"
  },
  "toc": {
   "base_numbering": 1,
   "nav_menu": {},
   "number_sections": true,
   "sideBar": true,
   "skip_h1_title": false,
   "title_cell": "Table of Contents",
   "title_sidebar": "Contents",
   "toc_cell": true,
   "toc_position": {},
   "toc_section_display": true,
   "toc_window_display": true
  }
 },
 "nbformat": 4,
 "nbformat_minor": 4
}
