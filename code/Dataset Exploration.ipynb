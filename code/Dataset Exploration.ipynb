{
 "cells": [
  {
   "cell_type": "markdown",
   "metadata": {
    "toc": true
   },
   "source": [
    "<h1>Table of Contents<span class=\"tocSkip\"></span></h1>\n",
    "<div class=\"toc\"><ul class=\"toc-item\"><li><span><a href=\"#Imports\" data-toc-modified-id=\"Imports-1\"><span class=\"toc-item-num\">1&nbsp;&nbsp;</span>Imports</a></span></li><li><span><a href=\"#Yahoo-S5-DataSet-–-Yahoo-Research-Lab\" data-toc-modified-id=\"Yahoo-S5-DataSet-–-Yahoo-Research-Lab-2\"><span class=\"toc-item-num\">2&nbsp;&nbsp;</span>Yahoo S5 DataSet – Yahoo Research Lab</a></span><ul class=\"toc-item\"><li><span><a href=\"#Features\" data-toc-modified-id=\"Features-2.1\"><span class=\"toc-item-num\">2.1&nbsp;&nbsp;</span>Features</a></span></li><li><span><a href=\"#Line-Charts\" data-toc-modified-id=\"Line-Charts-2.2\"><span class=\"toc-item-num\">2.2&nbsp;&nbsp;</span>Line Charts</a></span></li><li><span><a href=\"#Box-Plots\" data-toc-modified-id=\"Box-Plots-2.3\"><span class=\"toc-item-num\">2.3&nbsp;&nbsp;</span>Box Plots</a></span></li><li><span><a href=\"#Box-plots-in-a-loop\" data-toc-modified-id=\"Box-plots-in-a-loop-2.4\"><span class=\"toc-item-num\">2.4&nbsp;&nbsp;</span>Box plots in a loop</a></span></li><li><span><a href=\"#Accessing-the-Data\" data-toc-modified-id=\"Accessing-the-Data-2.5\"><span class=\"toc-item-num\">2.5&nbsp;&nbsp;</span>Accessing the Data</a></span></li></ul></li><li><span><a href=\"#NASA-Statlog-Shuttle-Dataset-–-UCI\" data-toc-modified-id=\"NASA-Statlog-Shuttle-Dataset-–-UCI-3\"><span class=\"toc-item-num\">3&nbsp;&nbsp;</span>NASA Statlog Shuttle Dataset – UCI</a></span><ul class=\"toc-item\"><li><span><a href=\"#Features\" data-toc-modified-id=\"Features-3.1\"><span class=\"toc-item-num\">3.1&nbsp;&nbsp;</span>Features</a></span></li><li><span><a href=\"#Exploring-Anomalies-in-the-Datasets\" data-toc-modified-id=\"Exploring-Anomalies-in-the-Datasets-3.2\"><span class=\"toc-item-num\">3.2&nbsp;&nbsp;</span>Exploring Anomalies in the Datasets</a></span></li><li><span><a href=\"#Data-Preprocessing\" data-toc-modified-id=\"Data-Preprocessing-3.3\"><span class=\"toc-item-num\">3.3&nbsp;&nbsp;</span>Data Preprocessing</a></span><ul class=\"toc-item\"><li><span><a href=\"#Scratchpad-for-Stdzn-and-Normzn\" data-toc-modified-id=\"Scratchpad-for-Stdzn-and-Normzn-3.3.1\"><span class=\"toc-item-num\">3.3.1&nbsp;&nbsp;</span>Scratchpad for Stdzn and Normzn</a></span></li></ul></li></ul></li><li><span><a href=\"#Domains-of-application\" data-toc-modified-id=\"Domains-of-application-4\"><span class=\"toc-item-num\">4&nbsp;&nbsp;</span>Domains of application</a></span></li><li><span><a href=\"#Time-Series-Attributes\" data-toc-modified-id=\"Time-Series-Attributes-5\"><span class=\"toc-item-num\">5&nbsp;&nbsp;</span>Time Series Attributes</a></span><ul class=\"toc-item\"><li><span><a href=\"#Trend\" data-toc-modified-id=\"Trend-5.1\"><span class=\"toc-item-num\">5.1&nbsp;&nbsp;</span>Trend</a></span></li><li><span><a href=\"#Seasonality\" data-toc-modified-id=\"Seasonality-5.2\"><span class=\"toc-item-num\">5.2&nbsp;&nbsp;</span>Seasonality</a></span></li><li><span><a href=\"#Decomposition\" data-toc-modified-id=\"Decomposition-5.3\"><span class=\"toc-item-num\">5.3&nbsp;&nbsp;</span>Decomposition</a></span></li><li><span><a href=\"#Stationarity\" data-toc-modified-id=\"Stationarity-5.4\"><span class=\"toc-item-num\">5.4&nbsp;&nbsp;</span>Stationarity</a></span></li><li><span><a href=\"#Autocorrelation\" data-toc-modified-id=\"Autocorrelation-5.5\"><span class=\"toc-item-num\">5.5&nbsp;&nbsp;</span>Autocorrelation</a></span></li></ul></li><li><span><a href=\"#Analysis-Methods-and-Approaches\" data-toc-modified-id=\"Analysis-Methods-and-Approaches-6\"><span class=\"toc-item-num\">6&nbsp;&nbsp;</span>Analysis Methods and Approaches</a></span><ul class=\"toc-item\"><li><span><a href=\"#Normal-and-Mutation-Analysis\" data-toc-modified-id=\"Normal-and-Mutation-Analysis-6.1\"><span class=\"toc-item-num\">6.1&nbsp;&nbsp;</span>Normal and Mutation Analysis</a></span></li><li><span><a href=\"#STL-Decomposition\" data-toc-modified-id=\"STL-Decomposition-6.2\"><span class=\"toc-item-num\">6.2&nbsp;&nbsp;</span>STL Decomposition</a></span></li><li><span><a href=\"#Auto-Regressive-Model\" data-toc-modified-id=\"Auto-Regressive-Model-6.3\"><span class=\"toc-item-num\">6.3&nbsp;&nbsp;</span>Auto Regressive Model</a></span></li><li><span><a href=\"#Moving-Average-model\" data-toc-modified-id=\"Moving-Average-model-6.4\"><span class=\"toc-item-num\">6.4&nbsp;&nbsp;</span>Moving Average model</a></span></li><li><span><a href=\"#ARIMA-models\" data-toc-modified-id=\"ARIMA-models-6.5\"><span class=\"toc-item-num\">6.5&nbsp;&nbsp;</span>ARIMA models</a></span></li><li><span><a href=\"#Holt-Winters\" data-toc-modified-id=\"Holt-Winters-6.6\"><span class=\"toc-item-num\">6.6&nbsp;&nbsp;</span>Holt Winters</a></span></li><li><span><a href=\"#Isolation-Forest\" data-toc-modified-id=\"Isolation-Forest-6.7\"><span class=\"toc-item-num\">6.7&nbsp;&nbsp;</span>Isolation Forest</a></span></li><li><span><a href=\"#Elliptical-Envelope\" data-toc-modified-id=\"Elliptical-Envelope-6.8\"><span class=\"toc-item-num\">6.8&nbsp;&nbsp;</span>Elliptical Envelope</a></span></li><li><span><a href=\"#Local-Outlier-Factor\" data-toc-modified-id=\"Local-Outlier-Factor-6.9\"><span class=\"toc-item-num\">6.9&nbsp;&nbsp;</span>Local Outlier Factor</a></span></li></ul></li><li><span><a href=\"#Estimation-and-Accuracy-methods\" data-toc-modified-id=\"Estimation-and-Accuracy-methods-7\"><span class=\"toc-item-num\">7&nbsp;&nbsp;</span>Estimation and Accuracy methods</a></span></li></ul></div>"
   ]
  },
  {
   "cell_type": "markdown",
   "metadata": {},
   "source": [
    "# Imports"
   ]
  },
  {
   "cell_type": "code",
   "execution_count": 10,
   "metadata": {
    "ExecuteTime": {
     "end_time": "2020-09-12T16:28:19.048408Z",
     "start_time": "2020-09-12T16:28:15.722356Z"
    }
   },
   "outputs": [],
   "source": [
    "import glob\n",
    "from datetime import datetime\n",
    "import pandas as pd\n",
    "import numpy as np\n",
    "from matplotlib import pyplot as plt\n",
    "import os\n",
    "from sklearn.preprocessing import MinMaxScaler\n",
    "from sklearn.preprocessing import StandardScaler\n",
    "from math import sqrt"
   ]
  },
  {
   "cell_type": "code",
   "execution_count": 3,
   "metadata": {
    "ExecuteTime": {
     "end_time": "2020-09-12T16:28:19.052436Z",
     "start_time": "2020-09-12T16:28:19.049417Z"
    }
   },
   "outputs": [],
   "source": [
    "def list_files(startpath):\n",
    "    for root, dirs, files in os.walk(startpath):\n",
    "        level = root.replace(startpath, '').count(os.sep)\n",
    "        indent = ' ' * 4 * (level)\n",
    "        print('{}{}/'.format(indent, os.path.basename(root)))\n",
    "        subindent = ' ' * 4 * (level + 1)\n",
    "        for f in files:\n",
    "            print('{}{}'.format(subindent, f))"
   ]
  },
  {
   "cell_type": "markdown",
   "metadata": {},
   "source": [
    "# Yahoo S5 DataSet – Yahoo Research Lab "
   ]
  },
  {
   "cell_type": "markdown",
   "metadata": {},
   "source": [
    "Released Date: 2015 \n",
    "\n",
    "Designed for: Benchmarking Anomaly Detection \n",
    "\n",
    "Size: 16 MB \n",
    "\n",
    "5 folders of Time Series, both real and synthetic. \n",
    "\n",
    "Folder 1: The real TS – Metrics of Yahoo services (Server Traffic) \n",
    "\n",
    "Folders 2-4: Synthetic TS with varying anomaly types including outliers and change-points. \n",
    "\n",
    "Folders 1-2 are Univariate containing only the 'value' feature.\n",
    "Folders 3-4 are Multivariate, containing features such as 'noise', "
   ]
  },
  {
   "cell_type": "code",
   "execution_count": 3,
   "metadata": {
    "ExecuteTime": {
     "end_time": "2020-09-12T16:28:19.239671Z",
     "start_time": "2020-09-12T16:28:19.053926Z"
    }
   },
   "outputs": [
    {
     "data": {
      "text/plain": [
       "['A1Benchmark',\n",
       " 'A2Benchmark',\n",
       " 'A2Mutation',\n",
       " 'A3Benchmark',\n",
       " 'A4Benchmark',\n",
       " 'README.txt',\n",
       " 'WebscopeReadMe.txt']"
      ]
     },
     "execution_count": 3,
     "metadata": {},
     "output_type": "execute_result"
    }
   ],
   "source": [
    "os.listdir(\"../data/yahoo/dataset/ydata-labeled-time-series-anomalies-v1_0\")"
   ]
  },
  {
   "cell_type": "code",
   "execution_count": 4,
   "metadata": {
    "ExecuteTime": {
     "end_time": "2020-09-12T16:28:19.312495Z",
     "start_time": "2020-09-12T16:28:19.240929Z"
    }
   },
   "outputs": [
    {
     "data": {
      "text/plain": [
       "['real_21.csv',\n",
       " 'real_4.csv',\n",
       " '.json',\n",
       " 'real_1.csv',\n",
       " 'real_10.csv',\n",
       " 'real_11.csv',\n",
       " 'real_12.csv',\n",
       " 'real_13.csv',\n",
       " 'real_14.csv',\n",
       " 'real_15.csv',\n",
       " 'real_16.csv',\n",
       " 'real_17.csv',\n",
       " 'real_18.csv',\n",
       " 'real_19.csv',\n",
       " 'real_2.csv',\n",
       " 'real_20.csv',\n",
       " 'real_40.csv',\n",
       " 'real_41.csv',\n",
       " 'real_42.csv',\n",
       " 'real_43.csv',\n",
       " 'real_44.csv',\n",
       " 'real_45.csv',\n",
       " 'real_46.csv',\n",
       " 'real_47.csv',\n",
       " 'real_48.csv',\n",
       " 'real_49.csv',\n",
       " 'real_5.csv',\n",
       " 'real_50.csv',\n",
       " 'real_51.csv',\n",
       " 'real_52.csv',\n",
       " 'real_53.csv',\n",
       " 'real_54.csv',\n",
       " 'real_55.csv',\n",
       " 'real_56.csv',\n",
       " 'real_57.csv',\n",
       " 'real_58.csv',\n",
       " 'real_59.csv',\n",
       " 'real_6.csv',\n",
       " 'real_60.csv',\n",
       " 'real_61.csv',\n",
       " 'real_62.csv',\n",
       " 'real_63.csv',\n",
       " 'real_64.csv',\n",
       " 'real_65.csv',\n",
       " 'real_66.csv',\n",
       " 'real_67.csv',\n",
       " 'real_7.csv',\n",
       " 'real_8.csv',\n",
       " 'real_9.csv',\n",
       " 'real_22.csv',\n",
       " 'real_23.csv',\n",
       " 'real_24.csv',\n",
       " 'real_25.csv',\n",
       " 'real_26.csv',\n",
       " 'real_27.csv',\n",
       " 'real_28.csv',\n",
       " 'real_29.csv',\n",
       " 'real_3.csv',\n",
       " 'real_30.csv',\n",
       " 'real_31.csv',\n",
       " 'real_32.csv',\n",
       " 'real_33.csv',\n",
       " 'real_34.csv',\n",
       " 'real_35.csv',\n",
       " 'real_36.csv',\n",
       " 'real_37.csv',\n",
       " 'real_38.csv',\n",
       " 'real_39.csv']"
      ]
     },
     "execution_count": 4,
     "metadata": {},
     "output_type": "execute_result"
    }
   ],
   "source": [
    "os.listdir(\"../data/yahoo/dataset/ydata-labeled-time-series-anomalies-v1_0/A1Benchmark/\")"
   ]
  },
  {
   "cell_type": "code",
   "execution_count": 4,
   "metadata": {
    "ExecuteTime": {
     "end_time": "2020-09-12T16:28:19.375299Z",
     "start_time": "2020-09-12T16:28:19.315729Z"
    }
   },
   "outputs": [
    {
     "name": "stdout",
     "output_type": "stream",
     "text": [
      "Loaded the paths of 367 files from disk. Took 0:00:00.146490\n"
     ]
    }
   ],
   "source": [
    "start_time = datetime.now()\n",
    "A1 = glob.glob(f'../data/yahoo/dataset/ydata-labeled-time-series-anomalies-v1_0/A1Benchmark/**/*.csv', recursive=True)\n",
    "A2 = glob.glob(f'../data/yahoo/dataset/ydata-labeled-time-series-anomalies-v1_0/A2Benchmark/**/*.csv', recursive=True)\n",
    "A3 = glob.glob(f'../data/yahoo/dataset/ydata-labeled-time-series-anomalies-v1_0/A3Benchmark/**/A3Benchmark-TS*.csv', recursive=True)\n",
    "A4 = glob.glob(f'../data/yahoo/dataset/ydata-labeled-time-series-anomalies-v1_0/A4Benchmark/**/A4Benchmark-TS*.csv', recursive=True)\n",
    "end_time = datetime.now()\n",
    "print(f'Loaded the paths of {len(A1) + len(A2) + len(A3) + len(A4) } files from disk. Took {end_time-start_time}')"
   ]
  },
  {
   "cell_type": "code",
   "execution_count": 5,
   "metadata": {
    "ExecuteTime": {
     "end_time": "2020-09-12T16:28:19.473278Z",
     "start_time": "2020-09-12T16:28:19.376549Z"
    }
   },
   "outputs": [],
   "source": [
    "all_csv = A1 + A2 + A3 + A4"
   ]
  },
  {
   "cell_type": "code",
   "execution_count": 6,
   "metadata": {
    "ExecuteTime": {
     "end_time": "2020-09-12T16:28:19.658123Z",
     "start_time": "2020-09-12T16:28:19.477538Z"
    }
   },
   "outputs": [
    {
     "data": {
      "text/plain": [
       "367"
      ]
     },
     "execution_count": 6,
     "metadata": {},
     "output_type": "execute_result"
    }
   ],
   "source": [
    "len(all_csv)"
   ]
  },
  {
   "cell_type": "markdown",
   "metadata": {},
   "source": [
    "## Features"
   ]
  },
  {
   "cell_type": "code",
   "execution_count": 8,
   "metadata": {
    "ExecuteTime": {
     "end_time": "2020-09-12T16:28:20.567107Z",
     "start_time": "2020-09-12T16:28:19.660345Z"
    }
   },
   "outputs": [
    {
     "data": {
      "text/html": [
       "<div>\n",
       "<style scoped>\n",
       "    .dataframe tbody tr th:only-of-type {\n",
       "        vertical-align: middle;\n",
       "    }\n",
       "\n",
       "    .dataframe tbody tr th {\n",
       "        vertical-align: top;\n",
       "    }\n",
       "\n",
       "    .dataframe thead th {\n",
       "        text-align: right;\n",
       "    }\n",
       "</style>\n",
       "<table border=\"1\" class=\"dataframe\">\n",
       "  <thead>\n",
       "    <tr style=\"text-align: right;\">\n",
       "      <th></th>\n",
       "      <th>timestamp</th>\n",
       "      <th>value</th>\n",
       "      <th>is_anomaly</th>\n",
       "    </tr>\n",
       "  </thead>\n",
       "  <tbody>\n",
       "    <tr>\n",
       "      <th>0</th>\n",
       "      <td>1970-01-01 00:00:01</td>\n",
       "      <td>0</td>\n",
       "      <td>0</td>\n",
       "    </tr>\n",
       "    <tr>\n",
       "      <th>1</th>\n",
       "      <td>1970-01-01 00:00:02</td>\n",
       "      <td>153</td>\n",
       "      <td>0</td>\n",
       "    </tr>\n",
       "    <tr>\n",
       "      <th>2</th>\n",
       "      <td>1970-01-01 00:00:03</td>\n",
       "      <td>159</td>\n",
       "      <td>0</td>\n",
       "    </tr>\n",
       "    <tr>\n",
       "      <th>3</th>\n",
       "      <td>1970-01-01 00:00:04</td>\n",
       "      <td>188</td>\n",
       "      <td>0</td>\n",
       "    </tr>\n",
       "    <tr>\n",
       "      <th>4</th>\n",
       "      <td>1970-01-01 00:00:05</td>\n",
       "      <td>116</td>\n",
       "      <td>0</td>\n",
       "    </tr>\n",
       "    <tr>\n",
       "      <th>...</th>\n",
       "      <td>...</td>\n",
       "      <td>...</td>\n",
       "      <td>...</td>\n",
       "    </tr>\n",
       "    <tr>\n",
       "      <th>1415</th>\n",
       "      <td>1970-01-01 00:23:36</td>\n",
       "      <td>97</td>\n",
       "      <td>0</td>\n",
       "    </tr>\n",
       "    <tr>\n",
       "      <th>1416</th>\n",
       "      <td>1970-01-01 00:23:37</td>\n",
       "      <td>120</td>\n",
       "      <td>0</td>\n",
       "    </tr>\n",
       "    <tr>\n",
       "      <th>1417</th>\n",
       "      <td>1970-01-01 00:23:38</td>\n",
       "      <td>181</td>\n",
       "      <td>0</td>\n",
       "    </tr>\n",
       "    <tr>\n",
       "      <th>1418</th>\n",
       "      <td>1970-01-01 00:23:39</td>\n",
       "      <td>161</td>\n",
       "      <td>0</td>\n",
       "    </tr>\n",
       "    <tr>\n",
       "      <th>1419</th>\n",
       "      <td>1970-01-01 00:23:40</td>\n",
       "      <td>189</td>\n",
       "      <td>0</td>\n",
       "    </tr>\n",
       "  </tbody>\n",
       "</table>\n",
       "<p>1420 rows × 3 columns</p>\n",
       "</div>"
      ],
      "text/plain": [
       "               timestamp  value  is_anomaly\n",
       "0    1970-01-01 00:00:01      0           0\n",
       "1    1970-01-01 00:00:02    153           0\n",
       "2    1970-01-01 00:00:03    159           0\n",
       "3    1970-01-01 00:00:04    188           0\n",
       "4    1970-01-01 00:00:05    116           0\n",
       "...                  ...    ...         ...\n",
       "1415 1970-01-01 00:23:36     97           0\n",
       "1416 1970-01-01 00:23:37    120           0\n",
       "1417 1970-01-01 00:23:38    181           0\n",
       "1418 1970-01-01 00:23:39    161           0\n",
       "1419 1970-01-01 00:23:40    189           0\n",
       "\n",
       "[1420 rows x 3 columns]"
      ]
     },
     "execution_count": 8,
     "metadata": {},
     "output_type": "execute_result"
    }
   ],
   "source": [
    "dfarray = []\n",
    "for ts in [A1[0],A2[0]]:\n",
    "    df = pd.read_csv(ts)\n",
    "    df['timestamp'] = pd.to_datetime(df['timestamp'],unit='s')#format='%f' if formatting required upto nanoseconds\n",
    "    dfarray.append(df)\n",
    "dfarray[0]"
   ]
  },
  {
   "cell_type": "code",
   "execution_count": 9,
   "metadata": {
    "ExecuteTime": {
     "end_time": "2020-09-12T16:28:20.715269Z",
     "start_time": "2020-09-12T16:28:20.568315Z"
    }
   },
   "outputs": [
    {
     "name": "stdout",
     "output_type": "stream",
     "text": [
      "../data/yahoo/dataset/ydata-labeled-time-series-anomalies-v1_0/A1Benchmark/real_21.csv\n"
     ]
    },
    {
     "data": {
      "text/html": [
       "<div>\n",
       "<style scoped>\n",
       "    .dataframe tbody tr th:only-of-type {\n",
       "        vertical-align: middle;\n",
       "    }\n",
       "\n",
       "    .dataframe tbody tr th {\n",
       "        vertical-align: top;\n",
       "    }\n",
       "\n",
       "    .dataframe thead th {\n",
       "        text-align: right;\n",
       "    }\n",
       "</style>\n",
       "<table border=\"1\" class=\"dataframe\">\n",
       "  <thead>\n",
       "    <tr style=\"text-align: right;\">\n",
       "      <th></th>\n",
       "      <th>timestamp</th>\n",
       "      <th>value</th>\n",
       "      <th>is_anomaly</th>\n",
       "    </tr>\n",
       "  </thead>\n",
       "  <tbody>\n",
       "    <tr>\n",
       "      <th>0</th>\n",
       "      <td>2014-11-23 07:00:00</td>\n",
       "      <td>297.829102</td>\n",
       "      <td>0</td>\n",
       "    </tr>\n",
       "    <tr>\n",
       "      <th>1</th>\n",
       "      <td>2014-11-23 08:00:00</td>\n",
       "      <td>-16.734937</td>\n",
       "      <td>0</td>\n",
       "    </tr>\n",
       "    <tr>\n",
       "      <th>2</th>\n",
       "      <td>2014-11-23 09:00:00</td>\n",
       "      <td>418.295754</td>\n",
       "      <td>0</td>\n",
       "    </tr>\n",
       "    <tr>\n",
       "      <th>3</th>\n",
       "      <td>2014-11-23 10:00:00</td>\n",
       "      <td>457.428204</td>\n",
       "      <td>0</td>\n",
       "    </tr>\n",
       "    <tr>\n",
       "      <th>4</th>\n",
       "      <td>2014-11-23 11:00:00</td>\n",
       "      <td>311.510876</td>\n",
       "      <td>0</td>\n",
       "    </tr>\n",
       "    <tr>\n",
       "      <th>...</th>\n",
       "      <td>...</td>\n",
       "      <td>...</td>\n",
       "      <td>...</td>\n",
       "    </tr>\n",
       "    <tr>\n",
       "      <th>1416</th>\n",
       "      <td>2015-01-21 07:00:00</td>\n",
       "      <td>8910.889559</td>\n",
       "      <td>0</td>\n",
       "    </tr>\n",
       "    <tr>\n",
       "      <th>1417</th>\n",
       "      <td>2015-01-21 08:00:00</td>\n",
       "      <td>8130.658688</td>\n",
       "      <td>0</td>\n",
       "    </tr>\n",
       "    <tr>\n",
       "      <th>1418</th>\n",
       "      <td>2015-01-21 09:00:00</td>\n",
       "      <td>8762.876253</td>\n",
       "      <td>0</td>\n",
       "    </tr>\n",
       "    <tr>\n",
       "      <th>1419</th>\n",
       "      <td>2015-01-21 10:00:00</td>\n",
       "      <td>9070.204621</td>\n",
       "      <td>0</td>\n",
       "    </tr>\n",
       "    <tr>\n",
       "      <th>1420</th>\n",
       "      <td>2015-01-21 11:00:00</td>\n",
       "      <td>8766.279151</td>\n",
       "      <td>0</td>\n",
       "    </tr>\n",
       "  </tbody>\n",
       "</table>\n",
       "<p>1421 rows × 3 columns</p>\n",
       "</div>"
      ],
      "text/plain": [
       "               timestamp        value  is_anomaly\n",
       "0    2014-11-23 07:00:00   297.829102           0\n",
       "1    2014-11-23 08:00:00   -16.734937           0\n",
       "2    2014-11-23 09:00:00   418.295754           0\n",
       "3    2014-11-23 10:00:00   457.428204           0\n",
       "4    2014-11-23 11:00:00   311.510876           0\n",
       "...                  ...          ...         ...\n",
       "1416 2015-01-21 07:00:00  8910.889559           0\n",
       "1417 2015-01-21 08:00:00  8130.658688           0\n",
       "1418 2015-01-21 09:00:00  8762.876253           0\n",
       "1419 2015-01-21 10:00:00  9070.204621           0\n",
       "1420 2015-01-21 11:00:00  8766.279151           0\n",
       "\n",
       "[1421 rows x 3 columns]"
      ]
     },
     "execution_count": 9,
     "metadata": {},
     "output_type": "execute_result"
    }
   ],
   "source": [
    "print(A1[0])\n",
    "df"
   ]
  },
  {
   "cell_type": "code",
   "execution_count": 10,
   "metadata": {
    "ExecuteTime": {
     "end_time": "2020-09-12T16:28:20.795514Z",
     "start_time": "2020-09-12T16:28:20.716688Z"
    }
   },
   "outputs": [
    {
     "name": "stdout",
     "output_type": "stream",
     "text": [
      "../data/yahoo/dataset/ydata-labeled-time-series-anomalies-v1_0/A2Benchmark/synthetic_23.csv\n"
     ]
    },
    {
     "data": {
      "text/html": [
       "<div>\n",
       "<style scoped>\n",
       "    .dataframe tbody tr th:only-of-type {\n",
       "        vertical-align: middle;\n",
       "    }\n",
       "\n",
       "    .dataframe tbody tr th {\n",
       "        vertical-align: top;\n",
       "    }\n",
       "\n",
       "    .dataframe thead th {\n",
       "        text-align: right;\n",
       "    }\n",
       "</style>\n",
       "<table border=\"1\" class=\"dataframe\">\n",
       "  <thead>\n",
       "    <tr style=\"text-align: right;\">\n",
       "      <th></th>\n",
       "      <th>timestamp</th>\n",
       "      <th>value</th>\n",
       "      <th>is_anomaly</th>\n",
       "    </tr>\n",
       "  </thead>\n",
       "  <tbody>\n",
       "    <tr>\n",
       "      <th>0</th>\n",
       "      <td>2014-11-23 07:00:00</td>\n",
       "      <td>297.829102</td>\n",
       "      <td>0</td>\n",
       "    </tr>\n",
       "    <tr>\n",
       "      <th>1</th>\n",
       "      <td>2014-11-23 08:00:00</td>\n",
       "      <td>-16.734937</td>\n",
       "      <td>0</td>\n",
       "    </tr>\n",
       "    <tr>\n",
       "      <th>2</th>\n",
       "      <td>2014-11-23 09:00:00</td>\n",
       "      <td>418.295754</td>\n",
       "      <td>0</td>\n",
       "    </tr>\n",
       "    <tr>\n",
       "      <th>3</th>\n",
       "      <td>2014-11-23 10:00:00</td>\n",
       "      <td>457.428204</td>\n",
       "      <td>0</td>\n",
       "    </tr>\n",
       "    <tr>\n",
       "      <th>4</th>\n",
       "      <td>2014-11-23 11:00:00</td>\n",
       "      <td>311.510876</td>\n",
       "      <td>0</td>\n",
       "    </tr>\n",
       "    <tr>\n",
       "      <th>...</th>\n",
       "      <td>...</td>\n",
       "      <td>...</td>\n",
       "      <td>...</td>\n",
       "    </tr>\n",
       "    <tr>\n",
       "      <th>1416</th>\n",
       "      <td>2015-01-21 07:00:00</td>\n",
       "      <td>8910.889559</td>\n",
       "      <td>0</td>\n",
       "    </tr>\n",
       "    <tr>\n",
       "      <th>1417</th>\n",
       "      <td>2015-01-21 08:00:00</td>\n",
       "      <td>8130.658688</td>\n",
       "      <td>0</td>\n",
       "    </tr>\n",
       "    <tr>\n",
       "      <th>1418</th>\n",
       "      <td>2015-01-21 09:00:00</td>\n",
       "      <td>8762.876253</td>\n",
       "      <td>0</td>\n",
       "    </tr>\n",
       "    <tr>\n",
       "      <th>1419</th>\n",
       "      <td>2015-01-21 10:00:00</td>\n",
       "      <td>9070.204621</td>\n",
       "      <td>0</td>\n",
       "    </tr>\n",
       "    <tr>\n",
       "      <th>1420</th>\n",
       "      <td>2015-01-21 11:00:00</td>\n",
       "      <td>8766.279151</td>\n",
       "      <td>0</td>\n",
       "    </tr>\n",
       "  </tbody>\n",
       "</table>\n",
       "<p>1421 rows × 3 columns</p>\n",
       "</div>"
      ],
      "text/plain": [
       "               timestamp        value  is_anomaly\n",
       "0    2014-11-23 07:00:00   297.829102           0\n",
       "1    2014-11-23 08:00:00   -16.734937           0\n",
       "2    2014-11-23 09:00:00   418.295754           0\n",
       "3    2014-11-23 10:00:00   457.428204           0\n",
       "4    2014-11-23 11:00:00   311.510876           0\n",
       "...                  ...          ...         ...\n",
       "1416 2015-01-21 07:00:00  8910.889559           0\n",
       "1417 2015-01-21 08:00:00  8130.658688           0\n",
       "1418 2015-01-21 09:00:00  8762.876253           0\n",
       "1419 2015-01-21 10:00:00  9070.204621           0\n",
       "1420 2015-01-21 11:00:00  8766.279151           0\n",
       "\n",
       "[1421 rows x 3 columns]"
      ]
     },
     "execution_count": 10,
     "metadata": {},
     "output_type": "execute_result"
    }
   ],
   "source": [
    "print(A2[0])\n",
    "dfarray[1]"
   ]
  },
  {
   "cell_type": "code",
   "execution_count": 11,
   "metadata": {
    "ExecuteTime": {
     "end_time": "2020-09-12T16:28:21.006821Z",
     "start_time": "2020-09-12T16:28:20.798262Z"
    }
   },
   "outputs": [
    {
     "name": "stdout",
     "output_type": "stream",
     "text": [
      "../data/yahoo/dataset/ydata-labeled-time-series-anomalies-v1_0/A3Benchmark/A3Benchmark-TS63.csv\n"
     ]
    },
    {
     "data": {
      "text/html": [
       "<div>\n",
       "<style scoped>\n",
       "    .dataframe tbody tr th:only-of-type {\n",
       "        vertical-align: middle;\n",
       "    }\n",
       "\n",
       "    .dataframe tbody tr th {\n",
       "        vertical-align: top;\n",
       "    }\n",
       "\n",
       "    .dataframe thead th {\n",
       "        text-align: right;\n",
       "    }\n",
       "</style>\n",
       "<table border=\"1\" class=\"dataframe\">\n",
       "  <thead>\n",
       "    <tr style=\"text-align: right;\">\n",
       "      <th></th>\n",
       "      <th>timestamps</th>\n",
       "      <th>value</th>\n",
       "      <th>anomaly</th>\n",
       "      <th>changepoint</th>\n",
       "      <th>trend</th>\n",
       "      <th>noise</th>\n",
       "      <th>seasonality1</th>\n",
       "      <th>seasonality2</th>\n",
       "      <th>seasonality3</th>\n",
       "    </tr>\n",
       "  </thead>\n",
       "  <tbody>\n",
       "    <tr>\n",
       "      <th>0</th>\n",
       "      <td>2014-11-23 06:00:00</td>\n",
       "      <td>-31.844578</td>\n",
       "      <td>0</td>\n",
       "      <td>0</td>\n",
       "      <td>2</td>\n",
       "      <td>-33.844578</td>\n",
       "      <td>0.000000</td>\n",
       "      <td>0.000000</td>\n",
       "      <td>0.000000</td>\n",
       "    </tr>\n",
       "    <tr>\n",
       "      <th>1</th>\n",
       "      <td>2014-11-23 07:00:00</td>\n",
       "      <td>343.994278</td>\n",
       "      <td>0</td>\n",
       "      <td>0</td>\n",
       "      <td>4</td>\n",
       "      <td>50.704584</td>\n",
       "      <td>212.750000</td>\n",
       "      <td>69.622323</td>\n",
       "      <td>6.917371</td>\n",
       "    </tr>\n",
       "    <tr>\n",
       "      <th>2</th>\n",
       "      <td>2014-11-23 08:00:00</td>\n",
       "      <td>560.962910</td>\n",
       "      <td>0</td>\n",
       "      <td>0</td>\n",
       "      <td>6</td>\n",
       "      <td>38.144033</td>\n",
       "      <td>368.493809</td>\n",
       "      <td>134.500000</td>\n",
       "      <td>13.825067</td>\n",
       "    </tr>\n",
       "    <tr>\n",
       "      <th>3</th>\n",
       "      <td>2014-11-23 09:00:00</td>\n",
       "      <td>604.581672</td>\n",
       "      <td>0</td>\n",
       "      <td>0</td>\n",
       "      <td>8</td>\n",
       "      <td>-39.843481</td>\n",
       "      <td>425.500000</td>\n",
       "      <td>190.211724</td>\n",
       "      <td>20.713428</td>\n",
       "    </tr>\n",
       "    <tr>\n",
       "      <th>4</th>\n",
       "      <td>2014-11-23 10:00:00</td>\n",
       "      <td>643.138832</td>\n",
       "      <td>0</td>\n",
       "      <td>0</td>\n",
       "      <td>10</td>\n",
       "      <td>4.111370</td>\n",
       "      <td>368.493809</td>\n",
       "      <td>232.960834</td>\n",
       "      <td>27.572819</td>\n",
       "    </tr>\n",
       "    <tr>\n",
       "      <th>...</th>\n",
       "      <td>...</td>\n",
       "      <td>...</td>\n",
       "      <td>...</td>\n",
       "      <td>...</td>\n",
       "      <td>...</td>\n",
       "      <td>...</td>\n",
       "      <td>...</td>\n",
       "      <td>...</td>\n",
       "      <td>...</td>\n",
       "    </tr>\n",
       "    <tr>\n",
       "      <th>1675</th>\n",
       "      <td>2015-02-01 01:00:00</td>\n",
       "      <td>2893.754170</td>\n",
       "      <td>0</td>\n",
       "      <td>0</td>\n",
       "      <td>3352</td>\n",
       "      <td>48.731864</td>\n",
       "      <td>-212.750000</td>\n",
       "      <td>-259.834047</td>\n",
       "      <td>-34.393647</td>\n",
       "    </tr>\n",
       "    <tr>\n",
       "      <th>1676</th>\n",
       "      <td>2015-02-01 02:00:00</td>\n",
       "      <td>2768.238935</td>\n",
       "      <td>0</td>\n",
       "      <td>0</td>\n",
       "      <td>3354</td>\n",
       "      <td>43.266398</td>\n",
       "      <td>-368.493809</td>\n",
       "      <td>-232.960834</td>\n",
       "      <td>-27.572819</td>\n",
       "    </tr>\n",
       "    <tr>\n",
       "      <th>1677</th>\n",
       "      <td>2015-02-01 03:00:00</td>\n",
       "      <td>2715.062157</td>\n",
       "      <td>0</td>\n",
       "      <td>0</td>\n",
       "      <td>3356</td>\n",
       "      <td>-4.512691</td>\n",
       "      <td>-425.500000</td>\n",
       "      <td>-190.211724</td>\n",
       "      <td>-20.713428</td>\n",
       "    </tr>\n",
       "    <tr>\n",
       "      <th>1678</th>\n",
       "      <td>2015-02-01 04:00:00</td>\n",
       "      <td>2872.566110</td>\n",
       "      <td>0</td>\n",
       "      <td>0</td>\n",
       "      <td>3358</td>\n",
       "      <td>31.384986</td>\n",
       "      <td>-368.493809</td>\n",
       "      <td>-134.500000</td>\n",
       "      <td>-13.825067</td>\n",
       "    </tr>\n",
       "    <tr>\n",
       "      <th>1679</th>\n",
       "      <td>2015-02-01 05:00:00</td>\n",
       "      <td>3051.506836</td>\n",
       "      <td>0</td>\n",
       "      <td>0</td>\n",
       "      <td>3360</td>\n",
       "      <td>-19.203469</td>\n",
       "      <td>-212.750000</td>\n",
       "      <td>-69.622323</td>\n",
       "      <td>-6.917371</td>\n",
       "    </tr>\n",
       "  </tbody>\n",
       "</table>\n",
       "<p>1680 rows × 9 columns</p>\n",
       "</div>"
      ],
      "text/plain": [
       "              timestamps        value  anomaly  changepoint  trend      noise  \\\n",
       "0    2014-11-23 06:00:00   -31.844578        0            0      2 -33.844578   \n",
       "1    2014-11-23 07:00:00   343.994278        0            0      4  50.704584   \n",
       "2    2014-11-23 08:00:00   560.962910        0            0      6  38.144033   \n",
       "3    2014-11-23 09:00:00   604.581672        0            0      8 -39.843481   \n",
       "4    2014-11-23 10:00:00   643.138832        0            0     10   4.111370   \n",
       "...                  ...          ...      ...          ...    ...        ...   \n",
       "1675 2015-02-01 01:00:00  2893.754170        0            0   3352  48.731864   \n",
       "1676 2015-02-01 02:00:00  2768.238935        0            0   3354  43.266398   \n",
       "1677 2015-02-01 03:00:00  2715.062157        0            0   3356  -4.512691   \n",
       "1678 2015-02-01 04:00:00  2872.566110        0            0   3358  31.384986   \n",
       "1679 2015-02-01 05:00:00  3051.506836        0            0   3360 -19.203469   \n",
       "\n",
       "      seasonality1  seasonality2  seasonality3  \n",
       "0         0.000000      0.000000      0.000000  \n",
       "1       212.750000     69.622323      6.917371  \n",
       "2       368.493809    134.500000     13.825067  \n",
       "3       425.500000    190.211724     20.713428  \n",
       "4       368.493809    232.960834     27.572819  \n",
       "...            ...           ...           ...  \n",
       "1675   -212.750000   -259.834047    -34.393647  \n",
       "1676   -368.493809   -232.960834    -27.572819  \n",
       "1677   -425.500000   -190.211724    -20.713428  \n",
       "1678   -368.493809   -134.500000    -13.825067  \n",
       "1679   -212.750000    -69.622323     -6.917371  \n",
       "\n",
       "[1680 rows x 9 columns]"
      ]
     },
     "execution_count": 11,
     "metadata": {},
     "output_type": "execute_result"
    }
   ],
   "source": [
    "for ts in [A3[0],A4[0]]:\n",
    "    df = pd.read_csv(ts)\n",
    "    df['timestamps'] = pd.to_datetime(df['timestamps'],unit='s')#format='%f' if formatting required upto nanoseconds\n",
    "    dfarray.append(df)\n",
    "print(A3[0])\n",
    "dfarray[2]"
   ]
  },
  {
   "cell_type": "code",
   "execution_count": 12,
   "metadata": {
    "ExecuteTime": {
     "end_time": "2020-09-12T16:28:21.018767Z",
     "start_time": "2020-09-12T16:28:21.008009Z"
    }
   },
   "outputs": [
    {
     "data": {
      "text/html": [
       "<div>\n",
       "<style scoped>\n",
       "    .dataframe tbody tr th:only-of-type {\n",
       "        vertical-align: middle;\n",
       "    }\n",
       "\n",
       "    .dataframe tbody tr th {\n",
       "        vertical-align: top;\n",
       "    }\n",
       "\n",
       "    .dataframe thead th {\n",
       "        text-align: right;\n",
       "    }\n",
       "</style>\n",
       "<table border=\"1\" class=\"dataframe\">\n",
       "  <thead>\n",
       "    <tr style=\"text-align: right;\">\n",
       "      <th></th>\n",
       "      <th>timestamps</th>\n",
       "      <th>value</th>\n",
       "      <th>anomaly</th>\n",
       "      <th>changepoint</th>\n",
       "      <th>trend</th>\n",
       "      <th>noise</th>\n",
       "      <th>seasonality1</th>\n",
       "      <th>seasonality2</th>\n",
       "      <th>seasonality3</th>\n",
       "    </tr>\n",
       "  </thead>\n",
       "  <tbody>\n",
       "    <tr>\n",
       "      <th>0</th>\n",
       "      <td>2014-11-23 06:00:00</td>\n",
       "      <td>-10.733965</td>\n",
       "      <td>0</td>\n",
       "      <td>0</td>\n",
       "      <td>0</td>\n",
       "      <td>-10.733965</td>\n",
       "      <td>0.000000</td>\n",
       "      <td>0.000000</td>\n",
       "      <td>0.000000</td>\n",
       "    </tr>\n",
       "    <tr>\n",
       "      <th>1</th>\n",
       "      <td>2014-11-23 07:00:00</td>\n",
       "      <td>65.436235</td>\n",
       "      <td>0</td>\n",
       "      <td>0</td>\n",
       "      <td>0</td>\n",
       "      <td>3.963117</td>\n",
       "      <td>48.050000</td>\n",
       "      <td>12.293905</td>\n",
       "      <td>1.129214</td>\n",
       "    </tr>\n",
       "    <tr>\n",
       "      <th>2</th>\n",
       "      <td>2014-11-23 08:00:00</td>\n",
       "      <td>132.180999</td>\n",
       "      <td>0</td>\n",
       "      <td>0</td>\n",
       "      <td>0</td>\n",
       "      <td>22.949109</td>\n",
       "      <td>83.225041</td>\n",
       "      <td>23.750000</td>\n",
       "      <td>2.256849</td>\n",
       "    </tr>\n",
       "    <tr>\n",
       "      <th>3</th>\n",
       "      <td>2014-11-23 09:00:00</td>\n",
       "      <td>114.318490</td>\n",
       "      <td>0</td>\n",
       "      <td>0</td>\n",
       "      <td>0</td>\n",
       "      <td>-18.750409</td>\n",
       "      <td>96.100000</td>\n",
       "      <td>33.587572</td>\n",
       "      <td>3.381327</td>\n",
       "    </tr>\n",
       "    <tr>\n",
       "      <th>4</th>\n",
       "      <td>2014-11-23 10:00:00</td>\n",
       "      <td>129.018769</td>\n",
       "      <td>0</td>\n",
       "      <td>0</td>\n",
       "      <td>0</td>\n",
       "      <td>0.156444</td>\n",
       "      <td>83.225041</td>\n",
       "      <td>41.136207</td>\n",
       "      <td>4.501076</td>\n",
       "    </tr>\n",
       "    <tr>\n",
       "      <th>...</th>\n",
       "      <td>...</td>\n",
       "      <td>...</td>\n",
       "      <td>...</td>\n",
       "      <td>...</td>\n",
       "      <td>...</td>\n",
       "      <td>...</td>\n",
       "      <td>...</td>\n",
       "      <td>...</td>\n",
       "      <td>...</td>\n",
       "    </tr>\n",
       "    <tr>\n",
       "      <th>1675</th>\n",
       "      <td>2015-02-01 01:00:00</td>\n",
       "      <td>-94.456446</td>\n",
       "      <td>0</td>\n",
       "      <td>0</td>\n",
       "      <td>0</td>\n",
       "      <td>5.089561</td>\n",
       "      <td>-48.050000</td>\n",
       "      <td>-45.881477</td>\n",
       "      <td>-5.614531</td>\n",
       "    </tr>\n",
       "    <tr>\n",
       "      <th>1676</th>\n",
       "      <td>2015-02-01 02:00:00</td>\n",
       "      <td>-153.964623</td>\n",
       "      <td>0</td>\n",
       "      <td>0</td>\n",
       "      <td>0</td>\n",
       "      <td>-25.102299</td>\n",
       "      <td>-83.225041</td>\n",
       "      <td>-41.136207</td>\n",
       "      <td>-4.501076</td>\n",
       "    </tr>\n",
       "    <tr>\n",
       "      <th>1677</th>\n",
       "      <td>2015-02-01 03:00:00</td>\n",
       "      <td>-126.361912</td>\n",
       "      <td>0</td>\n",
       "      <td>0</td>\n",
       "      <td>0</td>\n",
       "      <td>6.706987</td>\n",
       "      <td>-96.100000</td>\n",
       "      <td>-33.587572</td>\n",
       "      <td>-3.381327</td>\n",
       "    </tr>\n",
       "    <tr>\n",
       "      <th>1678</th>\n",
       "      <td>2015-02-01 04:00:00</td>\n",
       "      <td>-113.351106</td>\n",
       "      <td>0</td>\n",
       "      <td>0</td>\n",
       "      <td>0</td>\n",
       "      <td>-4.119215</td>\n",
       "      <td>-83.225041</td>\n",
       "      <td>-23.750000</td>\n",
       "      <td>-2.256849</td>\n",
       "    </tr>\n",
       "    <tr>\n",
       "      <th>1679</th>\n",
       "      <td>2015-02-01 05:00:00</td>\n",
       "      <td>-57.447976</td>\n",
       "      <td>0</td>\n",
       "      <td>0</td>\n",
       "      <td>0</td>\n",
       "      <td>4.025143</td>\n",
       "      <td>-48.050000</td>\n",
       "      <td>-12.293905</td>\n",
       "      <td>-1.129214</td>\n",
       "    </tr>\n",
       "  </tbody>\n",
       "</table>\n",
       "<p>1680 rows × 9 columns</p>\n",
       "</div>"
      ],
      "text/plain": [
       "              timestamps       value  anomaly  changepoint  trend      noise  \\\n",
       "0    2014-11-23 06:00:00  -10.733965        0            0      0 -10.733965   \n",
       "1    2014-11-23 07:00:00   65.436235        0            0      0   3.963117   \n",
       "2    2014-11-23 08:00:00  132.180999        0            0      0  22.949109   \n",
       "3    2014-11-23 09:00:00  114.318490        0            0      0 -18.750409   \n",
       "4    2014-11-23 10:00:00  129.018769        0            0      0   0.156444   \n",
       "...                  ...         ...      ...          ...    ...        ...   \n",
       "1675 2015-02-01 01:00:00  -94.456446        0            0      0   5.089561   \n",
       "1676 2015-02-01 02:00:00 -153.964623        0            0      0 -25.102299   \n",
       "1677 2015-02-01 03:00:00 -126.361912        0            0      0   6.706987   \n",
       "1678 2015-02-01 04:00:00 -113.351106        0            0      0  -4.119215   \n",
       "1679 2015-02-01 05:00:00  -57.447976        0            0      0   4.025143   \n",
       "\n",
       "      seasonality1  seasonality2  seasonality3  \n",
       "0         0.000000      0.000000      0.000000  \n",
       "1        48.050000     12.293905      1.129214  \n",
       "2        83.225041     23.750000      2.256849  \n",
       "3        96.100000     33.587572      3.381327  \n",
       "4        83.225041     41.136207      4.501076  \n",
       "...            ...           ...           ...  \n",
       "1675    -48.050000    -45.881477     -5.614531  \n",
       "1676    -83.225041    -41.136207     -4.501076  \n",
       "1677    -96.100000    -33.587572     -3.381327  \n",
       "1678    -83.225041    -23.750000     -2.256849  \n",
       "1679    -48.050000    -12.293905     -1.129214  \n",
       "\n",
       "[1680 rows x 9 columns]"
      ]
     },
     "execution_count": 12,
     "metadata": {},
     "output_type": "execute_result"
    }
   ],
   "source": [
    "dfarray[3]"
   ]
  },
  {
   "cell_type": "markdown",
   "metadata": {},
   "source": [
    "## Line Charts"
   ]
  },
  {
   "cell_type": "code",
   "execution_count": 13,
   "metadata": {
    "ExecuteTime": {
     "end_time": "2020-09-12T16:28:21.086496Z",
     "start_time": "2020-09-12T16:28:21.019713Z"
    }
   },
   "outputs": [
    {
     "data": {
      "text/plain": [
       "'real_10.csv'"
      ]
     },
     "execution_count": 13,
     "metadata": {},
     "output_type": "execute_result"
    }
   ],
   "source": [
    "all_csv[3].split(\"/\")[-1]"
   ]
  },
  {
   "cell_type": "code",
   "execution_count": 14,
   "metadata": {
    "ExecuteTime": {
     "end_time": "2020-09-12T16:28:21.665912Z",
     "start_time": "2020-09-12T16:28:21.087713Z"
    }
   },
   "outputs": [
    {
     "data": {
      "image/png": "[encoded data removed]",
      "text/plain": [
       "<Figure size 432x288 with 1 Axes>"
      ]
     },
     "metadata": {
      "needs_background": "light"
     },
     "output_type": "display_data"
    },
    {
     "data": {
      "image/png": "[encoded data removed]",
      "text/plain": [
       "<Figure size 432x288 with 1 Axes>"
      ]
     },
     "metadata": {
      "needs_background": "light"
     },
     "output_type": "display_data"
    },
    {
     "data": {
      "image/png": "[encoded data removed]",
      "text/plain": [
       "<Figure size 432x288 with 1 Axes>"
      ]
     },
     "metadata": {
      "needs_background": "light"
     },
     "output_type": "display_data"
    }
   ],
   "source": [
    "for ts in all_csv[:3]:\n",
    "    df = pd.read_csv(ts)\n",
    "    df['timestamp'] = pd.to_datetime(df['timestamp'],unit='s')#format='%f' if formatting required upto nanoseconds\n",
    "    df_indexed = df.set_index('timestamp')\n",
    "    #print(ts,\"\\n\",df_indexed.head())\n",
    "    plt.plot(df_indexed.index,df_indexed['value'])\n",
    "    plt.xlabel=\"Date\"\n",
    "    plt.ylabel=\"Server Traffic\"\n",
    "    plt.gcf().autofmt_xdate()\n",
    "    filename = ts.split(\"/\")[-1]\n",
    "    plt.legend((filename,))\n",
    "    plt.show()"
   ]
  },
  {
   "cell_type": "code",
   "execution_count": 15,
   "metadata": {
    "ExecuteTime": {
     "end_time": "2020-09-12T16:28:22.067055Z",
     "start_time": "2020-09-12T16:28:21.666959Z"
    }
   },
   "outputs": [
    {
     "name": "stdout",
     "output_type": "stream",
     "text": [
      "../data/yahoo/dataset/ydata-labeled-time-series-anomalies-v1_0/A2Benchmark/synthetic_82.csv \n",
      "                           value  is_anomaly\n",
      "timestamp                                  \n",
      "2014-11-23 07:00:00  281.640205           0\n",
      "2014-11-23 08:00:00    7.258396           0\n",
      "2014-11-23 09:00:00  449.860835           0\n",
      "2014-11-23 10:00:00  513.383037           0\n",
      "2014-11-23 11:00:00  399.386940           0\n"
     ]
    },
    {
     "data": {
      "image/png": "[encoded data removed]",
      "text/plain": [
       "<Figure size 432x288 with 1 Axes>"
      ]
     },
     "metadata": {
      "needs_background": "light"
     },
     "output_type": "display_data"
    },
    {
     "name": "stdout",
     "output_type": "stream",
     "text": [
      "../data/yahoo/dataset/ydata-labeled-time-series-anomalies-v1_0/A2Benchmark/synthetic_83.csv \n",
      "                           value  is_anomaly\n",
      "timestamp                                  \n",
      "2014-11-23 07:00:00  302.753961           0\n",
      "2014-11-23 08:00:00   30.241723           0\n",
      "2014-11-23 09:00:00  507.077230           0\n",
      "2014-11-23 10:00:00  587.521533           0\n",
      "2014-11-23 11:00:00  482.179128           0\n"
     ]
    },
    {
     "data": {
      "image/png": "[encoded data removed]",
      "text/plain": [
       "<Figure size 432x288 with 1 Axes>"
      ]
     },
     "metadata": {
      "needs_background": "light"
     },
     "output_type": "display_data"
    },
    {
     "name": "stdout",
     "output_type": "stream",
     "text": [
      "../data/yahoo/dataset/ydata-labeled-time-series-anomalies-v1_0/A2Benchmark/synthetic_84.csv \n",
      "                           value  is_anomaly\n",
      "timestamp                                  \n",
      "2014-11-23 07:00:00 -110.811440           0\n",
      "2014-11-23 08:00:00  152.460160           0\n",
      "2014-11-23 09:00:00  -25.157237           0\n",
      "2014-11-23 10:00:00  628.696974           0\n",
      "2014-11-23 11:00:00  391.617580           0\n"
     ]
    },
    {
     "data": {
      "image/png": "[encoded data removed]",
      "text/plain": [
       "<Figure size 432x288 with 1 Axes>"
      ]
     },
     "metadata": {
      "needs_background": "light"
     },
     "output_type": "display_data"
    }
   ],
   "source": [
    "for ts in all_csv[100:103]:\n",
    "    df = pd.read_csv(ts)\n",
    "    df['timestamp'] = pd.to_datetime(df['timestamp'],unit='s')#format='%f' if formatting required upto nanoseconds\n",
    "    df_indexed = df.set_index('timestamp')\n",
    "    print(ts,\"\\n\",df_indexed.head())\n",
    "    plt.plot(df_indexed.index,df_indexed['value'])\n",
    "    plt.xlabel=\"Date\"\n",
    "    plt.ylabel=\"Server Traffic\"\n",
    "    plt.gcf().autofmt_xdate()\n",
    "    filename = ts.split(\"/\")[-1]\n",
    "    plt.legend((filename,))\n",
    "    plt.show()"
   ]
  },
  {
   "cell_type": "code",
   "execution_count": 16,
   "metadata": {
    "ExecuteTime": {
     "end_time": "2020-09-12T16:28:22.480035Z",
     "start_time": "2020-09-12T16:28:22.068108Z"
    }
   },
   "outputs": [
    {
     "name": "stdout",
     "output_type": "stream",
     "text": [
      "../data/yahoo/dataset/ydata-labeled-time-series-anomalies-v1_0/A3Benchmark/A3Benchmark-TS25.csv \n",
      "                           value  anomaly  changepoint  trend      noise  \\\n",
      "timestamps                                                                \n",
      "2014-11-23 06:00:00   11.341713        0            0      2   9.341713   \n",
      "2014-11-23 07:00:00  243.533251        0            0      4  -7.362254   \n",
      "2014-11-23 08:00:00  487.314427        0            0      6  39.446184   \n",
      "2014-11-23 09:00:00  516.390523        0            0      8 -37.640257   \n",
      "2014-11-23 10:00:00  569.769660        0            0     10  16.636453   \n",
      "\n",
      "                     seasonality1  seasonality2  seasonality3  \n",
      "timestamps                                                     \n",
      "2014-11-23 06:00:00      0.000000      0.000000      0.000000  \n",
      "2014-11-23 07:00:00    177.400000     64.290651      5.204854  \n",
      "2014-11-23 08:00:00    307.265813    124.200000     10.402429  \n",
      "2014-11-23 09:00:00    354.800000    175.645324     15.585455  \n",
      "2014-11-23 10:00:00    307.265813    215.120710     20.746683  \n"
     ]
    },
    {
     "data": {
      "image/png": "[encoded data removed]",
      "text/plain": [
       "<Figure size 432x288 with 1 Axes>"
      ]
     },
     "metadata": {
      "needs_background": "light"
     },
     "output_type": "display_data"
    },
    {
     "name": "stdout",
     "output_type": "stream",
     "text": [
      "../data/yahoo/dataset/ydata-labeled-time-series-anomalies-v1_0/A3Benchmark/A3Benchmark-TS26.csv \n",
      "                           value  anomaly  changepoint  trend      noise  \\\n",
      "timestamps                                                                \n",
      "2014-11-23 06:00:00   -0.520780        0            0      3  -3.520780   \n",
      "2014-11-23 07:00:00  346.437458        0            0      6   7.780571   \n",
      "2014-11-23 08:00:00  603.262588        0            0      9  -0.565907   \n",
      "2014-11-23 09:00:00  739.269307        0            0     12  -6.545397   \n",
      "2014-11-23 10:00:00  754.582636        0            0     15  11.787624   \n",
      "\n",
      "                     seasonality1  seasonality2  seasonality3  \n",
      "timestamps                                                     \n",
      "2014-11-23 06:00:00      0.000000      0.000000      0.000000  \n",
      "2014-11-23 07:00:00    242.500000     80.622133      9.534755  \n",
      "2014-11-23 08:00:00    420.022321    155.750000     19.056174  \n",
      "2014-11-23 09:00:00    485.000000    220.263762     28.550941  \n",
      "2014-11-23 10:00:00    420.022321    269.766913     38.005778  \n"
     ]
    },
    {
     "data": {
      "image/png": "[encoded data removed]",
      "text/plain": [
       "<Figure size 432x288 with 1 Axes>"
      ]
     },
     "metadata": {
      "needs_background": "light"
     },
     "output_type": "display_data"
    },
    {
     "name": "stdout",
     "output_type": "stream",
     "text": [
      "../data/yahoo/dataset/ydata-labeled-time-series-anomalies-v1_0/A3Benchmark/A3Benchmark-TS27.csv \n",
      "                           value  anomaly  changepoint  trend     noise  \\\n",
      "timestamps                                                               \n",
      "2014-11-23 06:00:00    5.599306        0            0      1  4.599306   \n",
      "2014-11-23 07:00:00  149.107093        0            0      2  1.666408   \n",
      "2014-11-23 08:00:00  262.191760        0            0      3 -2.496655   \n",
      "2014-11-23 09:00:00  334.640688        0            0      4  3.881475   \n",
      "2014-11-23 10:00:00  339.301255        0            0      5  3.104116   \n",
      "\n",
      "                     seasonality1  seasonality2  seasonality3  \n",
      "timestamps                                                     \n",
      "2014-11-23 06:00:00      0.000000      0.000000      0.000000  \n",
      "2014-11-23 07:00:00     97.500000     44.956868      2.983817  \n",
      "2014-11-23 08:00:00    168.874954     86.850000      5.963461  \n",
      "2014-11-23 09:00:00    195.000000    122.824448      8.934765  \n",
      "2014-11-23 10:00:00    168.874954    150.428613     11.893573  \n"
     ]
    },
    {
     "data": {
      "image/png": "[encoded data removed]",
      "text/plain": [
       "<Figure size 432x288 with 1 Axes>"
      ]
     },
     "metadata": {
      "needs_background": "light"
     },
     "output_type": "display_data"
    }
   ],
   "source": [
    "for ts in all_csv[200:203]:\n",
    "    df = pd.read_csv(ts)\n",
    "    df['timestamps'] = pd.to_datetime(df['timestamps'],unit='s')#format='%f' if formatting required upto nanoseconds\n",
    "    df_indexed = df.set_index('timestamps')\n",
    "    print(ts,\"\\n\",df_indexed.head())\n",
    "    plt.plot(df_indexed.index,df_indexed['value'])\n",
    "    plt.xlabel=\"Date\"\n",
    "    plt.gcf().autofmt_xdate()\n",
    "    filename = ts.split(\"/\")[-1]\n",
    "    plt.legend((filename,))\n",
    "    plt.show()"
   ]
  },
  {
   "cell_type": "code",
   "execution_count": 17,
   "metadata": {
    "ExecuteTime": {
     "end_time": "2020-09-12T16:28:22.493505Z",
     "start_time": "2020-09-12T16:28:22.480994Z"
    }
   },
   "outputs": [
    {
     "data": {
      "text/html": [
       "<div>\n",
       "<style scoped>\n",
       "    .dataframe tbody tr th:only-of-type {\n",
       "        vertical-align: middle;\n",
       "    }\n",
       "\n",
       "    .dataframe tbody tr th {\n",
       "        vertical-align: top;\n",
       "    }\n",
       "\n",
       "    .dataframe thead th {\n",
       "        text-align: right;\n",
       "    }\n",
       "</style>\n",
       "<table border=\"1\" class=\"dataframe\">\n",
       "  <thead>\n",
       "    <tr style=\"text-align: right;\">\n",
       "      <th></th>\n",
       "      <th>timestamps</th>\n",
       "      <th>value</th>\n",
       "      <th>anomaly</th>\n",
       "      <th>changepoint</th>\n",
       "      <th>trend</th>\n",
       "      <th>noise</th>\n",
       "      <th>seasonality1</th>\n",
       "      <th>seasonality2</th>\n",
       "      <th>seasonality3</th>\n",
       "    </tr>\n",
       "  </thead>\n",
       "  <tbody>\n",
       "    <tr>\n",
       "      <th>0</th>\n",
       "      <td>2014-11-23 06:00:00</td>\n",
       "      <td>5.599306</td>\n",
       "      <td>0</td>\n",
       "      <td>0</td>\n",
       "      <td>1</td>\n",
       "      <td>4.599306</td>\n",
       "      <td>0.000000</td>\n",
       "      <td>0.000000</td>\n",
       "      <td>0.000000</td>\n",
       "    </tr>\n",
       "    <tr>\n",
       "      <th>1</th>\n",
       "      <td>2014-11-23 07:00:00</td>\n",
       "      <td>149.107093</td>\n",
       "      <td>0</td>\n",
       "      <td>0</td>\n",
       "      <td>2</td>\n",
       "      <td>1.666408</td>\n",
       "      <td>97.500000</td>\n",
       "      <td>44.956868</td>\n",
       "      <td>2.983817</td>\n",
       "    </tr>\n",
       "    <tr>\n",
       "      <th>2</th>\n",
       "      <td>2014-11-23 08:00:00</td>\n",
       "      <td>262.191760</td>\n",
       "      <td>0</td>\n",
       "      <td>0</td>\n",
       "      <td>3</td>\n",
       "      <td>-2.496655</td>\n",
       "      <td>168.874954</td>\n",
       "      <td>86.850000</td>\n",
       "      <td>5.963461</td>\n",
       "    </tr>\n",
       "    <tr>\n",
       "      <th>3</th>\n",
       "      <td>2014-11-23 09:00:00</td>\n",
       "      <td>334.640688</td>\n",
       "      <td>0</td>\n",
       "      <td>0</td>\n",
       "      <td>4</td>\n",
       "      <td>3.881475</td>\n",
       "      <td>195.000000</td>\n",
       "      <td>122.824448</td>\n",
       "      <td>8.934765</td>\n",
       "    </tr>\n",
       "    <tr>\n",
       "      <th>4</th>\n",
       "      <td>2014-11-23 10:00:00</td>\n",
       "      <td>339.301255</td>\n",
       "      <td>0</td>\n",
       "      <td>0</td>\n",
       "      <td>5</td>\n",
       "      <td>3.104116</td>\n",
       "      <td>168.874954</td>\n",
       "      <td>150.428613</td>\n",
       "      <td>11.893573</td>\n",
       "    </tr>\n",
       "    <tr>\n",
       "      <th>...</th>\n",
       "      <td>...</td>\n",
       "      <td>...</td>\n",
       "      <td>...</td>\n",
       "      <td>...</td>\n",
       "      <td>...</td>\n",
       "      <td>...</td>\n",
       "      <td>...</td>\n",
       "      <td>...</td>\n",
       "      <td>...</td>\n",
       "    </tr>\n",
       "    <tr>\n",
       "      <th>1675</th>\n",
       "      <td>2015-02-01 01:00:00</td>\n",
       "      <td>1393.877395</td>\n",
       "      <td>0</td>\n",
       "      <td>0</td>\n",
       "      <td>1676</td>\n",
       "      <td>-2.005543</td>\n",
       "      <td>-97.500000</td>\n",
       "      <td>-167.781316</td>\n",
       "      <td>-14.835746</td>\n",
       "    </tr>\n",
       "    <tr>\n",
       "      <th>1676</th>\n",
       "      <td>2015-02-01 02:00:00</td>\n",
       "      <td>1342.165188</td>\n",
       "      <td>0</td>\n",
       "      <td>0</td>\n",
       "      <td>1677</td>\n",
       "      <td>-3.637673</td>\n",
       "      <td>-168.874954</td>\n",
       "      <td>-150.428613</td>\n",
       "      <td>-11.893573</td>\n",
       "    </tr>\n",
       "    <tr>\n",
       "      <th>1677</th>\n",
       "      <td>2015-02-01 03:00:00</td>\n",
       "      <td>1352.112264</td>\n",
       "      <td>0</td>\n",
       "      <td>0</td>\n",
       "      <td>1678</td>\n",
       "      <td>0.871477</td>\n",
       "      <td>-195.000000</td>\n",
       "      <td>-122.824448</td>\n",
       "      <td>-8.934765</td>\n",
       "    </tr>\n",
       "    <tr>\n",
       "      <th>1678</th>\n",
       "      <td>2015-02-01 04:00:00</td>\n",
       "      <td>1411.990770</td>\n",
       "      <td>0</td>\n",
       "      <td>0</td>\n",
       "      <td>1679</td>\n",
       "      <td>-5.320815</td>\n",
       "      <td>-168.874954</td>\n",
       "      <td>-86.850000</td>\n",
       "      <td>-5.963461</td>\n",
       "    </tr>\n",
       "    <tr>\n",
       "      <th>1679</th>\n",
       "      <td>2015-02-01 05:00:00</td>\n",
       "      <td>1534.395813</td>\n",
       "      <td>0</td>\n",
       "      <td>0</td>\n",
       "      <td>1680</td>\n",
       "      <td>-0.163502</td>\n",
       "      <td>-97.500000</td>\n",
       "      <td>-44.956868</td>\n",
       "      <td>-2.983817</td>\n",
       "    </tr>\n",
       "  </tbody>\n",
       "</table>\n",
       "<p>1680 rows × 9 columns</p>\n",
       "</div>"
      ],
      "text/plain": [
       "              timestamps        value  anomaly  changepoint  trend     noise  \\\n",
       "0    2014-11-23 06:00:00     5.599306        0            0      1  4.599306   \n",
       "1    2014-11-23 07:00:00   149.107093        0            0      2  1.666408   \n",
       "2    2014-11-23 08:00:00   262.191760        0            0      3 -2.496655   \n",
       "3    2014-11-23 09:00:00   334.640688        0            0      4  3.881475   \n",
       "4    2014-11-23 10:00:00   339.301255        0            0      5  3.104116   \n",
       "...                  ...          ...      ...          ...    ...       ...   \n",
       "1675 2015-02-01 01:00:00  1393.877395        0            0   1676 -2.005543   \n",
       "1676 2015-02-01 02:00:00  1342.165188        0            0   1677 -3.637673   \n",
       "1677 2015-02-01 03:00:00  1352.112264        0            0   1678  0.871477   \n",
       "1678 2015-02-01 04:00:00  1411.990770        0            0   1679 -5.320815   \n",
       "1679 2015-02-01 05:00:00  1534.395813        0            0   1680 -0.163502   \n",
       "\n",
       "      seasonality1  seasonality2  seasonality3  \n",
       "0         0.000000      0.000000      0.000000  \n",
       "1        97.500000     44.956868      2.983817  \n",
       "2       168.874954     86.850000      5.963461  \n",
       "3       195.000000    122.824448      8.934765  \n",
       "4       168.874954    150.428613     11.893573  \n",
       "...            ...           ...           ...  \n",
       "1675    -97.500000   -167.781316    -14.835746  \n",
       "1676   -168.874954   -150.428613    -11.893573  \n",
       "1677   -195.000000   -122.824448     -8.934765  \n",
       "1678   -168.874954    -86.850000     -5.963461  \n",
       "1679    -97.500000    -44.956868     -2.983817  \n",
       "\n",
       "[1680 rows x 9 columns]"
      ]
     },
     "execution_count": 17,
     "metadata": {},
     "output_type": "execute_result"
    }
   ],
   "source": [
    "df"
   ]
  },
  {
   "cell_type": "code",
   "execution_count": 18,
   "metadata": {
    "ExecuteTime": {
     "end_time": "2020-09-12T16:28:23.762562Z",
     "start_time": "2020-09-12T16:28:22.494443Z"
    }
   },
   "outputs": [
    {
     "name": "stdout",
     "output_type": "stream",
     "text": [
      "../data/yahoo/dataset/ydata-labeled-time-series-anomalies-v1_0/A4Benchmark/A4Benchmark-TS91.csv \n",
      "                           value  anomaly  changepoint  trend      noise  \\\n",
      "timestamps                                                                \n",
      "2014-11-23 06:00:00  -63.304891        0            0      0 -63.304891   \n",
      "2014-11-23 07:00:00  110.404803        0            0      0  38.336686   \n",
      "2014-11-23 08:00:00  152.500637        0            0      0  22.828544   \n",
      "2014-11-23 09:00:00  172.375913        0            0      0  10.446097   \n",
      "2014-11-23 10:00:00  134.924514        0            0      0 -29.258890   \n",
      "\n",
      "                     seasonality1  seasonality2  seasonality3  \n",
      "timestamps                                                     \n",
      "2014-11-23 06:00:00      0.000000      0.000000      0.000000  \n",
      "2014-11-23 07:00:00     48.500000     21.507863      2.060255  \n",
      "2014-11-23 08:00:00     84.004464     41.550000      4.117628  \n",
      "2014-11-23 09:00:00     97.000000     58.760574      6.169243  \n",
      "2014-11-23 10:00:00     84.004464     71.966711      8.212229  \n"
     ]
    },
    {
     "data": {
      "image/png": "[encoded data removed]",
      "text/plain": [
       "<Figure size 432x288 with 1 Axes>"
      ]
     },
     "metadata": {
      "needs_background": "light"
     },
     "output_type": "display_data"
    },
    {
     "name": "stdout",
     "output_type": "stream",
     "text": [
      "../data/yahoo/dataset/ydata-labeled-time-series-anomalies-v1_0/A4Benchmark/A4Benchmark-TS92.csv \n",
      "                           value  anomaly  changepoint  trend      noise  \\\n",
      "timestamps                                                                \n",
      "2014-11-23 06:00:00  -28.253893        0            0     -3 -25.253893   \n",
      "2014-11-23 07:00:00  125.360218        0            0     -6   5.808067   \n",
      "2014-11-23 08:00:00  177.409450        0            0     -9 -38.110548   \n",
      "2014-11-23 09:00:00  314.797132        0            0    -12  49.794616   \n",
      "2014-11-23 10:00:00  205.162192        0            0    -15 -54.542200   \n",
      "\n",
      "                     seasonality1  seasonality2  seasonality3  \n",
      "timestamps                                                     \n",
      "2014-11-23 06:00:00      0.000000      0.000000      0.000000  \n",
      "2014-11-23 07:00:00     91.000000     32.248853      2.303298  \n",
      "2014-11-23 08:00:00    157.616623     62.300000      4.603374  \n",
      "2014-11-23 09:00:00    182.000000     88.105505      6.897012  \n",
      "2014-11-23 10:00:00    157.616623    107.906765      9.181004  \n"
     ]
    },
    {
     "data": {
      "image/png": "[encoded data removed]",
      "text/plain": [
       "<Figure size 432x288 with 1 Axes>"
      ]
     },
     "metadata": {
      "needs_background": "light"
     },
     "output_type": "display_data"
    },
    {
     "name": "stdout",
     "output_type": "stream",
     "text": [
      "../data/yahoo/dataset/ydata-labeled-time-series-anomalies-v1_0/A4Benchmark/A4Benchmark-TS93.csv \n",
      "                            value  anomaly  changepoint  trend       noise  \\\n",
      "timestamps                                                                  \n",
      "2014-11-23 06:00:00  -169.457082        0            0      2 -171.457082   \n",
      "2014-11-23 07:00:00   633.018826        0            0      4   50.478472   \n",
      "2014-11-23 08:00:00  1126.379471        0            0      6   78.213069   \n",
      "2014-11-23 09:00:00  1205.146926        0            0      8 -107.268319   \n",
      "2014-11-23 10:00:00   918.554680        0            0     10 -419.707486   \n",
      "\n",
      "                     seasonality1  seasonality2  seasonality3  \n",
      "timestamps                                                     \n",
      "2014-11-23 06:00:00      0.000000      0.000000      0.000000  \n",
      "2014-11-23 07:00:00    385.200000    171.234680     22.105674  \n",
      "2014-11-23 08:00:00    667.185971    330.800000     44.180431  \n",
      "2014-11-23 09:00:00    770.400000    467.821846     66.193398  \n",
      "2014-11-23 10:00:00    667.185971    572.962407     88.113788  \n"
     ]
    },
    {
     "data": {
      "image/png": "[encoded data removed]",
      "text/plain": [
       "<Figure size 432x288 with 1 Axes>"
      ]
     },
     "metadata": {
      "needs_background": "light"
     },
     "output_type": "display_data"
    }
   ],
   "source": [
    "for ts in all_csv[300:303]:\n",
    "    df = pd.read_csv(ts)\n",
    "    df['timestamps'] = pd.to_datetime(df['timestamps'],unit='s')#format='%f' if formatting required upto nanoseconds\n",
    "    df_indexed = df.set_index('timestamps')\n",
    "    print(ts,\"\\n\",df_indexed.head())\n",
    "    plt.plot(df_indexed.index,df_indexed['value'])\n",
    "    plt.xlabel=\"Date\"\n",
    "    plt.gcf().autofmt_xdate()\n",
    "    filename = ts.split(\"/\")[-1]\n",
    "    plt.legend((filename,))\n",
    "    plt.show()"
   ]
  },
  {
   "cell_type": "markdown",
   "metadata": {},
   "source": [
    "## Box Plots"
   ]
  },
  {
   "cell_type": "code",
   "execution_count": 19,
   "metadata": {
    "ExecuteTime": {
     "end_time": "2020-09-12T16:28:23.789763Z",
     "start_time": "2020-09-12T16:28:23.764227Z"
    }
   },
   "outputs": [
    {
     "name": "stdout",
     "output_type": "stream",
     "text": [
      "2014-11\n",
      "                            value   period\n",
      "timestamps                               \n",
      "2014-11-23 06:00:00  -169.457082  2014-11\n",
      "2014-11-23 07:00:00   633.018826  2014-11\n",
      "2014-11-23 08:00:00  1126.379471  2014-11\n",
      "2014-11-23 09:00:00  1205.146926  2014-11\n",
      "2014-11-23 10:00:00   918.554680  2014-11\n",
      "...                          ...      ...\n",
      "2014-11-30 19:00:00   903.624130  2014-11\n",
      "2014-11-30 20:00:00  1104.794141  2014-11\n",
      "2014-11-30 21:00:00  1096.998424  2014-11\n",
      "2014-11-30 22:00:00  1209.060080  2014-11\n",
      "2014-11-30 23:00:00   617.240340  2014-11\n",
      "\n",
      "[186 rows x 2 columns]\n",
      "2014-12\n",
      "                            value   period\n",
      "timestamps                               \n",
      "2014-12-01 00:00:00   134.542860  2014-12\n",
      "2014-12-01 01:00:00  -266.080445  2014-12\n",
      "2014-12-01 02:00:00  -396.367501  2014-12\n",
      "2014-12-01 03:00:00  -323.662216  2014-12\n",
      "2014-12-01 04:00:00  -166.547403  2014-12\n",
      "...                          ...      ...\n",
      "2014-12-31 19:00:00  -155.305026  2014-12\n",
      "2014-12-31 20:00:00   204.525839  2014-12\n",
      "2014-12-31 21:00:00  -726.282074  2014-12\n",
      "2014-12-31 22:00:00  -655.507735  2014-12\n",
      "2014-12-31 23:00:00 -1240.205108  2014-12\n",
      "\n",
      "[744 rows x 2 columns]\n",
      "2015-01\n",
      "                            value   period\n",
      "timestamps                               \n",
      "2015-01-01 00:00:00 -1748.896969  2015-01\n",
      "2015-01-01 01:00:00 -1803.403708  2015-01\n",
      "2015-01-01 02:00:00 -2413.820745  2015-01\n",
      "2015-01-01 03:00:00 -2448.579994  2015-01\n",
      "2015-01-01 04:00:00 -2624.312936  2015-01\n",
      "...                          ...      ...\n",
      "2015-01-31 19:00:00 -1577.200559  2015-01\n",
      "2015-01-31 20:00:00 -1743.025691  2015-01\n",
      "2015-01-31 21:00:00 -1480.543572  2015-01\n",
      "2015-01-31 22:00:00 -1580.172436  2015-01\n",
      "2015-01-31 23:00:00 -1898.947011  2015-01\n",
      "\n",
      "[744 rows x 2 columns]\n",
      "2015-02\n",
      "                            value   period\n",
      "timestamps                               \n",
      "2015-02-01 00:00:00 -2233.021791  2015-02\n",
      "2015-02-01 01:00:00 -2373.395215  2015-02\n",
      "2015-02-01 02:00:00 -2773.151295  2015-02\n",
      "2015-02-01 03:00:00 -2523.171583  2015-02\n",
      "2015-02-01 04:00:00 -2411.604108  2015-02\n",
      "2015-02-01 05:00:00 -2059.603475  2015-02\n"
     ]
    },
    {
     "name": "stderr",
     "output_type": "stream",
     "text": [
      "<ipython-input-19-7f917fd32c21>:2: SettingWithCopyWarning: \n",
      "A value is trying to be set on a copy of a slice from a DataFrame.\n",
      "Try using .loc[row_indexer,col_indexer] = value instead\n",
      "\n",
      "See the caveats in the documentation: https://pandas.pydata.org/pandas-docs/stable/user_guide/indexing.html#returning-a-view-versus-a-copy\n",
      "  df['period'] = df.index.to_period('M')\n"
     ]
    }
   ],
   "source": [
    "df = df_indexed[['value']]\n",
    "df['period'] = df.index.to_period('M')\n",
    "\n",
    "groupeddf = df.groupby(df['period'])\n",
    "#print(groupeddf)\n",
    "\n",
    "for month, monthdf in groupeddf:\n",
    "    print(month)\n",
    "    print(\"\",monthdf)"
   ]
  },
  {
   "cell_type": "code",
   "execution_count": 20,
   "metadata": {
    "ExecuteTime": {
     "end_time": "2020-09-12T16:28:24.197055Z",
     "start_time": "2020-09-12T16:28:23.790827Z"
    }
   },
   "outputs": [
    {
     "data": {
      "image/png": "[encoded data removed]",
      "text/plain": [
       "<Figure size 432x288 with 1 Axes>"
      ]
     },
     "metadata": {
      "needs_background": "light"
     },
     "output_type": "display_data"
    }
   ],
   "source": [
    "df.boxplot(by='period')\n",
    "plt.xlabel='Month'\n",
    "plt.ylabel='Precipitation(mm)'\n",
    "#plt.title('Month vs Precipitation across all years')"
   ]
  },
  {
   "cell_type": "markdown",
   "metadata": {},
   "source": [
    "## Box plots in a loop"
   ]
  },
  {
   "cell_type": "code",
   "execution_count": 21,
   "metadata": {
    "ExecuteTime": {
     "end_time": "2020-09-12T16:28:24.658173Z",
     "start_time": "2020-09-12T16:28:24.198257Z"
    },
    "scrolled": true
   },
   "outputs": [
    {
     "name": "stdout",
     "output_type": "stream",
     "text": [
      "../data/yahoo/dataset/ydata-labeled-time-series-anomalies-v1_0/A4Benchmark/A4Benchmark-TS91.csv \n",
      "                           value  anomaly  changepoint  trend      noise  \\\n",
      "timestamps                                                                \n",
      "2014-11-23 06:00:00  -63.304891        0            0      0 -63.304891   \n",
      "2014-11-23 07:00:00  110.404803        0            0      0  38.336686   \n",
      "2014-11-23 08:00:00  152.500637        0            0      0  22.828544   \n",
      "2014-11-23 09:00:00  172.375913        0            0      0  10.446097   \n",
      "2014-11-23 10:00:00  134.924514        0            0      0 -29.258890   \n",
      "\n",
      "                     seasonality1  seasonality2  seasonality3  \n",
      "timestamps                                                     \n",
      "2014-11-23 06:00:00      0.000000      0.000000      0.000000  \n",
      "2014-11-23 07:00:00     48.500000     21.507863      2.060255  \n",
      "2014-11-23 08:00:00     84.004464     41.550000      4.117628  \n",
      "2014-11-23 09:00:00     97.000000     58.760574      6.169243  \n",
      "2014-11-23 10:00:00     84.004464     71.966711      8.212229  \n"
     ]
    },
    {
     "name": "stderr",
     "output_type": "stream",
     "text": [
      "<ipython-input-21-0e56a9549b57>:7: SettingWithCopyWarning: \n",
      "A value is trying to be set on a copy of a slice from a DataFrame.\n",
      "Try using .loc[row_indexer,col_indexer] = value instead\n",
      "\n",
      "See the caveats in the documentation: https://pandas.pydata.org/pandas-docs/stable/user_guide/indexing.html#returning-a-view-versus-a-copy\n",
      "  df['period'] = df.index.to_period('M')\n"
     ]
    },
    {
     "data": {
      "image/png": "[encoded data removed]",
      "text/plain": [
       "<Figure size 432x288 with 1 Axes>"
      ]
     },
     "metadata": {
      "needs_background": "light"
     },
     "output_type": "display_data"
    },
    {
     "name": "stdout",
     "output_type": "stream",
     "text": [
      "../data/yahoo/dataset/ydata-labeled-time-series-anomalies-v1_0/A4Benchmark/A4Benchmark-TS92.csv \n",
      "                           value  anomaly  changepoint  trend      noise  \\\n",
      "timestamps                                                                \n",
      "2014-11-23 06:00:00  -28.253893        0            0     -3 -25.253893   \n",
      "2014-11-23 07:00:00  125.360218        0            0     -6   5.808067   \n",
      "2014-11-23 08:00:00  177.409450        0            0     -9 -38.110548   \n",
      "2014-11-23 09:00:00  314.797132        0            0    -12  49.794616   \n",
      "2014-11-23 10:00:00  205.162192        0            0    -15 -54.542200   \n",
      "\n",
      "                     seasonality1  seasonality2  seasonality3  \n",
      "timestamps                                                     \n",
      "2014-11-23 06:00:00      0.000000      0.000000      0.000000  \n",
      "2014-11-23 07:00:00     91.000000     32.248853      2.303298  \n",
      "2014-11-23 08:00:00    157.616623     62.300000      4.603374  \n",
      "2014-11-23 09:00:00    182.000000     88.105505      6.897012  \n",
      "2014-11-23 10:00:00    157.616623    107.906765      9.181004  \n"
     ]
    },
    {
     "name": "stderr",
     "output_type": "stream",
     "text": [
      "<ipython-input-21-0e56a9549b57>:7: SettingWithCopyWarning: \n",
      "A value is trying to be set on a copy of a slice from a DataFrame.\n",
      "Try using .loc[row_indexer,col_indexer] = value instead\n",
      "\n",
      "See the caveats in the documentation: https://pandas.pydata.org/pandas-docs/stable/user_guide/indexing.html#returning-a-view-versus-a-copy\n",
      "  df['period'] = df.index.to_period('M')\n"
     ]
    },
    {
     "data": {
      "image/png": "[encoded data removed]",
      "text/plain": [
       "<Figure size 432x288 with 1 Axes>"
      ]
     },
     "metadata": {
      "needs_background": "light"
     },
     "output_type": "display_data"
    },
    {
     "name": "stdout",
     "output_type": "stream",
     "text": [
      "../data/yahoo/dataset/ydata-labeled-time-series-anomalies-v1_0/A4Benchmark/A4Benchmark-TS93.csv \n",
      "                            value  anomaly  changepoint  trend       noise  \\\n",
      "timestamps                                                                  \n",
      "2014-11-23 06:00:00  -169.457082        0            0      2 -171.457082   \n",
      "2014-11-23 07:00:00   633.018826        0            0      4   50.478472   \n",
      "2014-11-23 08:00:00  1126.379471        0            0      6   78.213069   \n",
      "2014-11-23 09:00:00  1205.146926        0            0      8 -107.268319   \n",
      "2014-11-23 10:00:00   918.554680        0            0     10 -419.707486   \n",
      "\n",
      "                     seasonality1  seasonality2  seasonality3  \n",
      "timestamps                                                     \n",
      "2014-11-23 06:00:00      0.000000      0.000000      0.000000  \n",
      "2014-11-23 07:00:00    385.200000    171.234680     22.105674  \n",
      "2014-11-23 08:00:00    667.185971    330.800000     44.180431  \n",
      "2014-11-23 09:00:00    770.400000    467.821846     66.193398  \n",
      "2014-11-23 10:00:00    667.185971    572.962407     88.113788  \n"
     ]
    },
    {
     "name": "stderr",
     "output_type": "stream",
     "text": [
      "<ipython-input-21-0e56a9549b57>:7: SettingWithCopyWarning: \n",
      "A value is trying to be set on a copy of a slice from a DataFrame.\n",
      "Try using .loc[row_indexer,col_indexer] = value instead\n",
      "\n",
      "See the caveats in the documentation: https://pandas.pydata.org/pandas-docs/stable/user_guide/indexing.html#returning-a-view-versus-a-copy\n",
      "  df['period'] = df.index.to_period('M')\n"
     ]
    },
    {
     "data": {
      "image/png": "[encoded data removed]",
      "text/plain": [
       "<Figure size 432x288 with 1 Axes>"
      ]
     },
     "metadata": {
      "needs_background": "light"
     },
     "output_type": "display_data"
    }
   ],
   "source": [
    "for ts in all_csv[300:303]:\n",
    "    df = pd.read_csv(ts)\n",
    "    df['timestamps'] = pd.to_datetime(df['timestamps'],unit='s')#format='%f' if formatting required upto nanoseconds\n",
    "    df_indexed = df.set_index('timestamps')\n",
    "    print(ts,\"\\n\",df_indexed.head())\n",
    "    df = df_indexed[['value']]\n",
    "    df['period'] = df.index.to_period('M')\n",
    "    groupeddf = df.groupby(df['period'])\n",
    "    df.boxplot(by='period')\n",
    "    #print(groupeddf)\n",
    "    # for month, monthdf in groupeddf:\n",
    "    #     print(month)\n",
    "    #     print(\"\",monthdf)\n",
    "#     plt.xlabel='Month'\n",
    "#     plt.ylabel='Precipitation(mm)'\n",
    "    plt.gcf().autofmt_xdate()\n",
    "    filename = ts.split(\"/\")[-1]\n",
    "    plt.legend((filename,))\n",
    "    plt.show()\n"
   ]
  },
  {
   "cell_type": "markdown",
   "metadata": {},
   "source": [
    "## Accessing the Data\n",
    "\n",
    "The yahoo dataset consists of 4 folders, \n",
    "the series in the 1 folder are real (server traffic, i think) values\n",
    "the others are synthetically generated values. \n",
    "From what I have observed, the values in each folder are not scaled similarly(in terms of the values.)\n",
    "So I believe it makes sense to read and process these files folder-wise separately"
   ]
  },
  {
   "cell_type": "markdown",
   "metadata": {},
   "source": [
    "Below is a quick way of using glob to read all the csv filenames into one list. Remember to import the datetime and the glob libaries"
   ]
  },
  {
   "cell_type": "code",
   "execution_count": 11,
   "metadata": {},
   "outputs": [
    {
     "name": "stdout",
     "output_type": "stream",
     "text": [
      "Loaded the paths of 367 files from disk. Took 0:00:00.001142\n"
     ]
    }
   ],
   "source": [
    "start_time = datetime.now()\n",
    "a2_csv = glob.glob(f'../data/yahoo/dataset/ydata-labeled-time-series-anomalies-v1_0/A2Benchmark/**/*.csv', recursive=True)\n",
    "end_time = datetime.now()\n",
    "print(f'Loaded the paths of {len(all_csv)} files from disk. Took {end_time-start_time}')"
   ]
  },
  {
   "cell_type": "markdown",
   "metadata": {},
   "source": [
    "Once you have done that, it is easy to write a for loop to process each time-series. In this loop I also preprocess and set the index of the time series to the timestamp column. This makes it usable with some stochatic modelling classes in statsmodels and scikitlearn."
   ]
  },
  {
   "cell_type": "code",
   "execution_count": 21,
   "metadata": {
    "ExecuteTime": {
     "end_time": "2020-09-18T21:39:36.322582Z",
     "start_time": "2020-09-18T21:39:36.292037Z"
    }
   },
   "outputs": [
    {
     "name": "stdout",
     "output_type": "stream",
     "text": [
      "Loaded the paths of 67 files from disk. Begin processing at: 2020-09-18 15:38:28.927378\n",
      "Processing index: 0 of 67\n",
      "Data:\n",
      "                     value  is_anomaly\n",
      "timestamp                             \n",
      "1970-01-01 00:00:01      0           0\n",
      "1970-01-01 00:00:02    153           0\n",
      "1970-01-01 00:00:03    159           0\n",
      "1970-01-01 00:00:04    188           0\n",
      "1970-01-01 00:00:05    116           0\n",
      "Mean: 178.202817, StandardDeviation: 156.308281\n",
      "Standardized values:\n",
      "                        value  is_anomaly\n",
      "timestamp                                \n",
      "1970-01-01 00:00:01 -1.140073           0\n",
      "1970-01-01 00:00:02 -0.161238           0\n",
      "1970-01-01 00:00:03 -0.122852           0\n",
      "1970-01-01 00:00:04  0.062679           0\n",
      "1970-01-01 00:00:05 -0.397950           0\n",
      "Normalized values:\n",
      "                        value  is_anomaly\n",
      "timestamp                                \n",
      "1970-01-01 00:00:01  0.000000           0\n",
      "1970-01-01 00:00:02  0.045795           0\n",
      "1970-01-01 00:00:03  0.047591           0\n",
      "1970-01-01 00:00:04  0.056271           0\n",
      "1970-01-01 00:00:05  0.034720           0\n",
      "\n",
      "\n",
      "\n",
      "\n",
      "Data:\n",
      "                     value  is_anomaly\n",
      "timestamp                             \n",
      "1970-01-01 00:00:01      5           0\n",
      "1970-01-01 00:00:02     60           0\n",
      "1970-01-01 00:00:03     88           0\n",
      "1970-01-01 00:00:04     84           0\n",
      "1970-01-01 00:00:05    111           0\n",
      "Mean: 104.173577, StandardDeviation: 475.068036\n",
      "Standardized values:\n",
      "                        value  is_anomaly\n",
      "timestamp                                \n",
      "1970-01-01 00:00:01 -0.208757           0\n",
      "1970-01-01 00:00:02 -0.092984           0\n",
      "1970-01-01 00:00:03 -0.034045           0\n",
      "1970-01-01 00:00:04 -0.042465           0\n",
      "1970-01-01 00:00:05  0.014369           0\n",
      "Normalized values:\n",
      "                        value  is_anomaly\n",
      "timestamp                                \n",
      "1970-01-01 00:00:01  0.000000           0\n",
      "1970-01-01 00:00:02  0.004342           0\n",
      "1970-01-01 00:00:03  0.006552           0\n",
      "1970-01-01 00:00:04  0.006236           0\n",
      "1970-01-01 00:00:05  0.008368           0\n",
      "\n",
      "\n",
      "\n",
      "\n"
     ]
    }
   ],
   "source": [
    "a1_csv = glob.glob(f'../data/yahoo/dataset/ydata-labeled-time-series-anomalies-v1_0/A1Benchmark/**/*.csv', recursive=True)\n",
    "print(f'Loaded the paths of {len(a1_csv)} files from disk. Begin processing at: {start_time}')\n",
    "for index,file in enumerate(a1_csv):\n",
    "    if index%10 == 0:\n",
    "        print(f'Processing index: {index} of {len(a1_csv)}')\n",
    "    if index > 1:\n",
    "         break\n",
    "    fname = file.split(\"/\")[5].replace('\\\\','').split(\".\")[0]\n",
    "    df = pd.read_csv(file)\n",
    "    df['timestamp'] = pd.to_datetime(df['timestamp'],unit='s')\n",
    "    df_indexed = df.set_index('timestamp')\n",
    "        \n",
    "    print(\"Data:\")\n",
    "    print(df_indexed.head())\n",
    "    \n",
    "    scaler2 = StandardScaler()\n",
    "    stddf = df_indexed.copy()\n",
    "    for col in stddf.columns:\n",
    "        if col not in [\"timestamp\",\"is_anomaly\"]:\n",
    "            stddf[col] = scaler2.fit_transform(np.reshape(df_indexed[col].values,(len(df_indexed[col].values),1)))\n",
    "\n",
    "    print('Mean: %f, StandardDeviation: %f' % (scaler2.mean_, sqrt(scaler2.var_)))\n",
    "    print(\"Standardized values:\")\n",
    "    print(stddf.head()) \n",
    "    \n",
    "    scaler = MinMaxScaler(feature_range=(0, 1))\n",
    "#scaler = scaler.fit(np.reshape(masked[col].values,(len(masked[col]),1)))        \n",
    "    scaleddf = stddf.copy()\n",
    "    for col in scaleddf.columns:\n",
    "        if col not in [\"timestamp\",\"is_anomaly\"]:\n",
    "            scaleddf[col] = scaler.fit_transform(np.reshape(df_indexed[col].values,(len(df_indexed[col].values),1)))\n",
    "    print(\"Normalized values:\")\n",
    "    print(scaleddf.head())\n",
    "    \n",
    "    print(\"\\n\\n\\n\")"
   ]
  },
  {
   "cell_type": "markdown",
   "metadata": {},
   "source": [
    "# NASA Statlog Shuttle Dataset – UCI  \n",
    "\n",
    " \n",
    "\n",
    "Released Date: 2013(maybe) \n",
    "\n",
    "Designed for : Supervised Anomaly detection. \n",
    "\n",
    "Size: 1.77 MB \n",
    "\n",
    "The shuttle dataset describes radiator positions in a NASA space shuttle with 9 attributes and was designed for supervised anomaly detection.  \n",
    "\n",
    "Besides the normal “radiator flow” class, about 20% of the original data describe abnormal situations.  \n",
    "\n",
    "Training and test set are combined in a single big dataset, which has as a result 46,464 instances with 1.89% anomalies.\n",
    "(cite from Goldstein, Markus, and Seiichi Uchida. \"A comparative evaluation of unsupervised anomaly detection algorithms for multivariate data.\" PloS one 11.4 (2016): e0152173.) "
   ]
  },
  {
   "cell_type": "code",
   "execution_count": 22,
   "metadata": {
    "ExecuteTime": {
     "end_time": "2020-09-12T16:28:24.662128Z",
     "start_time": "2020-09-12T16:28:24.659083Z"
    }
   },
   "outputs": [
    {
     "data": {
      "text/plain": [
       "['cleaned_nasa.csv',\n",
       " 'shuttle.doc',\n",
       " 'shuttle.trn',\n",
       " 'shuttle.trn.Z',\n",
       " 'shuttle.tst']"
      ]
     },
     "execution_count": 22,
     "metadata": {},
     "output_type": "execute_result"
    }
   ],
   "source": [
    "os.listdir(\"../data/nasa/\")"
   ]
  },
  {
   "cell_type": "markdown",
   "metadata": {},
   "source": [
    "## Features"
   ]
  },
  {
   "cell_type": "code",
   "execution_count": 23,
   "metadata": {
    "ExecuteTime": {
     "end_time": "2020-09-12T16:28:24.769763Z",
     "start_time": "2020-09-12T16:28:24.664181Z"
    }
   },
   "outputs": [
    {
     "data": {
      "text/html": [
       "<div>\n",
       "<style scoped>\n",
       "    .dataframe tbody tr th:only-of-type {\n",
       "        vertical-align: middle;\n",
       "    }\n",
       "\n",
       "    .dataframe tbody tr th {\n",
       "        vertical-align: top;\n",
       "    }\n",
       "\n",
       "    .dataframe thead th {\n",
       "        text-align: right;\n",
       "    }\n",
       "</style>\n",
       "<table border=\"1\" class=\"dataframe\">\n",
       "  <thead>\n",
       "    <tr style=\"text-align: right;\">\n",
       "      <th></th>\n",
       "      <th>ID</th>\n",
       "      <th>time</th>\n",
       "      <th>Rad Flow</th>\n",
       "      <th>Fpv Close</th>\n",
       "      <th>Fpv Open</th>\n",
       "      <th>High</th>\n",
       "      <th>Bypass</th>\n",
       "      <th>Bpv Open</th>\n",
       "      <th>Bpv Close</th>\n",
       "      <th>class</th>\n",
       "    </tr>\n",
       "  </thead>\n",
       "  <tbody>\n",
       "    <tr>\n",
       "      <th>0</th>\n",
       "      <td>50</td>\n",
       "      <td>21</td>\n",
       "      <td>77</td>\n",
       "      <td>0</td>\n",
       "      <td>28</td>\n",
       "      <td>0</td>\n",
       "      <td>27</td>\n",
       "      <td>48</td>\n",
       "      <td>22</td>\n",
       "      <td>2</td>\n",
       "    </tr>\n",
       "    <tr>\n",
       "      <th>1</th>\n",
       "      <td>55</td>\n",
       "      <td>0</td>\n",
       "      <td>92</td>\n",
       "      <td>0</td>\n",
       "      <td>0</td>\n",
       "      <td>26</td>\n",
       "      <td>36</td>\n",
       "      <td>92</td>\n",
       "      <td>56</td>\n",
       "      <td>4</td>\n",
       "    </tr>\n",
       "    <tr>\n",
       "      <th>2</th>\n",
       "      <td>53</td>\n",
       "      <td>0</td>\n",
       "      <td>82</td>\n",
       "      <td>0</td>\n",
       "      <td>52</td>\n",
       "      <td>-5</td>\n",
       "      <td>29</td>\n",
       "      <td>30</td>\n",
       "      <td>2</td>\n",
       "      <td>1</td>\n",
       "    </tr>\n",
       "    <tr>\n",
       "      <th>3</th>\n",
       "      <td>37</td>\n",
       "      <td>0</td>\n",
       "      <td>76</td>\n",
       "      <td>0</td>\n",
       "      <td>28</td>\n",
       "      <td>18</td>\n",
       "      <td>40</td>\n",
       "      <td>48</td>\n",
       "      <td>8</td>\n",
       "      <td>1</td>\n",
       "    </tr>\n",
       "    <tr>\n",
       "      <th>4</th>\n",
       "      <td>37</td>\n",
       "      <td>0</td>\n",
       "      <td>79</td>\n",
       "      <td>0</td>\n",
       "      <td>34</td>\n",
       "      <td>-26</td>\n",
       "      <td>43</td>\n",
       "      <td>46</td>\n",
       "      <td>2</td>\n",
       "      <td>1</td>\n",
       "    </tr>\n",
       "    <tr>\n",
       "      <th>...</th>\n",
       "      <td>...</td>\n",
       "      <td>...</td>\n",
       "      <td>...</td>\n",
       "      <td>...</td>\n",
       "      <td>...</td>\n",
       "      <td>...</td>\n",
       "      <td>...</td>\n",
       "      <td>...</td>\n",
       "      <td>...</td>\n",
       "      <td>...</td>\n",
       "    </tr>\n",
       "    <tr>\n",
       "      <th>43495</th>\n",
       "      <td>46</td>\n",
       "      <td>5</td>\n",
       "      <td>78</td>\n",
       "      <td>0</td>\n",
       "      <td>46</td>\n",
       "      <td>5</td>\n",
       "      <td>32</td>\n",
       "      <td>32</td>\n",
       "      <td>0</td>\n",
       "      <td>1</td>\n",
       "    </tr>\n",
       "    <tr>\n",
       "      <th>43496</th>\n",
       "      <td>37</td>\n",
       "      <td>0</td>\n",
       "      <td>79</td>\n",
       "      <td>-1</td>\n",
       "      <td>10</td>\n",
       "      <td>3</td>\n",
       "      <td>43</td>\n",
       "      <td>69</td>\n",
       "      <td>26</td>\n",
       "      <td>1</td>\n",
       "    </tr>\n",
       "    <tr>\n",
       "      <th>43497</th>\n",
       "      <td>48</td>\n",
       "      <td>0</td>\n",
       "      <td>78</td>\n",
       "      <td>3</td>\n",
       "      <td>46</td>\n",
       "      <td>0</td>\n",
       "      <td>30</td>\n",
       "      <td>32</td>\n",
       "      <td>2</td>\n",
       "      <td>1</td>\n",
       "    </tr>\n",
       "    <tr>\n",
       "      <th>43498</th>\n",
       "      <td>41</td>\n",
       "      <td>0</td>\n",
       "      <td>79</td>\n",
       "      <td>0</td>\n",
       "      <td>38</td>\n",
       "      <td>-25</td>\n",
       "      <td>38</td>\n",
       "      <td>40</td>\n",
       "      <td>2</td>\n",
       "      <td>1</td>\n",
       "    </tr>\n",
       "    <tr>\n",
       "      <th>43499</th>\n",
       "      <td>40</td>\n",
       "      <td>-3</td>\n",
       "      <td>100</td>\n",
       "      <td>0</td>\n",
       "      <td>38</td>\n",
       "      <td>0</td>\n",
       "      <td>61</td>\n",
       "      <td>62</td>\n",
       "      <td>2</td>\n",
       "      <td>1</td>\n",
       "    </tr>\n",
       "  </tbody>\n",
       "</table>\n",
       "<p>43500 rows × 10 columns</p>\n",
       "</div>"
      ],
      "text/plain": [
       "       ID  time  Rad Flow  Fpv Close  Fpv Open  High  Bypass  Bpv Open  \\\n",
       "0      50    21        77          0        28     0      27        48   \n",
       "1      55     0        92          0         0    26      36        92   \n",
       "2      53     0        82          0        52    -5      29        30   \n",
       "3      37     0        76          0        28    18      40        48   \n",
       "4      37     0        79          0        34   -26      43        46   \n",
       "...    ..   ...       ...        ...       ...   ...     ...       ...   \n",
       "43495  46     5        78          0        46     5      32        32   \n",
       "43496  37     0        79         -1        10     3      43        69   \n",
       "43497  48     0        78          3        46     0      30        32   \n",
       "43498  41     0        79          0        38   -25      38        40   \n",
       "43499  40    -3       100          0        38     0      61        62   \n",
       "\n",
       "       Bpv Close  class  \n",
       "0             22      2  \n",
       "1             56      4  \n",
       "2              2      1  \n",
       "3              8      1  \n",
       "4              2      1  \n",
       "...          ...    ...  \n",
       "43495          0      1  \n",
       "43496         26      1  \n",
       "43497          2      1  \n",
       "43498          2      1  \n",
       "43499          2      1  \n",
       "\n",
       "[43500 rows x 10 columns]"
      ]
     },
     "execution_count": 23,
     "metadata": {},
     "output_type": "execute_result"
    }
   ],
   "source": [
    "colnames = ['ID','time','Rad Flow','Fpv Close','Fpv Open', 'High','Bypass','Bpv Open','Bpv Close','class']\n",
    "dfnasa = pd.read_csv(\"../data/nasa/shuttle.trn/shuttle.trn\",names=colnames,sep=\" \")\n",
    "dfnasa"
   ]
  },
  {
   "cell_type": "code",
   "execution_count": 24,
   "metadata": {
    "ExecuteTime": {
     "end_time": "2020-09-12T16:28:25.386881Z",
     "start_time": "2020-09-12T16:28:24.770745Z"
    }
   },
   "outputs": [
    {
     "data": {
      "text/html": [
       "<div>\n",
       "<style scoped>\n",
       "    .dataframe tbody tr th:only-of-type {\n",
       "        vertical-align: middle;\n",
       "    }\n",
       "\n",
       "    .dataframe tbody tr th {\n",
       "        vertical-align: top;\n",
       "    }\n",
       "\n",
       "    .dataframe thead th {\n",
       "        text-align: right;\n",
       "    }\n",
       "</style>\n",
       "<table border=\"1\" class=\"dataframe\">\n",
       "  <thead>\n",
       "    <tr style=\"text-align: right;\">\n",
       "      <th></th>\n",
       "      <th>ID</th>\n",
       "      <th>time</th>\n",
       "      <th>Rad Flow</th>\n",
       "      <th>Fpv Close</th>\n",
       "      <th>Fpv Open</th>\n",
       "      <th>High</th>\n",
       "      <th>Bypass</th>\n",
       "      <th>Bpv Open</th>\n",
       "      <th>Bpv Close</th>\n",
       "      <th>class</th>\n",
       "    </tr>\n",
       "  </thead>\n",
       "  <tbody>\n",
       "    <tr>\n",
       "      <th>0</th>\n",
       "      <td>55</td>\n",
       "      <td>0</td>\n",
       "      <td>81</td>\n",
       "      <td>0</td>\n",
       "      <td>-6</td>\n",
       "      <td>11</td>\n",
       "      <td>25</td>\n",
       "      <td>88</td>\n",
       "      <td>64</td>\n",
       "      <td>4</td>\n",
       "    </tr>\n",
       "    <tr>\n",
       "      <th>1</th>\n",
       "      <td>56</td>\n",
       "      <td>0</td>\n",
       "      <td>96</td>\n",
       "      <td>0</td>\n",
       "      <td>52</td>\n",
       "      <td>-4</td>\n",
       "      <td>40</td>\n",
       "      <td>44</td>\n",
       "      <td>4</td>\n",
       "      <td>4</td>\n",
       "    </tr>\n",
       "    <tr>\n",
       "      <th>2</th>\n",
       "      <td>50</td>\n",
       "      <td>-1</td>\n",
       "      <td>89</td>\n",
       "      <td>-7</td>\n",
       "      <td>50</td>\n",
       "      <td>0</td>\n",
       "      <td>39</td>\n",
       "      <td>40</td>\n",
       "      <td>2</td>\n",
       "      <td>1</td>\n",
       "    </tr>\n",
       "    <tr>\n",
       "      <th>3</th>\n",
       "      <td>53</td>\n",
       "      <td>9</td>\n",
       "      <td>79</td>\n",
       "      <td>0</td>\n",
       "      <td>42</td>\n",
       "      <td>-2</td>\n",
       "      <td>25</td>\n",
       "      <td>37</td>\n",
       "      <td>12</td>\n",
       "      <td>4</td>\n",
       "    </tr>\n",
       "    <tr>\n",
       "      <th>4</th>\n",
       "      <td>55</td>\n",
       "      <td>2</td>\n",
       "      <td>82</td>\n",
       "      <td>0</td>\n",
       "      <td>54</td>\n",
       "      <td>-6</td>\n",
       "      <td>26</td>\n",
       "      <td>28</td>\n",
       "      <td>2</td>\n",
       "      <td>1</td>\n",
       "    </tr>\n",
       "    <tr>\n",
       "      <th>...</th>\n",
       "      <td>...</td>\n",
       "      <td>...</td>\n",
       "      <td>...</td>\n",
       "      <td>...</td>\n",
       "      <td>...</td>\n",
       "      <td>...</td>\n",
       "      <td>...</td>\n",
       "      <td>...</td>\n",
       "      <td>...</td>\n",
       "      <td>...</td>\n",
       "    </tr>\n",
       "    <tr>\n",
       "      <th>14495</th>\n",
       "      <td>80</td>\n",
       "      <td>0</td>\n",
       "      <td>84</td>\n",
       "      <td>0</td>\n",
       "      <td>-36</td>\n",
       "      <td>-29</td>\n",
       "      <td>4</td>\n",
       "      <td>120</td>\n",
       "      <td>116</td>\n",
       "      <td>5</td>\n",
       "    </tr>\n",
       "    <tr>\n",
       "      <th>14496</th>\n",
       "      <td>55</td>\n",
       "      <td>0</td>\n",
       "      <td>81</td>\n",
       "      <td>0</td>\n",
       "      <td>-20</td>\n",
       "      <td>25</td>\n",
       "      <td>26</td>\n",
       "      <td>102</td>\n",
       "      <td>76</td>\n",
       "      <td>4</td>\n",
       "    </tr>\n",
       "    <tr>\n",
       "      <th>14497</th>\n",
       "      <td>55</td>\n",
       "      <td>0</td>\n",
       "      <td>77</td>\n",
       "      <td>0</td>\n",
       "      <td>12</td>\n",
       "      <td>-22</td>\n",
       "      <td>22</td>\n",
       "      <td>65</td>\n",
       "      <td>42</td>\n",
       "      <td>4</td>\n",
       "    </tr>\n",
       "    <tr>\n",
       "      <th>14498</th>\n",
       "      <td>37</td>\n",
       "      <td>0</td>\n",
       "      <td>103</td>\n",
       "      <td>0</td>\n",
       "      <td>18</td>\n",
       "      <td>-16</td>\n",
       "      <td>66</td>\n",
       "      <td>85</td>\n",
       "      <td>20</td>\n",
       "      <td>1</td>\n",
       "    </tr>\n",
       "    <tr>\n",
       "      <th>14499</th>\n",
       "      <td>56</td>\n",
       "      <td>2</td>\n",
       "      <td>98</td>\n",
       "      <td>0</td>\n",
       "      <td>52</td>\n",
       "      <td>1</td>\n",
       "      <td>42</td>\n",
       "      <td>46</td>\n",
       "      <td>4</td>\n",
       "      <td>4</td>\n",
       "    </tr>\n",
       "  </tbody>\n",
       "</table>\n",
       "<p>14500 rows × 10 columns</p>\n",
       "</div>"
      ],
      "text/plain": [
       "       ID  time  Rad Flow  Fpv Close  Fpv Open  High  Bypass  Bpv Open  \\\n",
       "0      55     0        81          0        -6    11      25        88   \n",
       "1      56     0        96          0        52    -4      40        44   \n",
       "2      50    -1        89         -7        50     0      39        40   \n",
       "3      53     9        79          0        42    -2      25        37   \n",
       "4      55     2        82          0        54    -6      26        28   \n",
       "...    ..   ...       ...        ...       ...   ...     ...       ...   \n",
       "14495  80     0        84          0       -36   -29       4       120   \n",
       "14496  55     0        81          0       -20    25      26       102   \n",
       "14497  55     0        77          0        12   -22      22        65   \n",
       "14498  37     0       103          0        18   -16      66        85   \n",
       "14499  56     2        98          0        52     1      42        46   \n",
       "\n",
       "       Bpv Close  class  \n",
       "0             64      4  \n",
       "1              4      4  \n",
       "2              2      1  \n",
       "3             12      4  \n",
       "4              2      1  \n",
       "...          ...    ...  \n",
       "14495        116      5  \n",
       "14496         76      4  \n",
       "14497         42      4  \n",
       "14498         20      1  \n",
       "14499          4      4  \n",
       "\n",
       "[14500 rows x 10 columns]"
      ]
     },
     "execution_count": 24,
     "metadata": {},
     "output_type": "execute_result"
    }
   ],
   "source": [
    "colnames = ['ID','time','Rad Flow','Fpv Close','Fpv Open', 'High','Bypass','Bpv Open','Bpv Close','class']\n",
    "dftest = pd.read_csv(\"../data/nasa/shuttle.tst\",names=colnames,sep=\" \")\n",
    "dftest"
   ]
  },
  {
   "cell_type": "markdown",
   "metadata": {},
   "source": [
    "## Exploring Anomalies in the Datasets"
   ]
  },
  {
   "cell_type": "code",
   "execution_count": 25,
   "metadata": {
    "ExecuteTime": {
     "end_time": "2020-09-12T16:28:25.517615Z",
     "start_time": "2020-09-12T16:28:25.388693Z"
    }
   },
   "outputs": [],
   "source": [
    "classlist = list(dfnasa['class'])\n",
    "\n",
    "uniqueclass = set(list(dfnasa['class']))\n",
    "\n",
    "mfreq = map(lambda p:classlist.count(p),uniqueclass)"
   ]
  },
  {
   "cell_type": "code",
   "execution_count": 26,
   "metadata": {
    "ExecuteTime": {
     "end_time": "2020-09-12T16:28:25.700078Z",
     "start_time": "2020-09-12T16:28:25.520741Z"
    }
   },
   "outputs": [
    {
     "name": "stdout",
     "output_type": "stream",
     "text": [
      "class : count\n",
      "1     : 34108\n",
      "2     : 37\n",
      "3     : 132\n",
      "4     : 6748\n",
      "5     : 2458\n",
      "6     : 6\n",
      "7     : 11\n"
     ]
    }
   ],
   "source": [
    "ctr = 0\n",
    "dic = {}\n",
    "print(\"class : count\")\n",
    "for i in mfreq:\n",
    "    dic[list(uniqueclass)[ctr]] = i\n",
    "    print(list(uniqueclass)[ctr],\"    :\",i)\n",
    "    ctr +=1"
   ]
  },
  {
   "cell_type": "code",
   "execution_count": 27,
   "metadata": {
    "ExecuteTime": {
     "end_time": "2020-09-12T16:28:26.452922Z",
     "start_time": "2020-09-12T16:28:25.702928Z"
    },
    "scrolled": true
   },
   "outputs": [
    {
     "name": "stdout",
     "output_type": "stream",
     "text": [
      "{1: 34108, 2: 37, 3: 132, 4: 6748, 5: 2458, 6: 6, 7: 11}\n"
     ]
    },
    {
     "data": {
      "image/png": "[encoded data removed]",
      "text/plain": [
       "<Figure size 432x288 with 1 Axes>"
      ]
     },
     "metadata": {
      "needs_background": "light"
     },
     "output_type": "display_data"
    }
   ],
   "source": [
    "import matplotlib.pyplot as plt\n",
    "print(dic)\n",
    "ax = plt.gca()\n",
    "plt.bar(list(dic.keys()), dic.values(), color='g')\n",
    "ax.set_xlabel(\"Classes\")\n",
    "ax.set_ylabel(\"Number of Data points\")\n",
    "plt.show()"
   ]
  },
  {
   "cell_type": "markdown",
   "metadata": {},
   "source": [
    "Here it is suggested by the good folks at the stonybrook university suggest that this data be treated as follows: \n",
    "    \n",
    "    \"Here, the training and test data are combined. The smallest five classes, i.e. 2, 3, 5, 6, 7 are combined to form the outliers class, while class 1 forms the inlier class. Data for class 4 is discarded.\""
   ]
  },
  {
   "cell_type": "markdown",
   "metadata": {},
   "source": [
    "## Data Preprocessing"
   ]
  },
  {
   "cell_type": "code",
   "execution_count": 29,
   "metadata": {
    "ExecuteTime": {
     "end_time": "2020-09-12T16:28:42.828048Z",
     "start_time": "2020-09-12T16:28:42.789189Z"
    }
   },
   "outputs": [
    {
     "name": "stdout",
     "output_type": "stream",
     "text": [
      "Merged shuttle.trn and shuttle.tst, size: 580000\n",
      "Removed Class 4 records: resulting size: 490970\n",
      "   ID  time  Rad Flow  Fpv Close  Fpv Open  High  Bypass  Bpv Open  Bpv Close  \\\n",
      "0  50    21        77          0        28     0      27        48         22   \n",
      "2  53     0        82          0        52    -5      29        30          2   \n",
      "3  37     0        76          0        28    18      40        48          8   \n",
      "4  37     0        79          0        34   -26      43        46          2   \n",
      "5  85     0        88         -4         6     1       3        83         80   \n",
      "\n",
      "   class  outlier  \n",
      "0      2        1  \n",
      "2      1        0  \n",
      "3      1        0  \n",
      "4      1        0  \n",
      "5      5        1  \n",
      "   time  Rad Flow  Fpv Close  Fpv Open  High  Bypass  Bpv Open  Bpv Close  \\\n",
      "0    21        77          0        28     0      27        48         22   \n",
      "2     0        82          0        52    -5      29        30          2   \n",
      "3     0        76          0        28    18      40        48          8   \n",
      "4     0        79          0        34   -26      43        46          2   \n",
      "\n",
      "   class  outlier  \n",
      "0      2        1  \n",
      "2      1        0  \n",
      "3      1        0  \n",
      "4      1        0  \n"
     ]
    }
   ],
   "source": [
    "merged = pd.concat([dfnasa,dftest])\n",
    "print(f'Merged shuttle.trn and shuttle.tst, size: {merged.size}')\n",
    "\n",
    "removeclass4 = merged.loc[merged['class'] != 4]\n",
    "print(f'Removed Class 4 records: resulting size: {removeclass4.size}')\n",
    "\n",
    "labelled = removeclass4.copy()\n",
    "labelled['outlier'] = np.where(labelled['class'] == 1, 0, 1)\n",
    "\n",
    "print(labelled.head())\n",
    "\n",
    "#We don't need the ID column . I think so.\n",
    "masked = labelled.loc[:,labelled.columns != 'ID']\n",
    "print(masked[:4])"
   ]
  },
  {
   "cell_type": "markdown",
   "metadata": {},
   "source": [
    "### Scratchpad for Stdzn and Normzn"
   ]
  },
  {
   "cell_type": "code",
   "execution_count": 30,
   "metadata": {
    "ExecuteTime": {
     "end_time": "2020-09-12T16:28:58.163714Z",
     "start_time": "2020-09-12T16:28:58.147502Z"
    }
   },
   "outputs": [
    {
     "data": {
      "text/html": [
       "<div>\n",
       "<style scoped>\n",
       "    .dataframe tbody tr th:only-of-type {\n",
       "        vertical-align: middle;\n",
       "    }\n",
       "\n",
       "    .dataframe tbody tr th {\n",
       "        vertical-align: top;\n",
       "    }\n",
       "\n",
       "    .dataframe thead th {\n",
       "        text-align: right;\n",
       "    }\n",
       "</style>\n",
       "<table border=\"1\" class=\"dataframe\">\n",
       "  <thead>\n",
       "    <tr style=\"text-align: right;\">\n",
       "      <th></th>\n",
       "      <th>Rad Flow</th>\n",
       "      <th>Fpv Close</th>\n",
       "      <th>Fpv Open</th>\n",
       "      <th>High</th>\n",
       "      <th>Bypass</th>\n",
       "      <th>Bpv Open</th>\n",
       "      <th>Bpv Close</th>\n",
       "    </tr>\n",
       "  </thead>\n",
       "  <tbody>\n",
       "    <tr>\n",
       "      <th>0</th>\n",
       "      <td>0.437500</td>\n",
       "      <td>0.507015</td>\n",
       "      <td>0.346154</td>\n",
       "      <td>0.638117</td>\n",
       "      <td>0.490196</td>\n",
       "      <td>0.643660</td>\n",
       "      <td>0.607717</td>\n",
       "    </tr>\n",
       "    <tr>\n",
       "      <th>1</th>\n",
       "      <td>0.476562</td>\n",
       "      <td>0.507015</td>\n",
       "      <td>0.384615</td>\n",
       "      <td>0.637997</td>\n",
       "      <td>0.503268</td>\n",
       "      <td>0.614767</td>\n",
       "      <td>0.575563</td>\n",
       "    </tr>\n",
       "    <tr>\n",
       "      <th>2</th>\n",
       "      <td>0.429688</td>\n",
       "      <td>0.507015</td>\n",
       "      <td>0.346154</td>\n",
       "      <td>0.638546</td>\n",
       "      <td>0.575163</td>\n",
       "      <td>0.643660</td>\n",
       "      <td>0.585209</td>\n",
       "    </tr>\n",
       "    <tr>\n",
       "      <th>3</th>\n",
       "      <td>0.453125</td>\n",
       "      <td>0.507015</td>\n",
       "      <td>0.355769</td>\n",
       "      <td>0.637496</td>\n",
       "      <td>0.594771</td>\n",
       "      <td>0.640449</td>\n",
       "      <td>0.575563</td>\n",
       "    </tr>\n",
       "    <tr>\n",
       "      <th>4</th>\n",
       "      <td>0.523438</td>\n",
       "      <td>0.506500</td>\n",
       "      <td>0.310897</td>\n",
       "      <td>0.638140</td>\n",
       "      <td>0.333333</td>\n",
       "      <td>0.699839</td>\n",
       "      <td>0.700965</td>\n",
       "    </tr>\n",
       "    <tr>\n",
       "      <th>...</th>\n",
       "      <td>...</td>\n",
       "      <td>...</td>\n",
       "      <td>...</td>\n",
       "      <td>...</td>\n",
       "      <td>...</td>\n",
       "      <td>...</td>\n",
       "      <td>...</td>\n",
       "    </tr>\n",
       "    <tr>\n",
       "      <th>49092</th>\n",
       "      <td>0.460938</td>\n",
       "      <td>0.506500</td>\n",
       "      <td>0.362179</td>\n",
       "      <td>0.638117</td>\n",
       "      <td>0.581699</td>\n",
       "      <td>0.632424</td>\n",
       "      <td>0.572347</td>\n",
       "    </tr>\n",
       "    <tr>\n",
       "      <th>49093</th>\n",
       "      <td>0.468750</td>\n",
       "      <td>0.507144</td>\n",
       "      <td>0.368590</td>\n",
       "      <td>0.637902</td>\n",
       "      <td>0.555556</td>\n",
       "      <td>0.629213</td>\n",
       "      <td>0.575563</td>\n",
       "    </tr>\n",
       "    <tr>\n",
       "      <th>49094</th>\n",
       "      <td>0.515625</td>\n",
       "      <td>0.507015</td>\n",
       "      <td>0.375000</td>\n",
       "      <td>0.637830</td>\n",
       "      <td>0.562092</td>\n",
       "      <td>0.632424</td>\n",
       "      <td>0.575563</td>\n",
       "    </tr>\n",
       "    <tr>\n",
       "      <th>49095</th>\n",
       "      <td>0.492188</td>\n",
       "      <td>0.507015</td>\n",
       "      <td>0.243590</td>\n",
       "      <td>0.637425</td>\n",
       "      <td>0.339869</td>\n",
       "      <td>0.759230</td>\n",
       "      <td>0.758842</td>\n",
       "    </tr>\n",
       "    <tr>\n",
       "      <th>49096</th>\n",
       "      <td>0.640625</td>\n",
       "      <td>0.507015</td>\n",
       "      <td>0.330128</td>\n",
       "      <td>0.637735</td>\n",
       "      <td>0.745098</td>\n",
       "      <td>0.703050</td>\n",
       "      <td>0.604502</td>\n",
       "    </tr>\n",
       "  </tbody>\n",
       "</table>\n",
       "<p>49097 rows × 7 columns</p>\n",
       "</div>"
      ],
      "text/plain": [
       "       Rad Flow  Fpv Close  Fpv Open      High    Bypass  Bpv Open  Bpv Close\n",
       "0      0.437500   0.507015  0.346154  0.638117  0.490196  0.643660   0.607717\n",
       "1      0.476562   0.507015  0.384615  0.637997  0.503268  0.614767   0.575563\n",
       "2      0.429688   0.507015  0.346154  0.638546  0.575163  0.643660   0.585209\n",
       "3      0.453125   0.507015  0.355769  0.637496  0.594771  0.640449   0.575563\n",
       "4      0.523438   0.506500  0.310897  0.638140  0.333333  0.699839   0.700965\n",
       "...         ...        ...       ...       ...       ...       ...        ...\n",
       "49092  0.460938   0.506500  0.362179  0.638117  0.581699  0.632424   0.572347\n",
       "49093  0.468750   0.507144  0.368590  0.637902  0.555556  0.629213   0.575563\n",
       "49094  0.515625   0.507015  0.375000  0.637830  0.562092  0.632424   0.575563\n",
       "49095  0.492188   0.507015  0.243590  0.637425  0.339869  0.759230   0.758842\n",
       "49096  0.640625   0.507015  0.330128  0.637735  0.745098  0.703050   0.604502\n",
       "\n",
       "[49097 rows x 7 columns]"
      ]
     },
     "execution_count": 30,
     "metadata": {},
     "output_type": "execute_result"
    }
   ],
   "source": [
    "scaler = MinMaxScaler(feature_range=(0, 1))\n",
    "#scaler = scaler.fit(np.reshape(masked[col].values,(len(masked[col]),1)))        \n",
    "scaleddf = pd.DataFrame(\n",
    "    scaler.fit_transform(masked[\n",
    "                [col for col in masked.columns if col not in [\"time\",\"class\",\"outlier\"]]\n",
    "    ]),\n",
    "    columns=[col for col in masked.columns if col not in [\"time\",\"class\",\"outlier\"]])\n",
    "scaleddf"
   ]
  },
  {
   "cell_type": "code",
   "execution_count": 31,
   "metadata": {
    "ExecuteTime": {
     "end_time": "2020-09-12T16:28:58.799938Z",
     "start_time": "2020-09-12T16:28:58.773681Z"
    }
   },
   "outputs": [
    {
     "name": "stdout",
     "output_type": "stream",
     "text": [
      "Mean: 10.261930, StandardDeviation: 23.750782\n"
     ]
    },
    {
     "data": {
      "text/html": [
       "<div>\n",
       "<style scoped>\n",
       "    .dataframe tbody tr th:only-of-type {\n",
       "        vertical-align: middle;\n",
       "    }\n",
       "\n",
       "    .dataframe tbody tr th {\n",
       "        vertical-align: top;\n",
       "    }\n",
       "\n",
       "    .dataframe thead th {\n",
       "        text-align: right;\n",
       "    }\n",
       "</style>\n",
       "<table border=\"1\" class=\"dataframe\">\n",
       "  <thead>\n",
       "    <tr style=\"text-align: right;\">\n",
       "      <th></th>\n",
       "      <th>time</th>\n",
       "      <th>Rad Flow</th>\n",
       "      <th>Fpv Close</th>\n",
       "      <th>Fpv Open</th>\n",
       "      <th>High</th>\n",
       "      <th>Bypass</th>\n",
       "      <th>Bpv Open</th>\n",
       "      <th>Bpv Close</th>\n",
       "      <th>class</th>\n",
       "      <th>outlier</th>\n",
       "    </tr>\n",
       "  </thead>\n",
       "  <tbody>\n",
       "    <tr>\n",
       "      <th>0</th>\n",
       "      <td>21</td>\n",
       "      <td>-0.915031</td>\n",
       "      <td>-0.005674</td>\n",
       "      <td>-0.444413</td>\n",
       "      <td>-0.009894</td>\n",
       "      <td>-0.833005</td>\n",
       "      <td>-0.014028</td>\n",
       "      <td>0.494218</td>\n",
       "      <td>2</td>\n",
       "      <td>1</td>\n",
       "    </tr>\n",
       "    <tr>\n",
       "      <th>2</th>\n",
       "      <td>0</td>\n",
       "      <td>-0.351805</td>\n",
       "      <td>-0.005674</td>\n",
       "      <td>0.757816</td>\n",
       "      <td>-0.032796</td>\n",
       "      <td>-0.684264</td>\n",
       "      <td>-0.889010</td>\n",
       "      <td>-0.347859</td>\n",
       "      <td>1</td>\n",
       "      <td>0</td>\n",
       "    </tr>\n",
       "    <tr>\n",
       "      <th>3</th>\n",
       "      <td>0</td>\n",
       "      <td>-1.027677</td>\n",
       "      <td>-0.005674</td>\n",
       "      <td>-0.444413</td>\n",
       "      <td>0.072553</td>\n",
       "      <td>0.133813</td>\n",
       "      <td>-0.014028</td>\n",
       "      <td>-0.095236</td>\n",
       "      <td>1</td>\n",
       "      <td>0</td>\n",
       "    </tr>\n",
       "    <tr>\n",
       "      <th>4</th>\n",
       "      <td>0</td>\n",
       "      <td>-0.689741</td>\n",
       "      <td>-0.005674</td>\n",
       "      <td>-0.143856</td>\n",
       "      <td>-0.128983</td>\n",
       "      <td>0.356925</td>\n",
       "      <td>-0.111249</td>\n",
       "      <td>-0.347859</td>\n",
       "      <td>1</td>\n",
       "      <td>0</td>\n",
       "    </tr>\n",
       "    <tr>\n",
       "      <th>5</th>\n",
       "      <td>0</td>\n",
       "      <td>0.324066</td>\n",
       "      <td>-0.112117</td>\n",
       "      <td>-1.546457</td>\n",
       "      <td>-0.005313</td>\n",
       "      <td>-2.617900</td>\n",
       "      <td>1.687325</td>\n",
       "      <td>2.936243</td>\n",
       "      <td>5</td>\n",
       "      <td>1</td>\n",
       "    </tr>\n",
       "    <tr>\n",
       "      <th>...</th>\n",
       "      <td>...</td>\n",
       "      <td>...</td>\n",
       "      <td>...</td>\n",
       "      <td>...</td>\n",
       "      <td>...</td>\n",
       "      <td>...</td>\n",
       "      <td>...</td>\n",
       "      <td>...</td>\n",
       "      <td>...</td>\n",
       "      <td>...</td>\n",
       "    </tr>\n",
       "    <tr>\n",
       "      <th>14492</th>\n",
       "      <td>-2</td>\n",
       "      <td>-0.577096</td>\n",
       "      <td>-0.112117</td>\n",
       "      <td>0.056516</td>\n",
       "      <td>-0.009894</td>\n",
       "      <td>0.208184</td>\n",
       "      <td>-0.354299</td>\n",
       "      <td>-0.432067</td>\n",
       "      <td>1</td>\n",
       "      <td>0</td>\n",
       "    </tr>\n",
       "    <tr>\n",
       "      <th>14493</th>\n",
       "      <td>0</td>\n",
       "      <td>-0.464450</td>\n",
       "      <td>0.020937</td>\n",
       "      <td>0.256887</td>\n",
       "      <td>-0.051117</td>\n",
       "      <td>-0.089299</td>\n",
       "      <td>-0.451519</td>\n",
       "      <td>-0.347859</td>\n",
       "      <td>1</td>\n",
       "      <td>0</td>\n",
       "    </tr>\n",
       "    <tr>\n",
       "      <th>14494</th>\n",
       "      <td>0</td>\n",
       "      <td>0.211421</td>\n",
       "      <td>-0.005674</td>\n",
       "      <td>0.457259</td>\n",
       "      <td>-0.064858</td>\n",
       "      <td>-0.014928</td>\n",
       "      <td>-0.354299</td>\n",
       "      <td>-0.347859</td>\n",
       "      <td>1</td>\n",
       "      <td>0</td>\n",
       "    </tr>\n",
       "    <tr>\n",
       "      <th>14495</th>\n",
       "      <td>0</td>\n",
       "      <td>-0.126515</td>\n",
       "      <td>-0.005674</td>\n",
       "      <td>-3.650359</td>\n",
       "      <td>-0.142725</td>\n",
       "      <td>-2.543529</td>\n",
       "      <td>3.485899</td>\n",
       "      <td>4.451983</td>\n",
       "      <td>5</td>\n",
       "      <td>1</td>\n",
       "    </tr>\n",
       "    <tr>\n",
       "      <th>14498</th>\n",
       "      <td>0</td>\n",
       "      <td>2.013745</td>\n",
       "      <td>-0.005674</td>\n",
       "      <td>-0.945342</td>\n",
       "      <td>-0.083180</td>\n",
       "      <td>2.067449</td>\n",
       "      <td>1.784545</td>\n",
       "      <td>0.410010</td>\n",
       "      <td>1</td>\n",
       "      <td>0</td>\n",
       "    </tr>\n",
       "  </tbody>\n",
       "</table>\n",
       "<p>49097 rows × 10 columns</p>\n",
       "</div>"
      ],
      "text/plain": [
       "       time  Rad Flow  Fpv Close  Fpv Open      High    Bypass  Bpv Open  \\\n",
       "0        21 -0.915031  -0.005674 -0.444413 -0.009894 -0.833005 -0.014028   \n",
       "2         0 -0.351805  -0.005674  0.757816 -0.032796 -0.684264 -0.889010   \n",
       "3         0 -1.027677  -0.005674 -0.444413  0.072553  0.133813 -0.014028   \n",
       "4         0 -0.689741  -0.005674 -0.143856 -0.128983  0.356925 -0.111249   \n",
       "5         0  0.324066  -0.112117 -1.546457 -0.005313 -2.617900  1.687325   \n",
       "...     ...       ...        ...       ...       ...       ...       ...   \n",
       "14492    -2 -0.577096  -0.112117  0.056516 -0.009894  0.208184 -0.354299   \n",
       "14493     0 -0.464450   0.020937  0.256887 -0.051117 -0.089299 -0.451519   \n",
       "14494     0  0.211421  -0.005674  0.457259 -0.064858 -0.014928 -0.354299   \n",
       "14495     0 -0.126515  -0.005674 -3.650359 -0.142725 -2.543529  3.485899   \n",
       "14498     0  2.013745  -0.005674 -0.945342 -0.083180  2.067449  1.784545   \n",
       "\n",
       "       Bpv Close  class  outlier  \n",
       "0       0.494218      2        1  \n",
       "2      -0.347859      1        0  \n",
       "3      -0.095236      1        0  \n",
       "4      -0.347859      1        0  \n",
       "5       2.936243      5        1  \n",
       "...          ...    ...      ...  \n",
       "14492  -0.432067      1        0  \n",
       "14493  -0.347859      1        0  \n",
       "14494  -0.347859      1        0  \n",
       "14495   4.451983      5        1  \n",
       "14498   0.410010      1        0  \n",
       "\n",
       "[49097 rows x 10 columns]"
      ]
     },
     "execution_count": 31,
     "metadata": {},
     "output_type": "execute_result"
    }
   ],
   "source": [
    "# train the standardization\n",
    "scaler2 = StandardScaler()\n",
    "normdf = masked.copy()\n",
    "for col in normdf.columns:\n",
    "    if col not in [\"time\",\"class\",\"outlier\"]:\n",
    "        normdf[col] = scaler2.fit_transform(np.reshape(masked[col].values,(len(masked[col].values),1)))\n",
    "\n",
    "print('Mean: %f, StandardDeviation: %f' % (scaler2.mean_, sqrt(scaler2.var_)))\n",
    "normdf"
   ]
  },
  {
   "cell_type": "code",
   "execution_count": 32,
   "metadata": {
    "ExecuteTime": {
     "end_time": "2020-09-12T16:28:59.565760Z",
     "start_time": "2020-09-12T16:28:59.517558Z"
    }
   },
   "outputs": [
    {
     "data": {
      "text/html": [
       "<div>\n",
       "<style scoped>\n",
       "    .dataframe tbody tr th:only-of-type {\n",
       "        vertical-align: middle;\n",
       "    }\n",
       "\n",
       "    .dataframe tbody tr th {\n",
       "        vertical-align: top;\n",
       "    }\n",
       "\n",
       "    .dataframe thead th {\n",
       "        text-align: right;\n",
       "    }\n",
       "</style>\n",
       "<table border=\"1\" class=\"dataframe\">\n",
       "  <thead>\n",
       "    <tr style=\"text-align: right;\">\n",
       "      <th></th>\n",
       "      <th>time</th>\n",
       "      <th>Rad Flow</th>\n",
       "      <th>Fpv Close</th>\n",
       "      <th>Fpv Open</th>\n",
       "      <th>High</th>\n",
       "      <th>Bypass</th>\n",
       "      <th>Bpv Open</th>\n",
       "      <th>Bpv Close</th>\n",
       "      <th>class</th>\n",
       "      <th>outlier</th>\n",
       "    </tr>\n",
       "  </thead>\n",
       "  <tbody>\n",
       "    <tr>\n",
       "      <th>0</th>\n",
       "      <td>21</td>\n",
       "      <td>0.437500</td>\n",
       "      <td>0.507015</td>\n",
       "      <td>0.346154</td>\n",
       "      <td>0.638117</td>\n",
       "      <td>0.490196</td>\n",
       "      <td>0.643660</td>\n",
       "      <td>0.607717</td>\n",
       "      <td>2</td>\n",
       "      <td>1</td>\n",
       "    </tr>\n",
       "    <tr>\n",
       "      <th>2</th>\n",
       "      <td>0</td>\n",
       "      <td>0.476562</td>\n",
       "      <td>0.507015</td>\n",
       "      <td>0.384615</td>\n",
       "      <td>0.637997</td>\n",
       "      <td>0.503268</td>\n",
       "      <td>0.614767</td>\n",
       "      <td>0.575563</td>\n",
       "      <td>1</td>\n",
       "      <td>0</td>\n",
       "    </tr>\n",
       "    <tr>\n",
       "      <th>3</th>\n",
       "      <td>0</td>\n",
       "      <td>0.429688</td>\n",
       "      <td>0.507015</td>\n",
       "      <td>0.346154</td>\n",
       "      <td>0.638546</td>\n",
       "      <td>0.575163</td>\n",
       "      <td>0.643660</td>\n",
       "      <td>0.585209</td>\n",
       "      <td>1</td>\n",
       "      <td>0</td>\n",
       "    </tr>\n",
       "    <tr>\n",
       "      <th>4</th>\n",
       "      <td>0</td>\n",
       "      <td>0.453125</td>\n",
       "      <td>0.507015</td>\n",
       "      <td>0.355769</td>\n",
       "      <td>0.637496</td>\n",
       "      <td>0.594771</td>\n",
       "      <td>0.640449</td>\n",
       "      <td>0.575563</td>\n",
       "      <td>1</td>\n",
       "      <td>0</td>\n",
       "    </tr>\n",
       "    <tr>\n",
       "      <th>5</th>\n",
       "      <td>0</td>\n",
       "      <td>0.523438</td>\n",
       "      <td>0.506500</td>\n",
       "      <td>0.310897</td>\n",
       "      <td>0.638140</td>\n",
       "      <td>0.333333</td>\n",
       "      <td>0.699839</td>\n",
       "      <td>0.700965</td>\n",
       "      <td>5</td>\n",
       "      <td>1</td>\n",
       "    </tr>\n",
       "    <tr>\n",
       "      <th>...</th>\n",
       "      <td>...</td>\n",
       "      <td>...</td>\n",
       "      <td>...</td>\n",
       "      <td>...</td>\n",
       "      <td>...</td>\n",
       "      <td>...</td>\n",
       "      <td>...</td>\n",
       "      <td>...</td>\n",
       "      <td>...</td>\n",
       "      <td>...</td>\n",
       "    </tr>\n",
       "    <tr>\n",
       "      <th>14492</th>\n",
       "      <td>-2</td>\n",
       "      <td>0.460938</td>\n",
       "      <td>0.506500</td>\n",
       "      <td>0.362179</td>\n",
       "      <td>0.638117</td>\n",
       "      <td>0.581699</td>\n",
       "      <td>0.632424</td>\n",
       "      <td>0.572347</td>\n",
       "      <td>1</td>\n",
       "      <td>0</td>\n",
       "    </tr>\n",
       "    <tr>\n",
       "      <th>14493</th>\n",
       "      <td>0</td>\n",
       "      <td>0.468750</td>\n",
       "      <td>0.507144</td>\n",
       "      <td>0.368590</td>\n",
       "      <td>0.637902</td>\n",
       "      <td>0.555556</td>\n",
       "      <td>0.629213</td>\n",
       "      <td>0.575563</td>\n",
       "      <td>1</td>\n",
       "      <td>0</td>\n",
       "    </tr>\n",
       "    <tr>\n",
       "      <th>14494</th>\n",
       "      <td>0</td>\n",
       "      <td>0.515625</td>\n",
       "      <td>0.507015</td>\n",
       "      <td>0.375000</td>\n",
       "      <td>0.637830</td>\n",
       "      <td>0.562092</td>\n",
       "      <td>0.632424</td>\n",
       "      <td>0.575563</td>\n",
       "      <td>1</td>\n",
       "      <td>0</td>\n",
       "    </tr>\n",
       "    <tr>\n",
       "      <th>14495</th>\n",
       "      <td>0</td>\n",
       "      <td>0.492188</td>\n",
       "      <td>0.507015</td>\n",
       "      <td>0.243590</td>\n",
       "      <td>0.637425</td>\n",
       "      <td>0.339869</td>\n",
       "      <td>0.759230</td>\n",
       "      <td>0.758842</td>\n",
       "      <td>5</td>\n",
       "      <td>1</td>\n",
       "    </tr>\n",
       "    <tr>\n",
       "      <th>14498</th>\n",
       "      <td>0</td>\n",
       "      <td>0.640625</td>\n",
       "      <td>0.507015</td>\n",
       "      <td>0.330128</td>\n",
       "      <td>0.637735</td>\n",
       "      <td>0.745098</td>\n",
       "      <td>0.703050</td>\n",
       "      <td>0.604502</td>\n",
       "      <td>1</td>\n",
       "      <td>0</td>\n",
       "    </tr>\n",
       "  </tbody>\n",
       "</table>\n",
       "<p>49097 rows × 10 columns</p>\n",
       "</div>"
      ],
      "text/plain": [
       "       time  Rad Flow  Fpv Close  Fpv Open      High    Bypass  Bpv Open  \\\n",
       "0        21  0.437500   0.507015  0.346154  0.638117  0.490196  0.643660   \n",
       "2         0  0.476562   0.507015  0.384615  0.637997  0.503268  0.614767   \n",
       "3         0  0.429688   0.507015  0.346154  0.638546  0.575163  0.643660   \n",
       "4         0  0.453125   0.507015  0.355769  0.637496  0.594771  0.640449   \n",
       "5         0  0.523438   0.506500  0.310897  0.638140  0.333333  0.699839   \n",
       "...     ...       ...        ...       ...       ...       ...       ...   \n",
       "14492    -2  0.460938   0.506500  0.362179  0.638117  0.581699  0.632424   \n",
       "14493     0  0.468750   0.507144  0.368590  0.637902  0.555556  0.629213   \n",
       "14494     0  0.515625   0.507015  0.375000  0.637830  0.562092  0.632424   \n",
       "14495     0  0.492188   0.507015  0.243590  0.637425  0.339869  0.759230   \n",
       "14498     0  0.640625   0.507015  0.330128  0.637735  0.745098  0.703050   \n",
       "\n",
       "       Bpv Close  class  outlier  \n",
       "0       0.607717      2        1  \n",
       "2       0.575563      1        0  \n",
       "3       0.585209      1        0  \n",
       "4       0.575563      1        0  \n",
       "5       0.700965      5        1  \n",
       "...          ...    ...      ...  \n",
       "14492   0.572347      1        0  \n",
       "14493   0.575563      1        0  \n",
       "14494   0.575563      1        0  \n",
       "14495   0.758842      5        1  \n",
       "14498   0.604502      1        0  \n",
       "\n",
       "[49097 rows x 10 columns]"
      ]
     },
     "execution_count": 32,
     "metadata": {},
     "output_type": "execute_result"
    }
   ],
   "source": [
    "scaler = MinMaxScaler(feature_range=(0, 1))\n",
    "#scaler = scaler.fit(np.reshape(masked[col].values,(len(masked[col]),1)))        \n",
    "scaleddf = normdf.copy()\n",
    "for col in scaleddf.columns:\n",
    "    if col not in [\"time\",\"class\",\"outlier\"]:\n",
    "        scaleddf[col] = scaler.fit_transform(np.reshape(masked[col].values,(len(masked[col].values),1)))\n",
    "\n",
    "scaleddf"
   ]
  },
  {
   "cell_type": "code",
   "execution_count": 33,
   "metadata": {
    "ExecuteTime": {
     "end_time": "2020-09-12T16:29:04.815002Z",
     "start_time": "2020-09-12T16:29:01.423566Z"
    },
    "scrolled": true
   },
   "outputs": [
    {
     "name": "stdout",
     "output_type": "stream",
     "text": [
      "Begin Standardization and Normalization\n",
      "Mean: 10.261930, StandardDeviation: 23.750782\n",
      "   time  Rad Flow  Fpv Close  Fpv Open      High    Bypass  Bpv Open  \\\n",
      "0    21 -0.915031  -0.005674 -0.444413 -0.009894 -0.833005 -0.014028   \n",
      "2     0 -0.351805  -0.005674  0.757816 -0.032796 -0.684264 -0.889010   \n",
      "3     0 -1.027677  -0.005674 -0.444413  0.072553  0.133813 -0.014028   \n",
      "4     0 -0.689741  -0.005674 -0.143856 -0.128983  0.356925 -0.111249   \n",
      "5     0  0.324066  -0.112117 -1.546457 -0.005313 -2.617900  1.687325   \n",
      "\n",
      "   Bpv Close  class  outlier  \n",
      "0   0.494218      2        1  \n",
      "2  -0.347859      1        0  \n",
      "3  -0.095236      1        0  \n",
      "4  -0.347859      1        0  \n",
      "5   2.936243      5        1  \n",
      "   time  Rad Flow  Fpv Close  Fpv Open      High    Bypass  Bpv Open  \\\n",
      "0    21  0.437500   0.507015  0.346154  0.638117  0.490196  0.643660   \n",
      "2     0  0.476562   0.507015  0.384615  0.637997  0.503268  0.614767   \n",
      "3     0  0.429688   0.507015  0.346154  0.638546  0.575163  0.643660   \n",
      "4     0  0.453125   0.507015  0.355769  0.637496  0.594771  0.640449   \n",
      "5     0  0.523438   0.506500  0.310897  0.638140  0.333333  0.699839   \n",
      "\n",
      "   Bpv Close  class  outlier  \n",
      "0   0.607717      2        1  \n",
      "2   0.575563      1        0  \n",
      "3   0.585209      1        0  \n",
      "4   0.575563      1        0  \n",
      "5   0.700965      5        1  \n",
      "time\n"
     ]
    },
    {
     "data": {
      "image/png": "[encoded data removed]",
      "text/plain": [
       "<Figure size 432x288 with 1 Axes>"
      ]
     },
     "metadata": {
      "needs_background": "light"
     },
     "output_type": "display_data"
    },
    {
     "data": {
      "image/png": "[encoded data removed]",
      "text/plain": [
       "<Figure size 432x288 with 1 Axes>"
      ]
     },
     "metadata": {
      "needs_background": "light"
     },
     "output_type": "display_data"
    },
    {
     "data": {
      "image/png": "[encoded data removed]",
      "text/plain": [
       "<Figure size 432x288 with 1 Axes>"
      ]
     },
     "metadata": {
      "needs_background": "light"
     },
     "output_type": "display_data"
    },
    {
     "name": "stdout",
     "output_type": "stream",
     "text": [
      "Rad Flow\n"
     ]
    },
    {
     "data": {
      "image/png": "[encoded data removed]",
      "text/plain": [
       "<Figure size 432x288 with 1 Axes>"
      ]
     },
     "metadata": {
      "needs_background": "light"
     },
     "output_type": "display_data"
    },
    {
     "data": {
      "image/png": "[encoded data removed]",
      "text/plain": [
       "<Figure size 432x288 with 1 Axes>"
      ]
     },
     "metadata": {
      "needs_background": "light"
     },
     "output_type": "display_data"
    },
    {
     "data": {
      "image/png": "[encoded data removed]",
      "text/plain": [
       "<Figure size 432x288 with 1 Axes>"
      ]
     },
     "metadata": {
      "needs_background": "light"
     },
     "output_type": "display_data"
    },
    {
     "name": "stdout",
     "output_type": "stream",
     "text": [
      "Fpv Close\n"
     ]
    },
    {
     "data": {
      "image/png": "[encoded data removed]",
      "text/plain": [
       "<Figure size 432x288 with 1 Axes>"
      ]
     },
     "metadata": {
      "needs_background": "light"
     },
     "output_type": "display_data"
    },
    {
     "data": {
      "image/png": "[encoded data removed]",
      "text/plain": [
       "<Figure size 432x288 with 1 Axes>"
      ]
     },
     "metadata": {
      "needs_background": "light"
     },
     "output_type": "display_data"
    },
    {
     "data": {
      "image/png": "[encoded data removed]",
      "text/plain": [
       "<Figure size 432x288 with 1 Axes>"
      ]
     },
     "metadata": {
      "needs_background": "light"
     },
     "output_type": "display_data"
    },
    {
     "name": "stdout",
     "output_type": "stream",
     "text": [
      "Fpv Open\n"
     ]
    },
    {
     "data": {
      "image/png": "[encoded data removed]",
      "text/plain": [
       "<Figure size 432x288 with 1 Axes>"
      ]
     },
     "metadata": {
      "needs_background": "light"
     },
     "output_type": "display_data"
    },
    {
     "data": {
      "image/png": "[encoded data removed]",
      "text/plain": [
       "<Figure size 432x288 with 1 Axes>"
      ]
     },
     "metadata": {
      "needs_background": "light"
     },
     "output_type": "display_data"
    },
    {
     "data": {
      "image/png": "[encoded data removed]",
      "text/plain": [
       "<Figure size 432x288 with 1 Axes>"
      ]
     },
     "metadata": {
      "needs_background": "light"
     },
     "output_type": "display_data"
    },
    {
     "name": "stdout",
     "output_type": "stream",
     "text": [
      "High\n"
     ]
    },
    {
     "data": {
      "image/png": "[encoded data removed]",
      "text/plain": [
       "<Figure size 432x288 with 1 Axes>"
      ]
     },
     "metadata": {
      "needs_background": "light"
     },
     "output_type": "display_data"
    },
    {
     "data": {
      "image/png": "[encoded data removed]",
      "text/plain": [
       "<Figure size 432x288 with 1 Axes>"
      ]
     },
     "metadata": {
      "needs_background": "light"
     },
     "output_type": "display_data"
    },
    {
     "data": {
      "image/png": "[encoded data removed]",
      "text/plain": [
       "<Figure size 432x288 with 1 Axes>"
      ]
     },
     "metadata": {
      "needs_background": "light"
     },
     "output_type": "display_data"
    },
    {
     "name": "stdout",
     "output_type": "stream",
     "text": [
      "Bypass\n"
     ]
    },
    {
     "data": {
      "image/png": "[encoded data removed]",
      "text/plain": [
       "<Figure size 432x288 with 1 Axes>"
      ]
     },
     "metadata": {
      "needs_background": "light"
     },
     "output_type": "display_data"
    },
    {
     "data": {
      "image/png": "[encoded data removed]",
      "text/plain": [
       "<Figure size 432x288 with 1 Axes>"
      ]
     },
     "metadata": {
      "needs_background": "light"
     },
     "output_type": "display_data"
    },
    {
     "data": {
      "image/png": "[encoded data removed]",
      "text/plain": [
       "<Figure size 432x288 with 1 Axes>"
      ]
     },
     "metadata": {
      "needs_background": "light"
     },
     "output_type": "display_data"
    },
    {
     "name": "stdout",
     "output_type": "stream",
     "text": [
      "Bpv Open\n"
     ]
    },
    {
     "data": {
      "image/png": "[encoded data removed]",
      "text/plain": [
       "<Figure size 432x288 with 1 Axes>"
      ]
     },
     "metadata": {
      "needs_background": "light"
     },
     "output_type": "display_data"
    },
    {
     "data": {
      "image/png": "[encoded data removed]",
      "text/plain": [
       "<Figure size 432x288 with 1 Axes>"
      ]
     },
     "metadata": {
      "needs_background": "light"
     },
     "output_type": "display_data"
    },
    {
     "data": {
      "image/png": "[encoded data removed]",
      "text/plain": [
       "<Figure size 432x288 with 1 Axes>"
      ]
     },
     "metadata": {
      "needs_background": "light"
     },
     "output_type": "display_data"
    },
    {
     "name": "stdout",
     "output_type": "stream",
     "text": [
      "Bpv Close\n"
     ]
    },
    {
     "data": {
      "image/png": "[encoded data removed]",
      "text/plain": [
       "<Figure size 432x288 with 1 Axes>"
      ]
     },
     "metadata": {
      "needs_background": "light"
     },
     "output_type": "display_data"
    },
    {
     "data": {
      "image/png": "[encoded data removed]",
      "text/plain": [
       "<Figure size 432x288 with 1 Axes>"
      ]
     },
     "metadata": {
      "needs_background": "light"
     },
     "output_type": "display_data"
    },
    {
     "data": {
      "image/png": "[encoded data removed]",
      "text/plain": [
       "<Figure size 432x288 with 1 Axes>"
      ]
     },
     "metadata": {
      "needs_background": "light"
     },
     "output_type": "display_data"
    },
    {
     "name": "stdout",
     "output_type": "stream",
     "text": [
      "class\n"
     ]
    },
    {
     "data": {
      "image/png": "[encoded data removed]",
      "text/plain": [
       "<Figure size 432x288 with 1 Axes>"
      ]
     },
     "metadata": {
      "needs_background": "light"
     },
     "output_type": "display_data"
    },
    {
     "data": {
      "image/png": "[encoded data removed]",
      "text/plain": [
       "<Figure size 432x288 with 1 Axes>"
      ]
     },
     "metadata": {
      "needs_background": "light"
     },
     "output_type": "display_data"
    },
    {
     "data": {
      "image/png": "[encoded data removed]",
      "text/plain": [
       "<Figure size 432x288 with 1 Axes>"
      ]
     },
     "metadata": {
      "needs_background": "light"
     },
     "output_type": "display_data"
    },
    {
     "name": "stdout",
     "output_type": "stream",
     "text": [
      "outlier\n"
     ]
    },
    {
     "data": {
      "image/png": "[encoded data removed]",
      "text/plain": [
       "<Figure size 432x288 with 1 Axes>"
      ]
     },
     "metadata": {
      "needs_background": "light"
     },
     "output_type": "display_data"
    },
    {
     "data": {
      "image/png": "[encoded data removed]",
      "text/plain": [
       "<Figure size 432x288 with 1 Axes>"
      ]
     },
     "metadata": {
      "needs_background": "light"
     },
     "output_type": "display_data"
    },
    {
     "data": {
      "image/png": "[encoded data removed]",
      "text/plain": [
       "<Figure size 432x288 with 1 Axes>"
      ]
     },
     "metadata": {
      "needs_background": "light"
     },
     "output_type": "display_data"
    }
   ],
   "source": [
    "print('Begin Standardization and Normalization')\n",
    "# train the standardization\n",
    "scaler2 = StandardScaler()\n",
    "standf = masked.copy()\n",
    "for col in standf.columns:\n",
    "    if col not in [\"time\",\"class\",\"outlier\"]:\n",
    "        standf[col] = scaler2.fit_transform(np.reshape(masked[col].values,(len(masked[col].values),1)))\n",
    "\n",
    "print('Mean: %f, StandardDeviation: %f' % (scaler2.mean_, sqrt(scaler2.var_)))\n",
    "print(standf.head())\n",
    "\n",
    "#train the normalization\n",
    "scaler = MinMaxScaler(feature_range=(0, 1))\n",
    "#scaler = scaler.fit(np.reshape(masked[col].values,(len(masked[col]),1)))        \n",
    "normdf = standf.copy()\n",
    "for col in normdf.columns:\n",
    "    if col not in [\"time\",\"class\",\"outlier\"]:\n",
    "        normdf[col] = scaler.fit_transform(np.reshape(masked[col].values,(len(masked[col].values),1)))\n",
    "\n",
    "print(normdf.head())\n",
    "\n",
    "for col in masked.columns:\n",
    "    #if col != 'time':\n",
    "    print(col)\n",
    "    plt.plot(masked[col])\n",
    "    plt.gcf().autofmt_xdate()\n",
    "    plt.show()\n",
    "    plt.plot(standf[col])\n",
    "    plt.gcf().autofmt_xdate()\n",
    "    plt.show()    \n",
    "    plt.plot(normdf[col])\n",
    "    plt.gcf().autofmt_xdate()\n",
    "    plt.show()    \n",
    "\n"
   ]
  },
  {
   "cell_type": "code",
   "execution_count": 34,
   "metadata": {
    "ExecuteTime": {
     "end_time": "2020-09-12T16:31:43.080102Z",
     "start_time": "2020-09-12T16:31:42.870095Z"
    }
   },
   "outputs": [],
   "source": [
    "normdf.index = normdf.time\n",
    "normdf = normdf.sort_index()"
   ]
  },
  {
   "cell_type": "code",
   "execution_count": null,
   "metadata": {
    "ExecuteTime": {
     "end_time": "2020-09-12T16:28:26.560587Z",
     "start_time": "2020-09-12T16:28:15.800Z"
    }
   },
   "outputs": [],
   "source": [
    "labelled.to_csv(\"../data/nasa/cleaned_nasa.csv\")\n",
    "# import csv\n",
    "# with open(\"../data/nasa/cleaned_nasa.csv\",\"w\") as csvfile:\n",
    "#     writer = csv.writer(csvfile)\n",
    "#     for ro"
   ]
  },
  {
   "cell_type": "code",
   "execution_count": 35,
   "metadata": {
    "ExecuteTime": {
     "end_time": "2020-09-12T16:53:19.087648Z",
     "start_time": "2020-09-12T16:53:19.081653Z"
    }
   },
   "outputs": [
    {
     "data": {
      "text/plain": [
       "datetime.datetime(2020, 9, 12, 10, 53, 19, 83475)"
      ]
     },
     "execution_count": 35,
     "metadata": {},
     "output_type": "execute_result"
    }
   ],
   "source": [
    "datetime.now()"
   ]
  },
  {
   "cell_type": "markdown",
   "metadata": {},
   "source": [
    "# Domains of application"
   ]
  },
  {
   "cell_type": "markdown",
   "metadata": {},
   "source": [
    "# Time Series Attributes"
   ]
  },
  {
   "cell_type": "markdown",
   "metadata": {},
   "source": [
    "## Trend"
   ]
  },
  {
   "cell_type": "markdown",
   "metadata": {},
   "source": [
    "## Seasonality"
   ]
  },
  {
   "cell_type": "markdown",
   "metadata": {},
   "source": [
    "## Decomposition"
   ]
  },
  {
   "cell_type": "markdown",
   "metadata": {},
   "source": [
    "## Stationarity\n"
   ]
  },
  {
   "cell_type": "markdown",
   "metadata": {},
   "source": [
    "## Autocorrelation"
   ]
  },
  {
   "cell_type": "markdown",
   "metadata": {},
   "source": [
    "# Analysis Methods and Approaches"
   ]
  },
  {
   "cell_type": "markdown",
   "metadata": {},
   "source": [
    "![methods.png](../img/methods.png)"
   ]
  },
  {
   "cell_type": "markdown",
   "metadata": {},
   "source": [
    "## Normal and Mutation Analysis"
   ]
  },
  {
   "cell_type": "markdown",
   "metadata": {},
   "source": [
    "![TSMAModel](../img/TSMAModel.png)"
   ]
  },
  {
   "cell_type": "markdown",
   "metadata": {},
   "source": [
    "## STL Decomposition"
   ]
  },
  {
   "cell_type": "markdown",
   "metadata": {},
   "source": [
    "## Auto Regressive Model"
   ]
  },
  {
   "cell_type": "markdown",
   "metadata": {},
   "source": [
    "## Moving Average model"
   ]
  },
  {
   "cell_type": "markdown",
   "metadata": {},
   "source": [
    "## ARIMA models"
   ]
  },
  {
   "cell_type": "markdown",
   "metadata": {},
   "source": [
    "## Holt Winters"
   ]
  },
  {
   "cell_type": "markdown",
   "metadata": {},
   "source": [
    "## Isolation Forest"
   ]
  },
  {
   "cell_type": "markdown",
   "metadata": {},
   "source": [
    "Check that is good for anomaly detection"
   ]
  },
  {
   "cell_type": "markdown",
   "metadata": {},
   "source": [
    "## Elliptical Envelope"
   ]
  },
  {
   "cell_type": "markdown",
   "metadata": {},
   "source": [
    "Check that is good for anomaly detection"
   ]
  },
  {
   "cell_type": "markdown",
   "metadata": {},
   "source": [
    "## Local Outlier Factor"
   ]
  },
  {
   "cell_type": "markdown",
   "metadata": {},
   "source": [
    "Check that is good for anomaly detection"
   ]
  },
  {
   "cell_type": "markdown",
   "metadata": {},
   "source": [
    "# Estimation and Accuracy methods"
   ]
  },
  {
   "cell_type": "markdown",
   "metadata": {},
   "source": [
    "$$F_1 = 2 * \\frac{precision + recall}{precision * recall} $$\n",
    "\n",
    "$$precision = \\frac{true\\ positive}{true\\ positive + false\\ positive}$$\n",
    "\n",
    "$$recall = \\frac{true\\ positive}{true\\ positive + false\\ negative}$$"
   ]
  }
 ],
 "metadata": {
  "kernelspec": {
   "display_name": "Python 3",
   "language": "python",
   "name": "python3"
  },
  "language_info": {
   "codemirror_mode": {
    "name": "ipython",
    "version": 3
   },
   "file_extension": ".py",
   "mimetype": "text/x-python",
   "name": "python",
   "nbconvert_exporter": "python",
   "pygments_lexer": "ipython3",
   "version": "3.8.3"
  },
  "toc": {
   "base_numbering": 1,
   "nav_menu": {},
   "number_sections": true,
   "sideBar": true,
   "skip_h1_title": false,
   "title_cell": "Table of Contents",
   "title_sidebar": "Contents",
   "toc_cell": true,
   "toc_position": {
    "height": "calc(100% - 180px)",
    "left": "10px",
    "top": "150px",
    "width": "348.75px"
   },
   "toc_section_display": true,
   "toc_window_display": true
  }
 },
 "nbformat": 4,
 "nbformat_minor": 4
}
